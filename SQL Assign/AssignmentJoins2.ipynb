{
    "metadata": {
        "kernelspec": {
            "name": "SQL",
            "display_name": "SQL",
            "language": "sql"
        },
        "language_info": {
            "name": "sql",
            "version": ""
        }
    },
    "nbformat_minor": 2,
    "nbformat": 4,
    "cells": [
        {
            "cell_type": "code",
            "source": [
                "select max(salary)as max_salary,min(salary)as min_salary,avg(salary)as avg_salary from employees"
            ],
            "metadata": {
                "azdata_cell_guid": "cdbca336-babf-4060-8f91-0518a77dc5b0",
                "language": "sql"
            },
            "outputs": [
                {
                    "output_type": "display_data",
                    "data": {
                        "text/html": "(1 row affected)"
                    },
                    "metadata": {}
                },
                {
                    "output_type": "display_data",
                    "data": {
                        "text/html": "Total execution time: 00:00:00.005"
                    },
                    "metadata": {}
                },
                {
                    "output_type": "execute_result",
                    "metadata": {},
                    "execution_count": 1,
                    "data": {
                        "application/vnd.dataresource+json": {
                            "schema": {
                                "fields": [
                                    {
                                        "name": "max_salary"
                                    },
                                    {
                                        "name": "min_salary"
                                    },
                                    {
                                        "name": "avg_salary"
                                    }
                                ]
                            },
                            "data": [
                                {
                                    "0": "24000.00",
                                    "1": "2500.00",
                                    "2": "8060.000000"
                                }
                            ]
                        },
                        "text/html": [
                            "<table>",
                            "<tr><th>max_salary</th><th>min_salary</th><th>avg_salary</th></tr>",
                            "<tr><td>24000.00</td><td>2500.00</td><td>8060.000000</td></tr>",
                            "</table>"
                        ]
                    }
                }
            ],
            "execution_count": 1
        },
        {
            "cell_type": "code",
            "source": [
                "\r\n",
                "select  sum(salary),department_id from employees group by department_id"
            ],
            "metadata": {
                "language": "sql",
                "azdata_cell_guid": "818493c5-1d93-4121-80ee-b6a3556db823"
            },
            "outputs": [
                {
                    "output_type": "display_data",
                    "data": {
                        "text/html": "(11 rows affected)"
                    },
                    "metadata": {}
                },
                {
                    "output_type": "display_data",
                    "data": {
                        "text/html": "Total execution time: 00:00:00.005"
                    },
                    "metadata": {}
                },
                {
                    "output_type": "execute_result",
                    "metadata": {},
                    "execution_count": 2,
                    "data": {
                        "application/vnd.dataresource+json": {
                            "schema": {
                                "fields": [
                                    {
                                        "name": "(No column name)"
                                    },
                                    {
                                        "name": "department_id"
                                    }
                                ]
                            },
                            "data": [
                                {
                                    "0": "4400.00",
                                    "1": "1"
                                },
                                {
                                    "0": "19000.00",
                                    "1": "2"
                                },
                                {
                                    "0": "24900.00",
                                    "1": "3"
                                },
                                {
                                    "0": "6500.00",
                                    "1": "4"
                                },
                                {
                                    "0": "41200.00",
                                    "1": "5"
                                },
                                {
                                    "0": "28800.00",
                                    "1": "6"
                                },
                                {
                                    "0": "10000.00",
                                    "1": "7"
                                },
                                {
                                    "0": "57700.00",
                                    "1": "8"
                                },
                                {
                                    "0": "58000.00",
                                    "1": "9"
                                },
                                {
                                    "0": "51600.00",
                                    "1": "10"
                                },
                                {
                                    "0": "20300.00",
                                    "1": "11"
                                }
                            ]
                        },
                        "text/html": [
                            "<table>",
                            "<tr><th>(No column name)</th><th>department_id</th></tr>",
                            "<tr><td>4400.00</td><td>1</td></tr>",
                            "<tr><td>19000.00</td><td>2</td></tr>",
                            "<tr><td>24900.00</td><td>3</td></tr>",
                            "<tr><td>6500.00</td><td>4</td></tr>",
                            "<tr><td>41200.00</td><td>5</td></tr>",
                            "<tr><td>28800.00</td><td>6</td></tr>",
                            "<tr><td>10000.00</td><td>7</td></tr>",
                            "<tr><td>57700.00</td><td>8</td></tr>",
                            "<tr><td>58000.00</td><td>9</td></tr>",
                            "<tr><td>51600.00</td><td>10</td></tr>",
                            "<tr><td>20300.00</td><td>11</td></tr>",
                            "</table>"
                        ]
                    }
                }
            ],
            "execution_count": 2
        },
        {
            "cell_type": "code",
            "source": [
                "select department_id, count(employee_id)as no_employees from employees group by department_id"
            ],
            "metadata": {
                "language": "sql",
                "azdata_cell_guid": "c6763189-491f-4ecc-9524-1a6a5cb6798a"
            },
            "outputs": [
                {
                    "output_type": "display_data",
                    "data": {
                        "text/html": "(11 rows affected)"
                    },
                    "metadata": {}
                },
                {
                    "output_type": "display_data",
                    "data": {
                        "text/html": "Total execution time: 00:00:00.004"
                    },
                    "metadata": {}
                },
                {
                    "output_type": "execute_result",
                    "metadata": {},
                    "execution_count": 3,
                    "data": {
                        "application/vnd.dataresource+json": {
                            "schema": {
                                "fields": [
                                    {
                                        "name": "department_id"
                                    },
                                    {
                                        "name": "no_employees"
                                    }
                                ]
                            },
                            "data": [
                                {
                                    "0": "1",
                                    "1": "1"
                                },
                                {
                                    "0": "2",
                                    "1": "2"
                                },
                                {
                                    "0": "3",
                                    "1": "6"
                                },
                                {
                                    "0": "4",
                                    "1": "1"
                                },
                                {
                                    "0": "5",
                                    "1": "7"
                                },
                                {
                                    "0": "6",
                                    "1": "5"
                                },
                                {
                                    "0": "7",
                                    "1": "1"
                                },
                                {
                                    "0": "8",
                                    "1": "6"
                                },
                                {
                                    "0": "9",
                                    "1": "3"
                                },
                                {
                                    "0": "10",
                                    "1": "6"
                                },
                                {
                                    "0": "11",
                                    "1": "2"
                                }
                            ]
                        },
                        "text/html": [
                            "<table>",
                            "<tr><th>department_id</th><th>no_employees</th></tr>",
                            "<tr><td>1</td><td>1</td></tr>",
                            "<tr><td>2</td><td>2</td></tr>",
                            "<tr><td>3</td><td>6</td></tr>",
                            "<tr><td>4</td><td>1</td></tr>",
                            "<tr><td>5</td><td>7</td></tr>",
                            "<tr><td>6</td><td>5</td></tr>",
                            "<tr><td>7</td><td>1</td></tr>",
                            "<tr><td>8</td><td>6</td></tr>",
                            "<tr><td>9</td><td>3</td></tr>",
                            "<tr><td>10</td><td>6</td></tr>",
                            "<tr><td>11</td><td>2</td></tr>",
                            "</table>"
                        ]
                    }
                }
            ],
            "execution_count": 3
        },
        {
            "cell_type": "code",
            "source": [
                "select department_id,sum(salary)from employees group by department_id"
            ],
            "metadata": {
                "language": "sql",
                "azdata_cell_guid": "277e4cd1-1039-4193-850d-7ffb90ea40e5"
            },
            "outputs": [
                {
                    "output_type": "display_data",
                    "data": {
                        "text/html": "(11 rows affected)"
                    },
                    "metadata": {}
                },
                {
                    "output_type": "display_data",
                    "data": {
                        "text/html": "Total execution time: 00:00:00.004"
                    },
                    "metadata": {}
                },
                {
                    "output_type": "execute_result",
                    "metadata": {},
                    "execution_count": 4,
                    "data": {
                        "application/vnd.dataresource+json": {
                            "schema": {
                                "fields": [
                                    {
                                        "name": "department_id"
                                    },
                                    {
                                        "name": "(No column name)"
                                    }
                                ]
                            },
                            "data": [
                                {
                                    "0": "1",
                                    "1": "4400.00"
                                },
                                {
                                    "0": "2",
                                    "1": "19000.00"
                                },
                                {
                                    "0": "3",
                                    "1": "24900.00"
                                },
                                {
                                    "0": "4",
                                    "1": "6500.00"
                                },
                                {
                                    "0": "5",
                                    "1": "41200.00"
                                },
                                {
                                    "0": "6",
                                    "1": "28800.00"
                                },
                                {
                                    "0": "7",
                                    "1": "10000.00"
                                },
                                {
                                    "0": "8",
                                    "1": "57700.00"
                                },
                                {
                                    "0": "9",
                                    "1": "58000.00"
                                },
                                {
                                    "0": "10",
                                    "1": "51600.00"
                                },
                                {
                                    "0": "11",
                                    "1": "20300.00"
                                }
                            ]
                        },
                        "text/html": [
                            "<table>",
                            "<tr><th>department_id</th><th>(No column name)</th></tr>",
                            "<tr><td>1</td><td>4400.00</td></tr>",
                            "<tr><td>2</td><td>19000.00</td></tr>",
                            "<tr><td>3</td><td>24900.00</td></tr>",
                            "<tr><td>4</td><td>6500.00</td></tr>",
                            "<tr><td>5</td><td>41200.00</td></tr>",
                            "<tr><td>6</td><td>28800.00</td></tr>",
                            "<tr><td>7</td><td>10000.00</td></tr>",
                            "<tr><td>8</td><td>57700.00</td></tr>",
                            "<tr><td>9</td><td>58000.00</td></tr>",
                            "<tr><td>10</td><td>51600.00</td></tr>",
                            "<tr><td>11</td><td>20300.00</td></tr>",
                            "</table>"
                        ]
                    }
                }
            ],
            "execution_count": 4
        },
        {
            "cell_type": "code",
            "source": [
                "select concat(first_name,last_name),department_id from employees"
            ],
            "metadata": {
                "language": "sql",
                "azdata_cell_guid": "ac69a316-691b-46f8-a93d-541985ad66c0"
            },
            "outputs": [
                {
                    "output_type": "display_data",
                    "data": {
                        "text/html": "(40 rows affected)"
                    },
                    "metadata": {}
                },
                {
                    "output_type": "display_data",
                    "data": {
                        "text/html": "Total execution time: 00:00:00.009"
                    },
                    "metadata": {}
                },
                {
                    "output_type": "execute_result",
                    "metadata": {},
                    "execution_count": 5,
                    "data": {
                        "application/vnd.dataresource+json": {
                            "schema": {
                                "fields": [
                                    {
                                        "name": "(No column name)"
                                    },
                                    {
                                        "name": "department_id"
                                    }
                                ]
                            },
                            "data": [
                                {
                                    "0": "StevenKing",
                                    "1": "9"
                                },
                                {
                                    "0": "NeenaKochhar",
                                    "1": "9"
                                },
                                {
                                    "0": "LexDe Haan",
                                    "1": "9"
                                },
                                {
                                    "0": "AlexanderHunold",
                                    "1": "6"
                                },
                                {
                                    "0": "BruceErnst",
                                    "1": "6"
                                },
                                {
                                    "0": "DavidAustin",
                                    "1": "6"
                                },
                                {
                                    "0": "ValliPataballa",
                                    "1": "6"
                                },
                                {
                                    "0": "DianaLorentz",
                                    "1": "6"
                                },
                                {
                                    "0": "NancyGreenberg",
                                    "1": "10"
                                },
                                {
                                    "0": "DanielFaviet",
                                    "1": "10"
                                },
                                {
                                    "0": "JohnChen",
                                    "1": "10"
                                },
                                {
                                    "0": "IsmaelSciarra",
                                    "1": "10"
                                },
                                {
                                    "0": "Jose ManuelUrman",
                                    "1": "10"
                                },
                                {
                                    "0": "LuisPopp",
                                    "1": "10"
                                },
                                {
                                    "0": "DenRaphaely",
                                    "1": "3"
                                },
                                {
                                    "0": "AlexanderKhoo",
                                    "1": "3"
                                },
                                {
                                    "0": "ShelliBaida",
                                    "1": "3"
                                },
                                {
                                    "0": "SigalTobias",
                                    "1": "3"
                                },
                                {
                                    "0": "GuyHimuro",
                                    "1": "3"
                                },
                                {
                                    "0": "KarenColmenares",
                                    "1": "3"
                                },
                                {
                                    "0": "MatthewWeiss",
                                    "1": "5"
                                },
                                {
                                    "0": "AdamFripp",
                                    "1": "5"
                                },
                                {
                                    "0": "PayamKaufling",
                                    "1": "5"
                                },
                                {
                                    "0": "ShantaVollman",
                                    "1": "5"
                                },
                                {
                                    "0": "IreneMikkilineni",
                                    "1": "5"
                                },
                                {
                                    "0": "JohnRussell",
                                    "1": "8"
                                },
                                {
                                    "0": "KarenPartners",
                                    "1": "8"
                                },
                                {
                                    "0": "JonathonTaylor",
                                    "1": "8"
                                },
                                {
                                    "0": "JackLivingston",
                                    "1": "8"
                                },
                                {
                                    "0": "KimberelyGrant",
                                    "1": "8"
                                },
                                {
                                    "0": "CharlesJohnson",
                                    "1": "8"
                                },
                                {
                                    "0": "SarahBell",
                                    "1": "5"
                                },
                                {
                                    "0": "BritneyEverett",
                                    "1": "5"
                                },
                                {
                                    "0": "JenniferWhalen",
                                    "1": "1"
                                },
                                {
                                    "0": "MichaelHartstein",
                                    "1": "2"
                                },
                                {
                                    "0": "PatFay",
                                    "1": "2"
                                },
                                {
                                    "0": "SusanMavris",
                                    "1": "4"
                                },
                                {
                                    "0": "HermannBaer",
                                    "1": "7"
                                },
                                {
                                    "0": "ShelleyHiggins",
                                    "1": "11"
                                },
                                {
                                    "0": "WilliamGietz",
                                    "1": "11"
                                }
                            ]
                        },
                        "text/html": [
                            "<table>",
                            "<tr><th>(No column name)</th><th>department_id</th></tr>",
                            "<tr><td>StevenKing</td><td>9</td></tr>",
                            "<tr><td>NeenaKochhar</td><td>9</td></tr>",
                            "<tr><td>LexDe Haan</td><td>9</td></tr>",
                            "<tr><td>AlexanderHunold</td><td>6</td></tr>",
                            "<tr><td>BruceErnst</td><td>6</td></tr>",
                            "<tr><td>DavidAustin</td><td>6</td></tr>",
                            "<tr><td>ValliPataballa</td><td>6</td></tr>",
                            "<tr><td>DianaLorentz</td><td>6</td></tr>",
                            "<tr><td>NancyGreenberg</td><td>10</td></tr>",
                            "<tr><td>DanielFaviet</td><td>10</td></tr>",
                            "<tr><td>JohnChen</td><td>10</td></tr>",
                            "<tr><td>IsmaelSciarra</td><td>10</td></tr>",
                            "<tr><td>Jose ManuelUrman</td><td>10</td></tr>",
                            "<tr><td>LuisPopp</td><td>10</td></tr>",
                            "<tr><td>DenRaphaely</td><td>3</td></tr>",
                            "<tr><td>AlexanderKhoo</td><td>3</td></tr>",
                            "<tr><td>ShelliBaida</td><td>3</td></tr>",
                            "<tr><td>SigalTobias</td><td>3</td></tr>",
                            "<tr><td>GuyHimuro</td><td>3</td></tr>",
                            "<tr><td>KarenColmenares</td><td>3</td></tr>",
                            "<tr><td>MatthewWeiss</td><td>5</td></tr>",
                            "<tr><td>AdamFripp</td><td>5</td></tr>",
                            "<tr><td>PayamKaufling</td><td>5</td></tr>",
                            "<tr><td>ShantaVollman</td><td>5</td></tr>",
                            "<tr><td>IreneMikkilineni</td><td>5</td></tr>",
                            "<tr><td>JohnRussell</td><td>8</td></tr>",
                            "<tr><td>KarenPartners</td><td>8</td></tr>",
                            "<tr><td>JonathonTaylor</td><td>8</td></tr>",
                            "<tr><td>JackLivingston</td><td>8</td></tr>",
                            "<tr><td>KimberelyGrant</td><td>8</td></tr>",
                            "<tr><td>CharlesJohnson</td><td>8</td></tr>",
                            "<tr><td>SarahBell</td><td>5</td></tr>",
                            "<tr><td>BritneyEverett</td><td>5</td></tr>",
                            "<tr><td>JenniferWhalen</td><td>1</td></tr>",
                            "<tr><td>MichaelHartstein</td><td>2</td></tr>",
                            "<tr><td>PatFay</td><td>2</td></tr>",
                            "<tr><td>SusanMavris</td><td>4</td></tr>",
                            "<tr><td>HermannBaer</td><td>7</td></tr>",
                            "<tr><td>ShelleyHiggins</td><td>11</td></tr>",
                            "<tr><td>WilliamGietz</td><td>11</td></tr>",
                            "</table>"
                        ]
                    }
                }
            ],
            "execution_count": 5
        },
        {
            "cell_type": "code",
            "source": [
                "select concat(first_name,last_name),salary from employees"
            ],
            "metadata": {
                "language": "sql",
                "azdata_cell_guid": "a6cfca20-5ece-490f-b86c-61fa1084db06"
            },
            "outputs": [
                {
                    "output_type": "display_data",
                    "data": {
                        "text/html": "(40 rows affected)"
                    },
                    "metadata": {}
                },
                {
                    "output_type": "display_data",
                    "data": {
                        "text/html": "Total execution time: 00:00:00.009"
                    },
                    "metadata": {}
                },
                {
                    "output_type": "execute_result",
                    "metadata": {},
                    "execution_count": 6,
                    "data": {
                        "application/vnd.dataresource+json": {
                            "schema": {
                                "fields": [
                                    {
                                        "name": "(No column name)"
                                    },
                                    {
                                        "name": "salary"
                                    }
                                ]
                            },
                            "data": [
                                {
                                    "0": "StevenKing",
                                    "1": "24000.00"
                                },
                                {
                                    "0": "NeenaKochhar",
                                    "1": "17000.00"
                                },
                                {
                                    "0": "LexDe Haan",
                                    "1": "17000.00"
                                },
                                {
                                    "0": "AlexanderHunold",
                                    "1": "9000.00"
                                },
                                {
                                    "0": "BruceErnst",
                                    "1": "6000.00"
                                },
                                {
                                    "0": "DavidAustin",
                                    "1": "4800.00"
                                },
                                {
                                    "0": "ValliPataballa",
                                    "1": "4800.00"
                                },
                                {
                                    "0": "DianaLorentz",
                                    "1": "4200.00"
                                },
                                {
                                    "0": "NancyGreenberg",
                                    "1": "12000.00"
                                },
                                {
                                    "0": "DanielFaviet",
                                    "1": "9000.00"
                                },
                                {
                                    "0": "JohnChen",
                                    "1": "8200.00"
                                },
                                {
                                    "0": "IsmaelSciarra",
                                    "1": "7700.00"
                                },
                                {
                                    "0": "Jose ManuelUrman",
                                    "1": "7800.00"
                                },
                                {
                                    "0": "LuisPopp",
                                    "1": "6900.00"
                                },
                                {
                                    "0": "DenRaphaely",
                                    "1": "11000.00"
                                },
                                {
                                    "0": "AlexanderKhoo",
                                    "1": "3100.00"
                                },
                                {
                                    "0": "ShelliBaida",
                                    "1": "2900.00"
                                },
                                {
                                    "0": "SigalTobias",
                                    "1": "2800.00"
                                },
                                {
                                    "0": "GuyHimuro",
                                    "1": "2600.00"
                                },
                                {
                                    "0": "KarenColmenares",
                                    "1": "2500.00"
                                },
                                {
                                    "0": "MatthewWeiss",
                                    "1": "8000.00"
                                },
                                {
                                    "0": "AdamFripp",
                                    "1": "8200.00"
                                },
                                {
                                    "0": "PayamKaufling",
                                    "1": "7900.00"
                                },
                                {
                                    "0": "ShantaVollman",
                                    "1": "6500.00"
                                },
                                {
                                    "0": "IreneMikkilineni",
                                    "1": "2700.00"
                                },
                                {
                                    "0": "JohnRussell",
                                    "1": "14000.00"
                                },
                                {
                                    "0": "KarenPartners",
                                    "1": "13500.00"
                                },
                                {
                                    "0": "JonathonTaylor",
                                    "1": "8600.00"
                                },
                                {
                                    "0": "JackLivingston",
                                    "1": "8400.00"
                                },
                                {
                                    "0": "KimberelyGrant",
                                    "1": "7000.00"
                                },
                                {
                                    "0": "CharlesJohnson",
                                    "1": "6200.00"
                                },
                                {
                                    "0": "SarahBell",
                                    "1": "4000.00"
                                },
                                {
                                    "0": "BritneyEverett",
                                    "1": "3900.00"
                                },
                                {
                                    "0": "JenniferWhalen",
                                    "1": "4400.00"
                                },
                                {
                                    "0": "MichaelHartstein",
                                    "1": "13000.00"
                                },
                                {
                                    "0": "PatFay",
                                    "1": "6000.00"
                                },
                                {
                                    "0": "SusanMavris",
                                    "1": "6500.00"
                                },
                                {
                                    "0": "HermannBaer",
                                    "1": "10000.00"
                                },
                                {
                                    "0": "ShelleyHiggins",
                                    "1": "12000.00"
                                },
                                {
                                    "0": "WilliamGietz",
                                    "1": "8300.00"
                                }
                            ]
                        },
                        "text/html": [
                            "<table>",
                            "<tr><th>(No column name)</th><th>salary</th></tr>",
                            "<tr><td>StevenKing</td><td>24000.00</td></tr>",
                            "<tr><td>NeenaKochhar</td><td>17000.00</td></tr>",
                            "<tr><td>LexDe Haan</td><td>17000.00</td></tr>",
                            "<tr><td>AlexanderHunold</td><td>9000.00</td></tr>",
                            "<tr><td>BruceErnst</td><td>6000.00</td></tr>",
                            "<tr><td>DavidAustin</td><td>4800.00</td></tr>",
                            "<tr><td>ValliPataballa</td><td>4800.00</td></tr>",
                            "<tr><td>DianaLorentz</td><td>4200.00</td></tr>",
                            "<tr><td>NancyGreenberg</td><td>12000.00</td></tr>",
                            "<tr><td>DanielFaviet</td><td>9000.00</td></tr>",
                            "<tr><td>JohnChen</td><td>8200.00</td></tr>",
                            "<tr><td>IsmaelSciarra</td><td>7700.00</td></tr>",
                            "<tr><td>Jose ManuelUrman</td><td>7800.00</td></tr>",
                            "<tr><td>LuisPopp</td><td>6900.00</td></tr>",
                            "<tr><td>DenRaphaely</td><td>11000.00</td></tr>",
                            "<tr><td>AlexanderKhoo</td><td>3100.00</td></tr>",
                            "<tr><td>ShelliBaida</td><td>2900.00</td></tr>",
                            "<tr><td>SigalTobias</td><td>2800.00</td></tr>",
                            "<tr><td>GuyHimuro</td><td>2600.00</td></tr>",
                            "<tr><td>KarenColmenares</td><td>2500.00</td></tr>",
                            "<tr><td>MatthewWeiss</td><td>8000.00</td></tr>",
                            "<tr><td>AdamFripp</td><td>8200.00</td></tr>",
                            "<tr><td>PayamKaufling</td><td>7900.00</td></tr>",
                            "<tr><td>ShantaVollman</td><td>6500.00</td></tr>",
                            "<tr><td>IreneMikkilineni</td><td>2700.00</td></tr>",
                            "<tr><td>JohnRussell</td><td>14000.00</td></tr>",
                            "<tr><td>KarenPartners</td><td>13500.00</td></tr>",
                            "<tr><td>JonathonTaylor</td><td>8600.00</td></tr>",
                            "<tr><td>JackLivingston</td><td>8400.00</td></tr>",
                            "<tr><td>KimberelyGrant</td><td>7000.00</td></tr>",
                            "<tr><td>CharlesJohnson</td><td>6200.00</td></tr>",
                            "<tr><td>SarahBell</td><td>4000.00</td></tr>",
                            "<tr><td>BritneyEverett</td><td>3900.00</td></tr>",
                            "<tr><td>JenniferWhalen</td><td>4400.00</td></tr>",
                            "<tr><td>MichaelHartstein</td><td>13000.00</td></tr>",
                            "<tr><td>PatFay</td><td>6000.00</td></tr>",
                            "<tr><td>SusanMavris</td><td>6500.00</td></tr>",
                            "<tr><td>HermannBaer</td><td>10000.00</td></tr>",
                            "<tr><td>ShelleyHiggins</td><td>12000.00</td></tr>",
                            "<tr><td>WilliamGietz</td><td>8300.00</td></tr>",
                            "</table>"
                        ]
                    }
                }
            ],
            "execution_count": 6
        },
        {
            "cell_type": "code",
            "source": [
                "SELECT first_name,COUNT(department_id) FROM Employees GROUP BY first_name HAVING COUNT(department_id) > 1  "
            ],
            "metadata": {
                "language": "sql",
                "azdata_cell_guid": "e5d42949-cb9b-44bc-8ab5-ebc6a4c666a3"
            },
            "outputs": [
                {
                    "output_type": "display_data",
                    "data": {
                        "text/html": "(3 rows affected)"
                    },
                    "metadata": {}
                },
                {
                    "output_type": "display_data",
                    "data": {
                        "text/html": "Total execution time: 00:00:00.005"
                    },
                    "metadata": {}
                },
                {
                    "output_type": "execute_result",
                    "metadata": {},
                    "execution_count": 7,
                    "data": {
                        "application/vnd.dataresource+json": {
                            "schema": {
                                "fields": [
                                    {
                                        "name": "first_name"
                                    },
                                    {
                                        "name": "(No column name)"
                                    }
                                ]
                            },
                            "data": [
                                {
                                    "0": "Alexander",
                                    "1": "2"
                                },
                                {
                                    "0": "John",
                                    "1": "2"
                                },
                                {
                                    "0": "Karen",
                                    "1": "2"
                                }
                            ]
                        },
                        "text/html": [
                            "<table>",
                            "<tr><th>first_name</th><th>(No column name)</th></tr>",
                            "<tr><td>Alexander</td><td>2</td></tr>",
                            "<tr><td>John</td><td>2</td></tr>",
                            "<tr><td>Karen</td><td>2</td></tr>",
                            "</table>"
                        ]
                    }
                }
            ],
            "execution_count": 7
        },
        {
            "cell_type": "code",
            "source": [
                "select manager_id ,sum(salary) as total_salary from employees group by manager_id"
            ],
            "metadata": {
                "language": "sql",
                "azdata_cell_guid": "4e4ad458-0402-47f2-a8b4-2fce250def12"
            },
            "outputs": [
                {
                    "output_type": "display_data",
                    "data": {
                        "text/html": "(11 rows affected)"
                    },
                    "metadata": {}
                },
                {
                    "output_type": "display_data",
                    "data": {
                        "text/html": "Total execution time: 00:00:00.004"
                    },
                    "metadata": {}
                },
                {
                    "output_type": "execute_result",
                    "metadata": {},
                    "execution_count": 8,
                    "data": {
                        "application/vnd.dataresource+json": {
                            "schema": {
                                "fields": [
                                    {
                                        "name": "manager_id"
                                    },
                                    {
                                        "name": "total_salary"
                                    }
                                ]
                            },
                            "data": [
                                {
                                    "0": "NULL",
                                    "1": "24000.00"
                                },
                                {
                                    "0": "100",
                                    "1": "146300.00"
                                },
                                {
                                    "0": "101",
                                    "1": "44900.00"
                                },
                                {
                                    "0": "102",
                                    "1": "9000.00"
                                },
                                {
                                    "0": "103",
                                    "1": "19800.00"
                                },
                                {
                                    "0": "108",
                                    "1": "39600.00"
                                },
                                {
                                    "0": "114",
                                    "1": "13900.00"
                                },
                                {
                                    "0": "120",
                                    "1": "2700.00"
                                },
                                {
                                    "0": "123",
                                    "1": "7900.00"
                                },
                                {
                                    "0": "201",
                                    "1": "6000.00"
                                },
                                {
                                    "0": "205",
                                    "1": "8300.00"
                                }
                            ]
                        },
                        "text/html": [
                            "<table>",
                            "<tr><th>manager_id</th><th>total_salary</th></tr>",
                            "<tr><td>NULL</td><td>24000.00</td></tr>",
                            "<tr><td>100</td><td>146300.00</td></tr>",
                            "<tr><td>101</td><td>44900.00</td></tr>",
                            "<tr><td>102</td><td>9000.00</td></tr>",
                            "<tr><td>103</td><td>19800.00</td></tr>",
                            "<tr><td>108</td><td>39600.00</td></tr>",
                            "<tr><td>114</td><td>13900.00</td></tr>",
                            "<tr><td>120</td><td>2700.00</td></tr>",
                            "<tr><td>123</td><td>7900.00</td></tr>",
                            "<tr><td>201</td><td>6000.00</td></tr>",
                            "<tr><td>205</td><td>8300.00</td></tr>",
                            "</table>"
                        ]
                    }
                }
            ],
            "execution_count": 8
        },
        {
            "cell_type": "code",
            "source": [
                "\r\n",
                "select concat(m.first_name,m.last_name)as EmployeeName,m.department_id,m.salary,w.first_name as manager_name\r\n",
                "from employees m,employees w where m.manager_id=w.employee_id and m.last_name like '_a%' "
            ],
            "metadata": {
                "language": "sql",
                "azdata_cell_guid": "555368c1-e5e9-4c25-9501-373668d55750"
            },
            "outputs": [
                {
                    "output_type": "display_data",
                    "data": {
                        "text/html": "(11 rows affected)"
                    },
                    "metadata": {}
                },
                {
                    "output_type": "display_data",
                    "data": {
                        "text/html": "Total execution time: 00:00:00.006"
                    },
                    "metadata": {}
                },
                {
                    "output_type": "execute_result",
                    "metadata": {},
                    "execution_count": 9,
                    "data": {
                        "application/vnd.dataresource+json": {
                            "schema": {
                                "fields": [
                                    {
                                        "name": "EmployeeName"
                                    },
                                    {
                                        "name": "department_id"
                                    },
                                    {
                                        "name": "salary"
                                    },
                                    {
                                        "name": "manager_name"
                                    }
                                ]
                            },
                            "data": [
                                {
                                    "0": "ValliPataballa",
                                    "1": "6",
                                    "2": "4800.00",
                                    "3": "Alexander"
                                },
                                {
                                    "0": "DanielFaviet",
                                    "1": "10",
                                    "2": "9000.00",
                                    "3": "Nancy"
                                },
                                {
                                    "0": "DenRaphaely",
                                    "1": "3",
                                    "2": "11000.00",
                                    "3": "Steven"
                                },
                                {
                                    "0": "ShelliBaida",
                                    "1": "3",
                                    "2": "2900.00",
                                    "3": "Den"
                                },
                                {
                                    "0": "PayamKaufling",
                                    "1": "5",
                                    "2": "7900.00",
                                    "3": "Steven"
                                },
                                {
                                    "0": "KarenPartners",
                                    "1": "8",
                                    "2": "13500.00",
                                    "3": "Steven"
                                },
                                {
                                    "0": "JonathonTaylor",
                                    "1": "8",
                                    "2": "8600.00",
                                    "3": "Steven"
                                },
                                {
                                    "0": "MichaelHartstein",
                                    "1": "2",
                                    "2": "13000.00",
                                    "3": "Steven"
                                },
                                {
                                    "0": "PatFay",
                                    "1": "2",
                                    "2": "6000.00",
                                    "3": "Michael"
                                },
                                {
                                    "0": "SusanMavris",
                                    "1": "4",
                                    "2": "6500.00",
                                    "3": "Neena"
                                },
                                {
                                    "0": "HermannBaer",
                                    "1": "7",
                                    "2": "10000.00",
                                    "3": "Neena"
                                }
                            ]
                        },
                        "text/html": [
                            "<table>",
                            "<tr><th>EmployeeName</th><th>department_id</th><th>salary</th><th>manager_name</th></tr>",
                            "<tr><td>ValliPataballa</td><td>6</td><td>4800.00</td><td>Alexander</td></tr>",
                            "<tr><td>DanielFaviet</td><td>10</td><td>9000.00</td><td>Nancy</td></tr>",
                            "<tr><td>DenRaphaely</td><td>3</td><td>11000.00</td><td>Steven</td></tr>",
                            "<tr><td>ShelliBaida</td><td>3</td><td>2900.00</td><td>Den</td></tr>",
                            "<tr><td>PayamKaufling</td><td>5</td><td>7900.00</td><td>Steven</td></tr>",
                            "<tr><td>KarenPartners</td><td>8</td><td>13500.00</td><td>Steven</td></tr>",
                            "<tr><td>JonathonTaylor</td><td>8</td><td>8600.00</td><td>Steven</td></tr>",
                            "<tr><td>MichaelHartstein</td><td>2</td><td>13000.00</td><td>Steven</td></tr>",
                            "<tr><td>PatFay</td><td>2</td><td>6000.00</td><td>Michael</td></tr>",
                            "<tr><td>SusanMavris</td><td>4</td><td>6500.00</td><td>Neena</td></tr>",
                            "<tr><td>HermannBaer</td><td>7</td><td>10000.00</td><td>Neena</td></tr>",
                            "</table>"
                        ]
                    }
                }
            ],
            "execution_count": 9
        },
        {
            "cell_type": "code",
            "source": [
                "select department_id,avg(salary)as AvgSalary from dbo.employees group by department_id  order by department_id"
            ],
            "metadata": {
                "language": "sql",
                "azdata_cell_guid": "0c24595f-d639-4450-b569-269611f5f7da"
            },
            "outputs": [
                {
                    "output_type": "display_data",
                    "data": {
                        "text/html": "(11 rows affected)"
                    },
                    "metadata": {}
                },
                {
                    "output_type": "display_data",
                    "data": {
                        "text/html": "Total execution time: 00:00:00.005"
                    },
                    "metadata": {}
                },
                {
                    "output_type": "execute_result",
                    "metadata": {},
                    "execution_count": 10,
                    "data": {
                        "application/vnd.dataresource+json": {
                            "schema": {
                                "fields": [
                                    {
                                        "name": "department_id"
                                    },
                                    {
                                        "name": "AvgSalary"
                                    }
                                ]
                            },
                            "data": [
                                {
                                    "0": "1",
                                    "1": "4400.000000"
                                },
                                {
                                    "0": "2",
                                    "1": "9500.000000"
                                },
                                {
                                    "0": "3",
                                    "1": "4150.000000"
                                },
                                {
                                    "0": "4",
                                    "1": "6500.000000"
                                },
                                {
                                    "0": "5",
                                    "1": "5885.714285"
                                },
                                {
                                    "0": "6",
                                    "1": "5760.000000"
                                },
                                {
                                    "0": "7",
                                    "1": "10000.000000"
                                },
                                {
                                    "0": "8",
                                    "1": "9616.666666"
                                },
                                {
                                    "0": "9",
                                    "1": "19333.333333"
                                },
                                {
                                    "0": "10",
                                    "1": "8600.000000"
                                },
                                {
                                    "0": "11",
                                    "1": "10150.000000"
                                }
                            ]
                        },
                        "text/html": [
                            "<table>",
                            "<tr><th>department_id</th><th>AvgSalary</th></tr>",
                            "<tr><td>1</td><td>4400.000000</td></tr>",
                            "<tr><td>2</td><td>9500.000000</td></tr>",
                            "<tr><td>3</td><td>4150.000000</td></tr>",
                            "<tr><td>4</td><td>6500.000000</td></tr>",
                            "<tr><td>5</td><td>5885.714285</td></tr>",
                            "<tr><td>6</td><td>5760.000000</td></tr>",
                            "<tr><td>7</td><td>10000.000000</td></tr>",
                            "<tr><td>8</td><td>9616.666666</td></tr>",
                            "<tr><td>9</td><td>19333.333333</td></tr>",
                            "<tr><td>10</td><td>8600.000000</td></tr>",
                            "<tr><td>11</td><td>10150.000000</td></tr>",
                            "</table>"
                        ]
                    }
                }
            ],
            "execution_count": 10
        },
        {
            "cell_type": "code",
            "source": [
                "select department_id,max(salary)as MaxSalary from employees group by department_id"
            ],
            "metadata": {
                "language": "sql",
                "azdata_cell_guid": "5e6addbc-a5dd-4c09-a139-7350076b9717"
            },
            "outputs": [
                {
                    "output_type": "display_data",
                    "data": {
                        "text/html": "(11 rows affected)"
                    },
                    "metadata": {}
                },
                {
                    "output_type": "display_data",
                    "data": {
                        "text/html": "Total execution time: 00:00:00.004"
                    },
                    "metadata": {}
                },
                {
                    "output_type": "execute_result",
                    "metadata": {},
                    "execution_count": 11,
                    "data": {
                        "application/vnd.dataresource+json": {
                            "schema": {
                                "fields": [
                                    {
                                        "name": "department_id"
                                    },
                                    {
                                        "name": "MaxSalary"
                                    }
                                ]
                            },
                            "data": [
                                {
                                    "0": "1",
                                    "1": "4400.00"
                                },
                                {
                                    "0": "2",
                                    "1": "13000.00"
                                },
                                {
                                    "0": "3",
                                    "1": "11000.00"
                                },
                                {
                                    "0": "4",
                                    "1": "6500.00"
                                },
                                {
                                    "0": "5",
                                    "1": "8200.00"
                                },
                                {
                                    "0": "6",
                                    "1": "9000.00"
                                },
                                {
                                    "0": "7",
                                    "1": "10000.00"
                                },
                                {
                                    "0": "8",
                                    "1": "14000.00"
                                },
                                {
                                    "0": "9",
                                    "1": "24000.00"
                                },
                                {
                                    "0": "10",
                                    "1": "12000.00"
                                },
                                {
                                    "0": "11",
                                    "1": "12000.00"
                                }
                            ]
                        },
                        "text/html": [
                            "<table>",
                            "<tr><th>department_id</th><th>MaxSalary</th></tr>",
                            "<tr><td>1</td><td>4400.00</td></tr>",
                            "<tr><td>2</td><td>13000.00</td></tr>",
                            "<tr><td>3</td><td>11000.00</td></tr>",
                            "<tr><td>4</td><td>6500.00</td></tr>",
                            "<tr><td>5</td><td>8200.00</td></tr>",
                            "<tr><td>6</td><td>9000.00</td></tr>",
                            "<tr><td>7</td><td>10000.00</td></tr>",
                            "<tr><td>8</td><td>14000.00</td></tr>",
                            "<tr><td>9</td><td>24000.00</td></tr>",
                            "<tr><td>10</td><td>12000.00</td></tr>",
                            "<tr><td>11</td><td>12000.00</td></tr>",
                            "</table>"
                        ]
                    }
                }
            ],
            "execution_count": 11
        }
    ]
}
{
    "metadata": {
        "kernelspec": {
            "name": "SQL",
            "display_name": "SQL",
            "language": "sql"
        },
        "language_info": {
            "name": "sql",
            "version": ""
        }
    },
    "nbformat_minor": 2,
    "nbformat": 4,
    "cells": [
        {
            "cell_type": "code",
            "source": [
                "select ar.name as artist_name,rl.name as record_labelname from artist ar \r\n",
                "INNER JOIN recordlabel rl on ar.labelid =rl.labelid"
            ],
            "metadata": {
                "azdata_cell_guid": "3bc99c57-b959-4e06-9097-c66c61ed422b",
                "language": "sql"
            },
            "outputs": [
                {
                    "output_type": "display_data",
                    "data": {
                        "text/html": "(8 rows affected)"
                    },
                    "metadata": {}
                },
                {
                    "output_type": "display_data",
                    "data": {
                        "text/html": "Total execution time: 00:00:00.003"
                    },
                    "metadata": {}
                },
                {
                    "output_type": "execute_result",
                    "metadata": {},
                    "execution_count": 1,
                    "data": {
                        "application/vnd.dataresource+json": {
                            "schema": {
                                "fields": [
                                    {
                                        "name": "artist_name"
                                    },
                                    {
                                        "name": "record_labelname"
                                    }
                                ]
                            },
                            "data": [
                                {
                                    "0": "Metallica",
                                    "1": "Blackened"
                                },
                                {
                                    "0": "Megadeth",
                                    "1": "Blackened"
                                },
                                {
                                    "0": "Anthrax",
                                    "1": "Blackened"
                                },
                                {
                                    "0": "Eric Clapton",
                                    "1": "Warner Bros"
                                },
                                {
                                    "0": "ZZ Top",
                                    "1": "Warner Bros"
                                },
                                {
                                    "0": "Van Halen",
                                    "1": "Warner Bros"
                                },
                                {
                                    "0": "Lynyrd Skynyrd",
                                    "1": "Universal"
                                },
                                {
                                    "0": "ACDC",
                                    "1": "Universal"
                                }
                            ]
                        },
                        "text/html": [
                            "<table>",
                            "<tr><th>artist_name</th><th>record_labelname</th></tr>",
                            "<tr><td>Metallica</td><td>Blackened</td></tr>",
                            "<tr><td>Megadeth</td><td>Blackened</td></tr>",
                            "<tr><td>Anthrax</td><td>Blackened</td></tr>",
                            "<tr><td>Eric Clapton</td><td>Warner Bros</td></tr>",
                            "<tr><td>ZZ Top</td><td>Warner Bros</td></tr>",
                            "<tr><td>Van Halen</td><td>Warner Bros</td></tr>",
                            "<tr><td>Lynyrd Skynyrd</td><td>Universal</td></tr>",
                            "<tr><td>ACDC</td><td>Universal</td></tr>",
                            "</table>"
                        ]
                    }
                }
            ],
            "execution_count": 1
        },
        {
            "cell_type": "code",
            "source": [
                "SELECT ar.name as artist_name,COUNT(s.SongId) as numberof_songs from artist ar inner join album al on ar.artistid=al.artistid \r\n",
                "INNER JOIN song s on al.albumid=s.albumid GROUP by ar.name order by numberof_songs DESC"
            ],
            "metadata": {
                "language": "sql",
                "azdata_cell_guid": "4dc25ed4-5ff7-424b-b6d6-b74197c353ca"
            },
            "outputs": [
                {
                    "output_type": "display_data",
                    "data": {
                        "text/html": "(8 rows affected)"
                    },
                    "metadata": {}
                },
                {
                    "output_type": "display_data",
                    "data": {
                        "text/html": "Total execution time: 00:00:00.004"
                    },
                    "metadata": {}
                },
                {
                    "output_type": "execute_result",
                    "metadata": {},
                    "execution_count": 2,
                    "data": {
                        "application/vnd.dataresource+json": {
                            "schema": {
                                "fields": [
                                    {
                                        "name": "artist_name"
                                    },
                                    {
                                        "name": "numberof_songs"
                                    }
                                ]
                            },
                            "data": [
                                {
                                    "0": "Metallica",
                                    "1": "6"
                                },
                                {
                                    "0": "Megadeth",
                                    "1": "4"
                                },
                                {
                                    "0": "Eric Clapton",
                                    "1": "4"
                                },
                                {
                                    "0": "Lynyrd Skynyrd",
                                    "1": "2"
                                },
                                {
                                    "0": "ACDC",
                                    "1": "2"
                                },
                                {
                                    "0": "Anthrax",
                                    "1": "2"
                                },
                                {
                                    "0": "Van Halen",
                                    "1": "2"
                                },
                                {
                                    "0": "ZZ Top",
                                    "1": "2"
                                }
                            ]
                        },
                        "text/html": [
                            "<table>",
                            "<tr><th>artist_name</th><th>numberof_songs</th></tr>",
                            "<tr><td>Metallica</td><td>6</td></tr>",
                            "<tr><td>Megadeth</td><td>4</td></tr>",
                            "<tr><td>Eric Clapton</td><td>4</td></tr>",
                            "<tr><td>Lynyrd Skynyrd</td><td>2</td></tr>",
                            "<tr><td>ACDC</td><td>2</td></tr>",
                            "<tr><td>Anthrax</td><td>2</td></tr>",
                            "<tr><td>Van Halen</td><td>2</td></tr>",
                            "<tr><td>ZZ Top</td><td>2</td></tr>",
                            "</table>"
                        ]
                    }
                }
            ],
            "execution_count": 2
        },
        {
            "cell_type": "code",
            "source": [
                "select ar.name as artist, al.name as album from artist ar inner join album al \r\n",
                "on ar.ArtistId=al.ArtistId \r\n",
                "where ar.ArtistId!=1 ORDER by album"
            ],
            "metadata": {
                "language": "sql",
                "azdata_cell_guid": "1da7f2b9-9dd1-449e-ac0c-3f335eb1200a"
            },
            "outputs": [
                {
                    "output_type": "display_data",
                    "data": {
                        "text/html": "(9 rows affected)"
                    },
                    "metadata": {}
                },
                {
                    "output_type": "display_data",
                    "data": {
                        "text/html": "Total execution time: 00:00:00.004"
                    },
                    "metadata": {}
                },
                {
                    "output_type": "execute_result",
                    "metadata": {},
                    "execution_count": 3,
                    "data": {
                        "application/vnd.dataresource+json": {
                            "schema": {
                                "fields": [
                                    {
                                        "name": "artist"
                                    },
                                    {
                                        "name": "album"
                                    }
                                ]
                            },
                            "data": [
                                {
                                    "0": "Lynyrd Skynyrd",
                                    "1": "All-Time Greatest Hits"
                                },
                                {
                                    "0": "Megadeth",
                                    "1": "Endgame"
                                },
                                {
                                    "0": "ACDC",
                                    "1": "Greatest Hits"
                                },
                                {
                                    "0": "ZZ Top",
                                    "1": "Greatest Hits"
                                },
                                {
                                    "0": "Van Halen",
                                    "1": "Greatest Hits"
                                },
                                {
                                    "0": "Megadeth",
                                    "1": "Peace Sells"
                                },
                                {
                                    "0": "Eric Clapton",
                                    "1": "Reptile"
                                },
                                {
                                    "0": "Eric Clapton",
                                    "1": "Riding with the King"
                                },
                                {
                                    "0": "Anthrax",
                                    "1": "The Greater of 2 Evils"
                                }
                            ]
                        },
                        "text/html": [
                            "<table>",
                            "<tr><th>artist</th><th>album</th></tr>",
                            "<tr><td>Lynyrd Skynyrd</td><td>All-Time Greatest Hits</td></tr>",
                            "<tr><td>Megadeth</td><td>Endgame</td></tr>",
                            "<tr><td>ACDC</td><td>Greatest Hits</td></tr>",
                            "<tr><td>ZZ Top</td><td>Greatest Hits</td></tr>",
                            "<tr><td>Van Halen</td><td>Greatest Hits</td></tr>",
                            "<tr><td>Megadeth</td><td>Peace Sells</td></tr>",
                            "<tr><td>Eric Clapton</td><td>Reptile</td></tr>",
                            "<tr><td>Eric Clapton</td><td>Riding with the King</td></tr>",
                            "<tr><td>Anthrax</td><td>The Greater of 2 Evils</td></tr>",
                            "</table>"
                        ]
                    }
                }
            ],
            "execution_count": 3
        },
        {
            "cell_type": "code",
            "source": [
                "SELECT ar.name, al.name from Artist ar inner JOIN Album al on ar.ArtistId=al.ArtistId where ar.ArtistId=1"
            ],
            "metadata": {
                "language": "sql",
                "azdata_cell_guid": "09118802-2c1b-4129-81f7-9af713cb8955"
            },
            "outputs": [
                {
                    "output_type": "display_data",
                    "data": {
                        "text/html": "(3 rows affected)"
                    },
                    "metadata": {}
                },
                {
                    "output_type": "display_data",
                    "data": {
                        "text/html": "Total execution time: 00:00:00.004"
                    },
                    "metadata": {}
                },
                {
                    "output_type": "execute_result",
                    "metadata": {},
                    "execution_count": 4,
                    "data": {
                        "application/vnd.dataresource+json": {
                            "schema": {
                                "fields": [
                                    {
                                        "name": "name"
                                    },
                                    {
                                        "name": "name"
                                    }
                                ]
                            },
                            "data": [
                                {
                                    "0": "Metallica",
                                    "1": "...And Justice For All"
                                },
                                {
                                    "0": "Metallica",
                                    "1": "Black Album"
                                },
                                {
                                    "0": "Metallica",
                                    "1": "Master of Puppets"
                                }
                            ]
                        },
                        "text/html": [
                            "<table>",
                            "<tr><th>name</th><th>name</th></tr>",
                            "<tr><td>Metallica</td><td>...And Justice For All</td></tr>",
                            "<tr><td>Metallica</td><td>Black Album</td></tr>",
                            "<tr><td>Metallica</td><td>Master of Puppets</td></tr>",
                            "</table>"
                        ]
                    }
                }
            ],
            "execution_count": 4
        },
        {
            "cell_type": "code",
            "source": [
                "select ar.name, sum(s.duration)as durationof_all_songs from Artist ar INNER JOIN album al on ar.ArtistId=al.ArtistId \r\n",
                "INNER JOIN song s on al.AlbumId=s.AlbumId GROUP by ar.Name order by durationof_all_songs desc"
            ],
            "metadata": {
                "language": "sql",
                "azdata_cell_guid": "2daa04c6-4916-4894-982c-89de75c892fb"
            },
            "outputs": [
                {
                    "output_type": "display_data",
                    "data": {
                        "text/html": "(8 rows affected)"
                    },
                    "metadata": {}
                },
                {
                    "output_type": "display_data",
                    "data": {
                        "text/html": "Total execution time: 00:00:00.007"
                    },
                    "metadata": {}
                },
                {
                    "output_type": "execute_result",
                    "metadata": {},
                    "execution_count": 5,
                    "data": {
                        "application/vnd.dataresource+json": {
                            "schema": {
                                "fields": [
                                    {
                                        "name": "name"
                                    },
                                    {
                                        "name": "durationof_all_songs"
                                    }
                                ]
                            },
                            "data": [
                                {
                                    "0": "Metallica",
                                    "1": "37.74000072479248"
                                },
                                {
                                    "0": "Lynyrd Skynyrd",
                                    "1": "18.679999351501465"
                                },
                                {
                                    "0": "Megadeth",
                                    "1": "17.010000467300415"
                                },
                                {
                                    "0": "Eric Clapton",
                                    "1": "15.46999979019165"
                                },
                                {
                                    "0": "Anthrax",
                                    "1": "10.290000438690186"
                                },
                                {
                                    "0": "ZZ Top",
                                    "1": "8.470000267028809"
                                },
                                {
                                    "0": "ACDC",
                                    "1": "7.869999885559082"
                                },
                                {
                                    "0": "Van Halen",
                                    "1": "5.859999775886536"
                                }
                            ]
                        },
                        "text/html": [
                            "<table>",
                            "<tr><th>name</th><th>durationof_all_songs</th></tr>",
                            "<tr><td>Metallica</td><td>37.74000072479248</td></tr>",
                            "<tr><td>Lynyrd Skynyrd</td><td>18.679999351501465</td></tr>",
                            "<tr><td>Megadeth</td><td>17.010000467300415</td></tr>",
                            "<tr><td>Eric Clapton</td><td>15.46999979019165</td></tr>",
                            "<tr><td>Anthrax</td><td>10.290000438690186</td></tr>",
                            "<tr><td>ZZ Top</td><td>8.470000267028809</td></tr>",
                            "<tr><td>ACDC</td><td>7.869999885559082</td></tr>",
                            "<tr><td>Van Halen</td><td>5.859999775886536</td></tr>",
                            "</table>"
                        ]
                    }
                }
            ],
            "execution_count": 5
        }
    ]
}
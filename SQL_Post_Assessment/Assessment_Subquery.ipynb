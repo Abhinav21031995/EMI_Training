{
    "cells": [
        {
            "cell_type": "code",
            "execution_count": 1,
            "metadata": {
                "azdata_cell_guid": "68d0fd8e-e88e-4c3c-97fa-25aba8c91571",
                "language": "sql"
            },
            "outputs": [
                {
                    "data": {
                        "text/html": [
                            "(6 rows affected)"
                        ]
                    },
                    "metadata": {},
                    "output_type": "display_data"
                },
                {
                    "data": {
                        "text/html": [
                            "Total execution time: 00:00:00.005"
                        ]
                    },
                    "metadata": {},
                    "output_type": "display_data"
                },
                {
                    "data": {
                        "application/vnd.dataresource+json": {
                            "data": [
                                {
                                    "0": "Russell",
                                    "1": "1996-10-01"
                                },
                                {
                                    "0": "Partners",
                                    "1": "1997-01-05"
                                },
                                {
                                    "0": "Taylor",
                                    "1": "1998-03-24"
                                },
                                {
                                    "0": "Livingston",
                                    "1": "1998-04-23"
                                },
                                {
                                    "0": "Grant",
                                    "1": "1999-05-24"
                                },
                                {
                                    "0": "Johnson",
                                    "1": "2000-01-04"
                                }
                            ],
                            "schema": {
                                "fields": [
                                    {
                                        "name": "last_name"
                                    },
                                    {
                                        "name": "hire_date"
                                    }
                                ]
                            }
                        },
                        "text/html": [
                            "<table><tr><th>last_name</th><th>hire_date</th></tr><tr><td>Russell</td><td>1996-10-01</td></tr><tr><td>Partners</td><td>1997-01-05</td></tr><tr><td>Taylor</td><td>1998-03-24</td></tr><tr><td>Livingston</td><td>1998-04-23</td></tr><tr><td>Grant</td><td>1999-05-24</td></tr><tr><td>Johnson</td><td>2000-01-04</td></tr></table>"
                        ]
                    },
                    "execution_count": 1,
                    "metadata": {},
                    "output_type": "execute_result"
                }
            ],
            "source": [
                "--1.\n",
                "select last_name, hire_date from employees where department_id in (select departments.department_id from departments where department_id=8)"
            ]
        },
        {
            "cell_type": "code",
            "execution_count": 1,
            "metadata": {
                "azdata_cell_guid": "50e56714-8e6b-4961-94e4-64487a66b647",
                "language": "sql"
            },
            "outputs": [
                {
                    "data": {
                        "text/html": [
                            "(17 rows affected)"
                        ]
                    },
                    "metadata": {},
                    "output_type": "display_data"
                },
                {
                    "data": {
                        "text/html": [
                            "Total execution time: 00:00:00.006"
                        ]
                    },
                    "metadata": {},
                    "output_type": "display_data"
                },
                {
                    "data": {
                        "application/vnd.dataresource+json": {
                            "data": [
                                {
                                    "0": "110",
                                    "1": "John",
                                    "2": "8200.00"
                                },
                                {
                                    "0": "121",
                                    "1": "Adam",
                                    "2": "8200.00"
                                },
                                {
                                    "0": "206",
                                    "1": "William",
                                    "2": "8300.00"
                                },
                                {
                                    "0": "177",
                                    "1": "Jack",
                                    "2": "8400.00"
                                },
                                {
                                    "0": "176",
                                    "1": "Jonathon",
                                    "2": "8600.00"
                                },
                                {
                                    "0": "103",
                                    "1": "Alexander",
                                    "2": "9000.00"
                                },
                                {
                                    "0": "109",
                                    "1": "Daniel",
                                    "2": "9000.00"
                                },
                                {
                                    "0": "204",
                                    "1": "Hermann",
                                    "2": "10000.00"
                                },
                                {
                                    "0": "114",
                                    "1": "Den",
                                    "2": "11000.00"
                                },
                                {
                                    "0": "108",
                                    "1": "Nancy",
                                    "2": "12000.00"
                                },
                                {
                                    "0": "205",
                                    "1": "Shelley",
                                    "2": "12000.00"
                                },
                                {
                                    "0": "201",
                                    "1": "Michael",
                                    "2": "13000.00"
                                },
                                {
                                    "0": "146",
                                    "1": "Karen",
                                    "2": "13500.00"
                                },
                                {
                                    "0": "145",
                                    "1": "John",
                                    "2": "14000.00"
                                },
                                {
                                    "0": "101",
                                    "1": "Neena",
                                    "2": "17000.00"
                                },
                                {
                                    "0": "102",
                                    "1": "Lex",
                                    "2": "17000.00"
                                },
                                {
                                    "0": "100",
                                    "1": "Steven",
                                    "2": "24000.00"
                                }
                            ],
                            "schema": {
                                "fields": [
                                    {
                                        "name": "employee_id"
                                    },
                                    {
                                        "name": "first_name"
                                    },
                                    {
                                        "name": "salary"
                                    }
                                ]
                            }
                        },
                        "text/html": [
                            "<table>\n",
                            "<tr><th>employee_id</th><th>first_name</th><th>salary</th></tr>\n",
                            "<tr><td>110</td><td>John</td><td>8200.00</td></tr>\n",
                            "<tr><td>121</td><td>Adam</td><td>8200.00</td></tr>\n",
                            "<tr><td>206</td><td>William</td><td>8300.00</td></tr>\n",
                            "<tr><td>177</td><td>Jack</td><td>8400.00</td></tr>\n",
                            "<tr><td>176</td><td>Jonathon</td><td>8600.00</td></tr>\n",
                            "<tr><td>103</td><td>Alexander</td><td>9000.00</td></tr>\n",
                            "<tr><td>109</td><td>Daniel</td><td>9000.00</td></tr>\n",
                            "<tr><td>204</td><td>Hermann</td><td>10000.00</td></tr>\n",
                            "<tr><td>114</td><td>Den</td><td>11000.00</td></tr>\n",
                            "<tr><td>108</td><td>Nancy</td><td>12000.00</td></tr>\n",
                            "<tr><td>205</td><td>Shelley</td><td>12000.00</td></tr>\n",
                            "<tr><td>201</td><td>Michael</td><td>13000.00</td></tr>\n",
                            "<tr><td>146</td><td>Karen</td><td>13500.00</td></tr>\n",
                            "<tr><td>145</td><td>John</td><td>14000.00</td></tr>\n",
                            "<tr><td>101</td><td>Neena</td><td>17000.00</td></tr>\n",
                            "<tr><td>102</td><td>Lex</td><td>17000.00</td></tr>\n",
                            "<tr><td>100</td><td>Steven</td><td>24000.00</td></tr>\n",
                            "</table>"
                        ]
                    },
                    "execution_count": 1,
                    "metadata": {},
                    "output_type": "execute_result"
                }
            ],
            "source": [
                "--2.\n",
                "select employee_id, first_name, salary from employees where salary in (select salary from employees where salary >= 8200) order by salary asc"
            ]
        },
        {
            "cell_type": "code",
            "execution_count": 2,
            "metadata": {
                "azdata_cell_guid": "4024217b-16cc-4885-8a64-3076d25ee061",
                "language": "sql"
            },
            "outputs": [
                {
                    "data": {
                        "text/html": [
                            "(6 rows affected)"
                        ]
                    },
                    "metadata": {},
                    "output_type": "display_data"
                },
                {
                    "data": {
                        "text/html": [
                            "Total execution time: 00:00:00.007"
                        ]
                    },
                    "metadata": {},
                    "output_type": "display_data"
                },
                {
                    "data": {
                        "application/vnd.dataresource+json": {
                            "data": [
                                {
                                    "0": "103",
                                    "1": "Hunold"
                                },
                                {
                                    "0": "105",
                                    "1": "Austin"
                                },
                                {
                                    "0": "112",
                                    "1": "Urman"
                                },
                                {
                                    "0": "118",
                                    "1": "Himuro"
                                },
                                {
                                    "0": "122",
                                    "1": "Kaufling"
                                },
                                {
                                    "0": "145",
                                    "1": "Russell"
                                }
                            ],
                            "schema": {
                                "fields": [
                                    {
                                        "name": "Employee Number"
                                    },
                                    {
                                        "name": "last_name"
                                    }
                                ]
                            }
                        },
                        "text/html": [
                            "<table>\n",
                            "<tr><th>Employee Number</th><th>last_name</th></tr>\n",
                            "<tr><td>103</td><td>Hunold</td></tr>\n",
                            "<tr><td>105</td><td>Austin</td></tr>\n",
                            "<tr><td>112</td><td>Urman</td></tr>\n",
                            "<tr><td>118</td><td>Himuro</td></tr>\n",
                            "<tr><td>122</td><td>Kaufling</td></tr>\n",
                            "<tr><td>145</td><td>Russell</td></tr>\n",
                            "</table>"
                        ]
                    },
                    "execution_count": 2,
                    "metadata": {},
                    "output_type": "execute_result"
                }
            ],
            "source": [
                "--3.\n",
                "SELECT employee_id AS 'Employee Number' ,last_name from employees where employee_id in (select employee_id from employees where employee_id in(103,105,112,118,122,145))"
            ]
        },
        {
            "cell_type": "code",
            "execution_count": 3,
            "metadata": {
                "azdata_cell_guid": "66d51407-7f34-4930-88ed-3d8006501573",
                "language": "sql"
            },
            "outputs": [
                {
                    "data": {
                        "text/html": [
                            "(1 row affected)"
                        ]
                    },
                    "metadata": {},
                    "output_type": "display_data"
                },
                {
                    "data": {
                        "text/html": [
                            "Total execution time: 00:00:00.004"
                        ]
                    },
                    "metadata": {},
                    "output_type": "display_data"
                },
                {
                    "data": {
                        "application/vnd.dataresource+json": {
                            "data": [
                                {
                                    "0": "Mavris",
                                    "1": "8",
                                    "2": "4"
                                }
                            ],
                            "schema": {
                                "fields": [
                                    {
                                        "name": "last_name"
                                    },
                                    {
                                        "name": "job_id"
                                    },
                                    {
                                        "name": "department_id"
                                    }
                                ]
                            }
                        },
                        "text/html": [
                            "<table>\n",
                            "<tr><th>last_name</th><th>job_id</th><th>department_id</th></tr>\n",
                            "<tr><td>Mavris</td><td>8</td><td>4</td></tr>\n",
                            "</table>"
                        ]
                    },
                    "execution_count": 3,
                    "metadata": {},
                    "output_type": "execute_result"
                }
            ],
            "source": [
                "--4.\n",
                "select last_name, job_id, department_id from employees where employee_id in (select employee_id from employees where employee_id=203) "
            ]
        },
        {
            "cell_type": "code",
            "execution_count": 4,
            "metadata": {
                "azdata_cell_guid": "1b27ad3e-49d3-40ef-a87b-a3f2b286b054",
                "language": "sql"
            },
            "outputs": [
                {
                    "data": {
                        "text/html": [
                            "(14 rows affected)"
                        ]
                    },
                    "metadata": {},
                    "output_type": "display_data"
                },
                {
                    "data": {
                        "text/html": [
                            "Total execution time: 00:00:00.004"
                        ]
                    },
                    "metadata": {},
                    "output_type": "display_data"
                },
                {
                    "data": {
                        "application/vnd.dataresource+json": {
                            "data": [
                                {
                                    "0": "Kochhar",
                                    "1": "17000.00"
                                },
                                {
                                    "0": "De Haan",
                                    "1": "17000.00"
                                },
                                {
                                    "0": "Raphaely",
                                    "1": "11000.00"
                                },
                                {
                                    "0": "Weiss",
                                    "1": "8000.00"
                                },
                                {
                                    "0": "Fripp",
                                    "1": "8200.00"
                                },
                                {
                                    "0": "Kaufling",
                                    "1": "7900.00"
                                },
                                {
                                    "0": "Vollman",
                                    "1": "6500.00"
                                },
                                {
                                    "0": "Russell",
                                    "1": "14000.00"
                                },
                                {
                                    "0": "Partners",
                                    "1": "13500.00"
                                },
                                {
                                    "0": "Taylor",
                                    "1": "8600.00"
                                },
                                {
                                    "0": "Livingston",
                                    "1": "8400.00"
                                },
                                {
                                    "0": "Grant",
                                    "1": "7000.00"
                                },
                                {
                                    "0": "Johnson",
                                    "1": "6200.00"
                                },
                                {
                                    "0": "Hartstein",
                                    "1": "13000.00"
                                }
                            ],
                            "schema": {
                                "fields": [
                                    {
                                        "name": "last_name"
                                    },
                                    {
                                        "name": "salary"
                                    }
                                ]
                            }
                        },
                        "text/html": [
                            "<table>\n",
                            "<tr><th>last_name</th><th>salary</th></tr>\n",
                            "<tr><td>Kochhar</td><td>17000.00</td></tr>\n",
                            "<tr><td>De Haan</td><td>17000.00</td></tr>\n",
                            "<tr><td>Raphaely</td><td>11000.00</td></tr>\n",
                            "<tr><td>Weiss</td><td>8000.00</td></tr>\n",
                            "<tr><td>Fripp</td><td>8200.00</td></tr>\n",
                            "<tr><td>Kaufling</td><td>7900.00</td></tr>\n",
                            "<tr><td>Vollman</td><td>6500.00</td></tr>\n",
                            "<tr><td>Russell</td><td>14000.00</td></tr>\n",
                            "<tr><td>Partners</td><td>13500.00</td></tr>\n",
                            "<tr><td>Taylor</td><td>8600.00</td></tr>\n",
                            "<tr><td>Livingston</td><td>8400.00</td></tr>\n",
                            "<tr><td>Grant</td><td>7000.00</td></tr>\n",
                            "<tr><td>Johnson</td><td>6200.00</td></tr>\n",
                            "<tr><td>Hartstein</td><td>13000.00</td></tr>\n",
                            "</table>"
                        ]
                    },
                    "execution_count": 4,
                    "metadata": {},
                    "output_type": "execute_result"
                }
            ],
            "source": [
                "--5.\n",
                "select last_name, salary from employees where employee_id in (select employee_id from employees where manager_id=100)"
            ]
        },
        {
            "cell_type": "code",
            "execution_count": 5,
            "metadata": {
                "azdata_cell_guid": "06d17868-b384-4bcf-8e82-ea0a4fcd7181",
                "language": "sql"
            },
            "outputs": [
                {
                    "data": {
                        "text/html": [
                            "(5 rows affected)"
                        ]
                    },
                    "metadata": {},
                    "output_type": "display_data"
                },
                {
                    "data": {
                        "text/html": [
                            "Total execution time: 00:00:00.004"
                        ]
                    },
                    "metadata": {},
                    "output_type": "display_data"
                },
                {
                    "data": {
                        "application/vnd.dataresource+json": {
                            "data": [
                                {
                                    "0": "6",
                                    "1": "Hunold",
                                    "2": "9"
                                },
                                {
                                    "0": "6",
                                    "1": "Ernst",
                                    "2": "9"
                                },
                                {
                                    "0": "6",
                                    "1": "Austin",
                                    "2": "9"
                                },
                                {
                                    "0": "6",
                                    "1": "Pataballa",
                                    "2": "9"
                                },
                                {
                                    "0": "6",
                                    "1": "Lorentz",
                                    "2": "9"
                                }
                            ],
                            "schema": {
                                "fields": [
                                    {
                                        "name": "Department Name"
                                    },
                                    {
                                        "name": "last_name"
                                    },
                                    {
                                        "name": "job_id"
                                    }
                                ]
                            }
                        },
                        "text/html": [
                            "<table>\n",
                            "<tr><th>Department Name</th><th>last_name</th><th>job_id</th></tr>\n",
                            "<tr><td>6</td><td>Hunold</td><td>9</td></tr>\n",
                            "<tr><td>6</td><td>Ernst</td><td>9</td></tr>\n",
                            "<tr><td>6</td><td>Austin</td><td>9</td></tr>\n",
                            "<tr><td>6</td><td>Pataballa</td><td>9</td></tr>\n",
                            "<tr><td>6</td><td>Lorentz</td><td>9</td></tr>\n",
                            "</table>"
                        ]
                    },
                    "execution_count": 5,
                    "metadata": {},
                    "output_type": "execute_result"
                }
            ],
            "source": [
                "--6.\n",
                "select department_id as 'Department Name', last_name, job_id from employees where employee_id in(select employee_id from employees where job_id =9  ) "
            ]
        },
        {
            "cell_type": "code",
            "execution_count": 6,
            "metadata": {
                "azdata_cell_guid": "0d5b502d-9ac9-4213-b121-8c15471b2d01",
                "language": "sql"
            },
            "outputs": [
                {
                    "data": {
                        "text/html": [
                            "(2 rows affected)"
                        ]
                    },
                    "metadata": {},
                    "output_type": "display_data"
                },
                {
                    "data": {
                        "text/html": [
                            "Total execution time: 00:00:00.004"
                        ]
                    },
                    "metadata": {},
                    "output_type": "display_data"
                },
                {
                    "data": {
                        "application/vnd.dataresource+json": {
                            "data": [
                                {
                                    "0": "103",
                                    "1": "Hunold",
                                    "2": "9000.00"
                                },
                                {
                                    "0": "145",
                                    "1": "Russell",
                                    "2": "14000.00"
                                }
                            ],
                            "schema": {
                                "fields": [
                                    {
                                        "name": "employee_id"
                                    },
                                    {
                                        "name": "last_name"
                                    },
                                    {
                                        "name": "salary"
                                    }
                                ]
                            }
                        },
                        "text/html": [
                            "<table>\n",
                            "<tr><th>employee_id</th><th>last_name</th><th>salary</th></tr>\n",
                            "<tr><td>103</td><td>Hunold</td><td>9000.00</td></tr>\n",
                            "<tr><td>145</td><td>Russell</td><td>14000.00</td></tr>\n",
                            "</table>"
                        ]
                    },
                    "execution_count": 6,
                    "metadata": {},
                    "output_type": "execute_result"
                }
            ],
            "source": [
                "--7.\n",
                "select employee_id,last_name,salary from employees where employee_id in(select employee_id from employees where employee_id in(103,145))"
            ]
        },
        {
            "cell_type": "code",
            "execution_count": null,
            "metadata": {
                "azdata_cell_guid": "19d8624a-d3a7-4080-8de1-ea7372330912",
                "language": "sql"
            },
            "outputs": [
                {
                    "data": {
                        "text/html": [
                            "(6 rows affected)"
                        ]
                    },
                    "metadata": {},
                    "output_type": "display_data"
                },
                {
                    "data": {
                        "text/html": [
                            "Total execution time: 00:00:00.005"
                        ]
                    },
                    "metadata": {},
                    "output_type": "display_data"
                },
                {
                    "data": {
                        "application/vnd.dataresource+json": {
                            "data": [
                                {
                                    "0": "Charles"
                                },
                                {
                                    "0": "Jack"
                                },
                                {
                                    "0": "John"
                                },
                                {
                                    "0": "Jonathon"
                                },
                                {
                                    "0": "Karen"
                                },
                                {
                                    "0": "Kimberely"
                                }
                            ],
                            "schema": {
                                "fields": [
                                    {
                                        "name": "first_name"
                                    }
                                ]
                            }
                        },
                        "text/html": [
                            "<table>\n",
                            "<tr><th>first_name</th></tr>\n",
                            "<tr><td>Charles</td></tr>\n",
                            "<tr><td>Jack</td></tr>\n",
                            "<tr><td>John</td></tr>\n",
                            "<tr><td>Jonathon</td></tr>\n",
                            "<tr><td>Karen</td></tr>\n",
                            "<tr><td>Kimberely</td></tr>\n",
                            "</table>"
                        ]
                    },
                    "execution_count": 7,
                    "metadata": {},
                    "output_type": "execute_result"
                }
            ],
            "source": [
                "--8.\n",
                "select first_name from employees where employee_id in( select employee_id from employees where phone_number is null)"
            ]
        },
        {
            "cell_type": "code",
            "execution_count": 8,
            "metadata": {
                "azdata_cell_guid": "67cbed89-fd2b-4cff-b278-751eb5c68ce6",
                "language": "sql"
            },
            "outputs": [
                {
                    "data": {
                        "text/html": [
                            "(3 rows affected)"
                        ]
                    },
                    "metadata": {},
                    "output_type": "display_data"
                },
                {
                    "data": {
                        "text/html": [
                            "Total execution time: 00:00:00.004"
                        ]
                    },
                    "metadata": {},
                    "output_type": "display_data"
                },
                {
                    "data": {
                        "application/vnd.dataresource+json": {
                            "data": [
                                {
                                    "0": "King",
                                    "1": "24000.00"
                                },
                                {
                                    "0": "Kochhar",
                                    "1": "17000.00"
                                },
                                {
                                    "0": "De Haan",
                                    "1": "17000.00"
                                }
                            ],
                            "schema": {
                                "fields": [
                                    {
                                        "name": "last_name"
                                    },
                                    {
                                        "name": "salary"
                                    }
                                ]
                            }
                        },
                        "text/html": [
                            "<table>\n",
                            "<tr><th>last_name</th><th>salary</th></tr>\n",
                            "<tr><td>King</td><td>24000.00</td></tr>\n",
                            "<tr><td>Kochhar</td><td>17000.00</td></tr>\n",
                            "<tr><td>De Haan</td><td>17000.00</td></tr>\n",
                            "</table>"
                        ]
                    },
                    "execution_count": 8,
                    "metadata": {},
                    "output_type": "execute_result"
                }
            ],
            "source": [
                "--9.\n",
                "select last_name, salary from employees where employee_id in (select employee_id from employees where salary >=17000)"
            ]
        },
        {
            "cell_type": "code",
            "execution_count": 9,
            "metadata": {
                "azdata_cell_guid": "8c9f8ea1-8c21-4f71-9ad8-dbb9af84f395",
                "language": "sql"
            },
            "outputs": [
                {
                    "data": {
                        "text/html": [
                            "(3 rows affected)"
                        ]
                    },
                    "metadata": {},
                    "output_type": "display_data"
                },
                {
                    "data": {
                        "text/html": [
                            "Total execution time: 00:00:00.004"
                        ]
                    },
                    "metadata": {},
                    "output_type": "display_data"
                },
                {
                    "data": {
                        "application/vnd.dataresource+json": {
                            "data": [
                                {
                                    "0": "Neena",
                                    "1": "17000.00",
                                    "2": "9"
                                },
                                {
                                    "0": "Lex",
                                    "1": "17000.00",
                                    "2": "9"
                                },
                                {
                                    "0": "John",
                                    "1": "14000.00",
                                    "2": "8"
                                }
                            ],
                            "schema": {
                                "fields": [
                                    {
                                        "name": "first_name"
                                    },
                                    {
                                        "name": "salary"
                                    },
                                    {
                                        "name": "department_id"
                                    }
                                ]
                            }
                        },
                        "text/html": [
                            "<table>\n",
                            "<tr><th>first_name</th><th>salary</th><th>department_id</th></tr>\n",
                            "<tr><td>Neena</td><td>17000.00</td><td>9</td></tr>\n",
                            "<tr><td>Lex</td><td>17000.00</td><td>9</td></tr>\n",
                            "<tr><td>John</td><td>14000.00</td><td>8</td></tr>\n",
                            "</table>"
                        ]
                    },
                    "execution_count": 9,
                    "metadata": {},
                    "output_type": "execute_result"
                }
            ],
            "source": [
                "--10.\n",
                "select  first_name, salary, department_id from employees where employee_id in(select employee_id from employees where salary >=14000 and manager_id=100 ) "
            ]
        }
    ],
    "metadata": {
        "kernelspec": {
            "display_name": "SQL",
            "language": "sql",
            "name": "SQL"
        },
        "language_info": {
            "name": "sql",
            "version": ""
        }
    },
    "nbformat": 4,
    "nbformat_minor": 2
}

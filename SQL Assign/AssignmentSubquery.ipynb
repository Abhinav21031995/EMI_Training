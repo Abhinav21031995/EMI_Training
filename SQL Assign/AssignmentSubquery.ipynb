{
    "metadata": {
        "kernelspec": {
            "name": "SQL",
            "display_name": "SQL",
            "language": "sql"
        },
        "language_info": {
            "name": "sql",
            "version": ""
        }
    },
    "nbformat_minor": 2,
    "nbformat": 4,
    "cells": [
        {
            "cell_type": "code",
            "source": [
                "select * from Album\r\n",
                "select * from Artist\r\n",
                "select * from RecordLabel\r\n",
                "select * from  Song"
            ],
            "metadata": {
                "azdata_cell_guid": "425351bb-73d3-409e-9749-a1ecdb256d1a",
                "language": "sql"
            },
            "outputs": [
                {
                    "output_type": "display_data",
                    "data": {
                        "text/html": "(12 rows affected)"
                    },
                    "metadata": {}
                },
                {
                    "output_type": "display_data",
                    "data": {
                        "text/html": "(8 rows affected)"
                    },
                    "metadata": {}
                },
                {
                    "output_type": "display_data",
                    "data": {
                        "text/html": "(5 rows affected)"
                    },
                    "metadata": {}
                },
                {
                    "output_type": "display_data",
                    "data": {
                        "text/html": "(24 rows affected)"
                    },
                    "metadata": {}
                },
                {
                    "output_type": "display_data",
                    "data": {
                        "text/html": "Total execution time: 00:00:00.059"
                    },
                    "metadata": {}
                },
                {
                    "output_type": "execute_result",
                    "metadata": {},
                    "execution_count": 1,
                    "data": {
                        "application/vnd.dataresource+json": {
                            "schema": {
                                "fields": [
                                    {
                                        "name": "ArtistId"
                                    },
                                    {
                                        "name": "AlbumId"
                                    },
                                    {
                                        "name": "Name"
                                    },
                                    {
                                        "name": "Year"
                                    }
                                ]
                            },
                            "data": [
                                {
                                    "0": "1",
                                    "1": "1",
                                    "2": "...And Justice For All",
                                    "3": "1988"
                                },
                                {
                                    "0": "1",
                                    "1": "2",
                                    "2": "Black Album",
                                    "3": "1991"
                                },
                                {
                                    "0": "1",
                                    "1": "3",
                                    "2": "Master of Puppets",
                                    "3": "1986"
                                },
                                {
                                    "0": "2",
                                    "1": "4",
                                    "2": "Endgame",
                                    "3": "2009"
                                },
                                {
                                    "0": "2",
                                    "1": "5",
                                    "2": "Peace Sells",
                                    "3": "1986"
                                },
                                {
                                    "0": "3",
                                    "1": "6",
                                    "2": "The Greater of 2 Evils",
                                    "3": "2004"
                                },
                                {
                                    "0": "4",
                                    "1": "7",
                                    "2": "Reptile",
                                    "3": "2001"
                                },
                                {
                                    "0": "4",
                                    "1": "8",
                                    "2": "Riding with the King",
                                    "3": "2000"
                                },
                                {
                                    "0": "5",
                                    "1": "9",
                                    "2": "Greatest Hits",
                                    "3": "1992"
                                },
                                {
                                    "0": "6",
                                    "1": "10",
                                    "2": "Greatest Hits",
                                    "3": "2004"
                                },
                                {
                                    "0": "7",
                                    "1": "11",
                                    "2": "All-Time Greatest Hits",
                                    "3": "1975"
                                },
                                {
                                    "0": "8",
                                    "1": "12",
                                    "2": "Greatest Hits",
                                    "3": "2003"
                                }
                            ]
                        },
                        "text/html": [
                            "<table>",
                            "<tr><th>ArtistId</th><th>AlbumId</th><th>Name</th><th>Year</th></tr>",
                            "<tr><td>1</td><td>1</td><td>...And Justice For All</td><td>1988</td></tr>",
                            "<tr><td>1</td><td>2</td><td>Black Album</td><td>1991</td></tr>",
                            "<tr><td>1</td><td>3</td><td>Master of Puppets</td><td>1986</td></tr>",
                            "<tr><td>2</td><td>4</td><td>Endgame</td><td>2009</td></tr>",
                            "<tr><td>2</td><td>5</td><td>Peace Sells</td><td>1986</td></tr>",
                            "<tr><td>3</td><td>6</td><td>The Greater of 2 Evils</td><td>2004</td></tr>",
                            "<tr><td>4</td><td>7</td><td>Reptile</td><td>2001</td></tr>",
                            "<tr><td>4</td><td>8</td><td>Riding with the King</td><td>2000</td></tr>",
                            "<tr><td>5</td><td>9</td><td>Greatest Hits</td><td>1992</td></tr>",
                            "<tr><td>6</td><td>10</td><td>Greatest Hits</td><td>2004</td></tr>",
                            "<tr><td>7</td><td>11</td><td>All-Time Greatest Hits</td><td>1975</td></tr>",
                            "<tr><td>8</td><td>12</td><td>Greatest Hits</td><td>2003</td></tr>",
                            "</table>"
                        ]
                    }
                },
                {
                    "output_type": "execute_result",
                    "metadata": {},
                    "execution_count": 1,
                    "data": {
                        "application/vnd.dataresource+json": {
                            "schema": {
                                "fields": [
                                    {
                                        "name": "LabelId"
                                    },
                                    {
                                        "name": "ArtistId"
                                    },
                                    {
                                        "name": "Name"
                                    }
                                ]
                            },
                            "data": [
                                {
                                    "0": "1",
                                    "1": "1",
                                    "2": "Metallica"
                                },
                                {
                                    "0": "1",
                                    "1": "2",
                                    "2": "Megadeth"
                                },
                                {
                                    "0": "1",
                                    "1": "3",
                                    "2": "Anthrax"
                                },
                                {
                                    "0": "2",
                                    "1": "4",
                                    "2": "Eric Clapton"
                                },
                                {
                                    "0": "2",
                                    "1": "5",
                                    "2": "ZZ Top"
                                },
                                {
                                    "0": "2",
                                    "1": "6",
                                    "2": "Van Halen"
                                },
                                {
                                    "0": "3",
                                    "1": "7",
                                    "2": "Lynyrd Skynyrd"
                                },
                                {
                                    "0": "3",
                                    "1": "8",
                                    "2": "ACDC"
                                }
                            ]
                        },
                        "text/html": [
                            "<table>",
                            "<tr><th>LabelId</th><th>ArtistId</th><th>Name</th></tr>",
                            "<tr><td>1</td><td>1</td><td>Metallica</td></tr>",
                            "<tr><td>1</td><td>2</td><td>Megadeth</td></tr>",
                            "<tr><td>1</td><td>3</td><td>Anthrax</td></tr>",
                            "<tr><td>2</td><td>4</td><td>Eric Clapton</td></tr>",
                            "<tr><td>2</td><td>5</td><td>ZZ Top</td></tr>",
                            "<tr><td>2</td><td>6</td><td>Van Halen</td></tr>",
                            "<tr><td>3</td><td>7</td><td>Lynyrd Skynyrd</td></tr>",
                            "<tr><td>3</td><td>8</td><td>ACDC</td></tr>",
                            "</table>"
                        ]
                    }
                },
                {
                    "output_type": "execute_result",
                    "metadata": {},
                    "execution_count": 1,
                    "data": {
                        "application/vnd.dataresource+json": {
                            "schema": {
                                "fields": [
                                    {
                                        "name": "LabelID"
                                    },
                                    {
                                        "name": "Name"
                                    }
                                ]
                            },
                            "data": [
                                {
                                    "0": "1",
                                    "1": "Blackened"
                                },
                                {
                                    "0": "2",
                                    "1": "Warner Bros"
                                },
                                {
                                    "0": "3",
                                    "1": "Universal"
                                },
                                {
                                    "0": "4",
                                    "1": "MCA"
                                },
                                {
                                    "0": "5",
                                    "1": "Elektra"
                                }
                            ]
                        },
                        "text/html": [
                            "<table>",
                            "<tr><th>LabelID</th><th>Name</th></tr>",
                            "<tr><td>1</td><td>Blackened</td></tr>",
                            "<tr><td>2</td><td>Warner Bros</td></tr>",
                            "<tr><td>3</td><td>Universal</td></tr>",
                            "<tr><td>4</td><td>MCA</td></tr>",
                            "<tr><td>5</td><td>Elektra</td></tr>",
                            "</table>"
                        ]
                    }
                },
                {
                    "output_type": "execute_result",
                    "metadata": {},
                    "execution_count": 1,
                    "data": {
                        "application/vnd.dataresource+json": {
                            "schema": {
                                "fields": [
                                    {
                                        "name": "AlbumId"
                                    },
                                    {
                                        "name": "SongId"
                                    },
                                    {
                                        "name": "Name"
                                    },
                                    {
                                        "name": "Duration"
                                    }
                                ]
                            },
                            "data": [
                                {
                                    "0": "1",
                                    "1": "1",
                                    "2": "One",
                                    "3": "7.25"
                                },
                                {
                                    "0": "1",
                                    "1": "2",
                                    "2": "Blackened",
                                    "3": "6.42"
                                },
                                {
                                    "0": "2",
                                    "1": "3",
                                    "2": "Enter Sandman",
                                    "3": "5.3"
                                },
                                {
                                    "0": "2",
                                    "1": "4",
                                    "2": "Sad But True",
                                    "3": "5.29"
                                },
                                {
                                    "0": "3",
                                    "1": "5",
                                    "2": "Master of Puppets",
                                    "3": "8.35"
                                },
                                {
                                    "0": "3",
                                    "1": "6",
                                    "2": "Battery",
                                    "3": "5.13"
                                },
                                {
                                    "0": "4",
                                    "1": "7",
                                    "2": "Dialectic Chaos",
                                    "3": "2.26"
                                },
                                {
                                    "0": "4",
                                    "1": "8",
                                    "2": "Endgame",
                                    "3": "5.57"
                                },
                                {
                                    "0": "5",
                                    "1": "9",
                                    "2": "Peace Sells",
                                    "3": "4.09"
                                },
                                {
                                    "0": "5",
                                    "1": "10",
                                    "2": "The Conjuring",
                                    "3": "5.09"
                                },
                                {
                                    "0": "6",
                                    "1": "11",
                                    "2": "Madhouse",
                                    "3": "4.26"
                                },
                                {
                                    "0": "6",
                                    "1": "12",
                                    "2": "I am the Law",
                                    "3": "6.03"
                                },
                                {
                                    "0": "7",
                                    "1": "13",
                                    "2": "Reptile",
                                    "3": "3.36"
                                },
                                {
                                    "0": "7",
                                    "1": "14",
                                    "2": "Modern Girl",
                                    "3": "4.49"
                                },
                                {
                                    "0": "8",
                                    "1": "15",
                                    "2": "Riding with the King",
                                    "3": "4.23"
                                },
                                {
                                    "0": "8",
                                    "1": "16",
                                    "2": "Key to the Highway",
                                    "3": "3.39"
                                },
                                {
                                    "0": "9",
                                    "1": "17",
                                    "2": "Sharp Dressed Man",
                                    "3": "4.15"
                                },
                                {
                                    "0": "9",
                                    "1": "18",
                                    "2": "Legs",
                                    "3": "4.32"
                                },
                                {
                                    "0": "10",
                                    "1": "19",
                                    "2": "Eruption",
                                    "3": "1.43"
                                },
                                {
                                    "0": "10",
                                    "1": "20",
                                    "2": "Hot For Teacher",
                                    "3": "4.43"
                                },
                                {
                                    "0": "11",
                                    "1": "21",
                                    "2": "Sweet Home Alabama",
                                    "3": "4.45"
                                },
                                {
                                    "0": "11",
                                    "1": "22",
                                    "2": "Free Bird",
                                    "3": "14.23"
                                },
                                {
                                    "0": "12",
                                    "1": "23",
                                    "2": "Thunderstruck",
                                    "3": "4.52"
                                },
                                {
                                    "0": "12",
                                    "1": "24",
                                    "2": "T.N.T",
                                    "3": "3.35"
                                }
                            ]
                        },
                        "text/html": [
                            "<table>",
                            "<tr><th>AlbumId</th><th>SongId</th><th>Name</th><th>Duration</th></tr>",
                            "<tr><td>1</td><td>1</td><td>One</td><td>7.25</td></tr>",
                            "<tr><td>1</td><td>2</td><td>Blackened</td><td>6.42</td></tr>",
                            "<tr><td>2</td><td>3</td><td>Enter Sandman</td><td>5.3</td></tr>",
                            "<tr><td>2</td><td>4</td><td>Sad But True</td><td>5.29</td></tr>",
                            "<tr><td>3</td><td>5</td><td>Master of Puppets</td><td>8.35</td></tr>",
                            "<tr><td>3</td><td>6</td><td>Battery</td><td>5.13</td></tr>",
                            "<tr><td>4</td><td>7</td><td>Dialectic Chaos</td><td>2.26</td></tr>",
                            "<tr><td>4</td><td>8</td><td>Endgame</td><td>5.57</td></tr>",
                            "<tr><td>5</td><td>9</td><td>Peace Sells</td><td>4.09</td></tr>",
                            "<tr><td>5</td><td>10</td><td>The Conjuring</td><td>5.09</td></tr>",
                            "<tr><td>6</td><td>11</td><td>Madhouse</td><td>4.26</td></tr>",
                            "<tr><td>6</td><td>12</td><td>I am the Law</td><td>6.03</td></tr>",
                            "<tr><td>7</td><td>13</td><td>Reptile</td><td>3.36</td></tr>",
                            "<tr><td>7</td><td>14</td><td>Modern Girl</td><td>4.49</td></tr>",
                            "<tr><td>8</td><td>15</td><td>Riding with the King</td><td>4.23</td></tr>",
                            "<tr><td>8</td><td>16</td><td>Key to the Highway</td><td>3.39</td></tr>",
                            "<tr><td>9</td><td>17</td><td>Sharp Dressed Man</td><td>4.15</td></tr>",
                            "<tr><td>9</td><td>18</td><td>Legs</td><td>4.32</td></tr>",
                            "<tr><td>10</td><td>19</td><td>Eruption</td><td>1.43</td></tr>",
                            "<tr><td>10</td><td>20</td><td>Hot For Teacher</td><td>4.43</td></tr>",
                            "<tr><td>11</td><td>21</td><td>Sweet Home Alabama</td><td>4.45</td></tr>",
                            "<tr><td>11</td><td>22</td><td>Free Bird</td><td>14.23</td></tr>",
                            "<tr><td>12</td><td>23</td><td>Thunderstruck</td><td>4.52</td></tr>",
                            "<tr><td>12</td><td>24</td><td>T.N.T</td><td>3.35</td></tr>",
                            "</table>"
                        ]
                    }
                }
            ],
            "execution_count": 1
        },
        {
            "cell_type": "code",
            "source": [
                "--Q1\r\n",
                "select Name from Artist where artistid in(select top 1 artistid from album \r\n",
                "group by artistid having (count(artistid) > 1))"
            ],
            "metadata": {
                "azdata_cell_guid": "2b97294e-442e-4535-b5c6-f715c010486c",
                "language": "sql"
            },
            "outputs": [
                {
                    "output_type": "display_data",
                    "data": {
                        "text/html": "(1 row affected)"
                    },
                    "metadata": {}
                },
                {
                    "output_type": "display_data",
                    "data": {
                        "text/html": "Total execution time: 00:00:00.012"
                    },
                    "metadata": {}
                },
                {
                    "output_type": "execute_result",
                    "metadata": {},
                    "execution_count": 2,
                    "data": {
                        "application/vnd.dataresource+json": {
                            "schema": {
                                "fields": [
                                    {
                                        "name": "Name"
                                    }
                                ]
                            },
                            "data": [
                                {
                                    "0": "Metallica"
                                }
                            ]
                        },
                        "text/html": [
                            "<table>",
                            "<tr><th>Name</th></tr>",
                            "<tr><td>Metallica</td></tr>",
                            "</table>"
                        ]
                    }
                }
            ],
            "execution_count": 2
        },
        {
            "cell_type": "code",
            "source": [
                "--Q2 check\r\n",
                "select name from Artist  where artistid in  (select ArtistId from album \r\n",
                "group by artistid having (count(artistid) <= 1))"
            ],
            "metadata": {
                "azdata_cell_guid": "87080a1e-554d-4b30-9d61-8b6183451910",
                "language": "sql"
            },
            "outputs": [
                {
                    "output_type": "display_data",
                    "data": {
                        "text/html": "(5 rows affected)"
                    },
                    "metadata": {}
                },
                {
                    "output_type": "display_data",
                    "data": {
                        "text/html": "Total execution time: 00:00:00.006"
                    },
                    "metadata": {}
                },
                {
                    "output_type": "execute_result",
                    "metadata": {},
                    "execution_count": 3,
                    "data": {
                        "application/vnd.dataresource+json": {
                            "schema": {
                                "fields": [
                                    {
                                        "name": "name"
                                    }
                                ]
                            },
                            "data": [
                                {
                                    "0": "Anthrax"
                                },
                                {
                                    "0": "ZZ Top"
                                },
                                {
                                    "0": "Van Halen"
                                },
                                {
                                    "0": "Lynyrd Skynyrd"
                                },
                                {
                                    "0": "ACDC"
                                }
                            ]
                        },
                        "text/html": [
                            "<table>",
                            "<tr><th>name</th></tr>",
                            "<tr><td>Anthrax</td></tr>",
                            "<tr><td>ZZ Top</td></tr>",
                            "<tr><td>Van Halen</td></tr>",
                            "<tr><td>Lynyrd Skynyrd</td></tr>",
                            "<tr><td>ACDC</td></tr>",
                            "</table>"
                        ]
                    }
                }
            ],
            "execution_count": 3
        },
        {
            "cell_type": "code",
            "source": [
                "--Q3\r\n",
                "select count(ArtistId) as 'No of songs' from Artist where artistid in  (select ArtistId from album \r\n",
                "group by artistid having (count(artistid) = 1))"
            ],
            "metadata": {
                "azdata_cell_guid": "b9375f3f-afb1-483f-8cce-dc246f888c11",
                "language": "sql"
            },
            "outputs": [
                {
                    "output_type": "display_data",
                    "data": {
                        "text/html": "(1 row affected)"
                    },
                    "metadata": {}
                },
                {
                    "output_type": "display_data",
                    "data": {
                        "text/html": "Total execution time: 00:00:00.004"
                    },
                    "metadata": {}
                },
                {
                    "output_type": "execute_result",
                    "metadata": {},
                    "execution_count": 4,
                    "data": {
                        "application/vnd.dataresource+json": {
                            "schema": {
                                "fields": [
                                    {
                                        "name": "No of songs"
                                    }
                                ]
                            },
                            "data": [
                                {
                                    "0": "5"
                                }
                            ]
                        },
                        "text/html": [
                            "<table>",
                            "<tr><th>No of songs</th></tr>",
                            "<tr><td>5</td></tr>",
                            "</table>"
                        ]
                    }
                }
            ],
            "execution_count": 4
        },
        {
            "cell_type": "code",
            "source": [
                "--Q4\r\n",
                "select name from Artist where ArtistId in \r\n",
                "(select albumid from song where SongId in( select SongId from song where Duration>5))"
            ],
            "metadata": {
                "azdata_cell_guid": "93f70d04-d4d1-4262-9a26-ae749ff681dd",
                "language": "sql"
            },
            "outputs": [
                {
                    "output_type": "display_data",
                    "data": {
                        "text/html": "(6 rows affected)"
                    },
                    "metadata": {}
                },
                {
                    "output_type": "display_data",
                    "data": {
                        "text/html": "Total execution time: 00:00:00.015"
                    },
                    "metadata": {}
                },
                {
                    "output_type": "execute_result",
                    "metadata": {},
                    "execution_count": 5,
                    "data": {
                        "application/vnd.dataresource+json": {
                            "schema": {
                                "fields": [
                                    {
                                        "name": "name"
                                    }
                                ]
                            },
                            "data": [
                                {
                                    "0": "Metallica"
                                },
                                {
                                    "0": "Megadeth"
                                },
                                {
                                    "0": "Anthrax"
                                },
                                {
                                    "0": "Eric Clapton"
                                },
                                {
                                    "0": "ZZ Top"
                                },
                                {
                                    "0": "Van Halen"
                                }
                            ]
                        },
                        "text/html": [
                            "<table>",
                            "<tr><th>name</th></tr>",
                            "<tr><td>Metallica</td></tr>",
                            "<tr><td>Megadeth</td></tr>",
                            "<tr><td>Anthrax</td></tr>",
                            "<tr><td>Eric Clapton</td></tr>",
                            "<tr><td>ZZ Top</td></tr>",
                            "<tr><td>Van Halen</td></tr>",
                            "</table>"
                        ]
                    }
                }
            ],
            "execution_count": 5
        },
        {
            "cell_type": "code",
            "source": [
                "--Q5\r\n",
                "\r\n",
                "\r\n",
                "select ar.name, al.name, count(s.songId)as 'No of songs' from song s, Artist ar, Album al\r\n",
                "where ar.ArtistId in (select al.albumid from song where s.SongId in( select albumId from song  where Duration<5))\r\n",
                "GROUP by ar.Name,al.name"
            ],
            "metadata": {
                "azdata_cell_guid": "14f350c6-c28d-4b42-a489-5f436734f876",
                "language": "sql"
            },
            "outputs": [
                {
                    "output_type": "display_data",
                    "data": {
                        "text/html": "(8 rows affected)"
                    },
                    "metadata": {}
                },
                {
                    "output_type": "display_data",
                    "data": {
                        "text/html": "Total execution time: 00:00:00.016"
                    },
                    "metadata": {}
                },
                {
                    "output_type": "execute_result",
                    "metadata": {},
                    "execution_count": 6,
                    "data": {
                        "application/vnd.dataresource+json": {
                            "schema": {
                                "fields": [
                                    {
                                        "name": "name"
                                    },
                                    {
                                        "name": "name"
                                    },
                                    {
                                        "name": "No of songs"
                                    }
                                ]
                            },
                            "data": [
                                {
                                    "0": "Metallica",
                                    "1": "...And Justice For All",
                                    "2": "9"
                                },
                                {
                                    "0": "Megadeth",
                                    "1": "Black Album",
                                    "2": "9"
                                },
                                {
                                    "0": "Eric Clapton",
                                    "1": "Endgame",
                                    "2": "9"
                                },
                                {
                                    "0": "Anthrax",
                                    "1": "Master of Puppets",
                                    "2": "9"
                                },
                                {
                                    "0": "ZZ Top",
                                    "1": "Peace Sells",
                                    "2": "9"
                                },
                                {
                                    "0": "Lynyrd Skynyrd",
                                    "1": "Reptile",
                                    "2": "9"
                                },
                                {
                                    "0": "ACDC",
                                    "1": "Riding with the King",
                                    "2": "9"
                                },
                                {
                                    "0": "Van Halen",
                                    "1": "The Greater of 2 Evils",
                                    "2": "9"
                                }
                            ]
                        },
                        "text/html": [
                            "<table>",
                            "<tr><th>name</th><th>name</th><th>No of songs</th></tr>",
                            "<tr><td>Metallica</td><td>...And Justice For All</td><td>9</td></tr>",
                            "<tr><td>Megadeth</td><td>Black Album</td><td>9</td></tr>",
                            "<tr><td>Eric Clapton</td><td>Endgame</td><td>9</td></tr>",
                            "<tr><td>Anthrax</td><td>Master of Puppets</td><td>9</td></tr>",
                            "<tr><td>ZZ Top</td><td>Peace Sells</td><td>9</td></tr>",
                            "<tr><td>Lynyrd Skynyrd</td><td>Reptile</td><td>9</td></tr>",
                            "<tr><td>ACDC</td><td>Riding with the King</td><td>9</td></tr>",
                            "<tr><td>Van Halen</td><td>The Greater of 2 Evils</td><td>9</td></tr>",
                            "</table>"
                        ]
                    }
                }
            ],
            "execution_count": 6
        },
        {
            "cell_type": "code",
            "source": [
                "--Q6\r\n",
                "select top 1 al.year, count(s.SongId) as 'no of songs' from Album al, song s where al.AlbumId  in(select s.songId from song s ) \r\n",
                "group by al.year order by [no of songs] DESC"
            ],
            "metadata": {
                "azdata_cell_guid": "33c0c342-128c-4656-b0f9-fe06eb70f39e",
                "language": "sql"
            },
            "outputs": [
                {
                    "output_type": "display_data",
                    "data": {
                        "text/html": "(1 row affected)"
                    },
                    "metadata": {}
                },
                {
                    "output_type": "display_data",
                    "data": {
                        "text/html": "Total execution time: 00:00:00.011"
                    },
                    "metadata": {}
                },
                {
                    "output_type": "execute_result",
                    "metadata": {},
                    "execution_count": 7,
                    "data": {
                        "application/vnd.dataresource+json": {
                            "schema": {
                                "fields": [
                                    {
                                        "name": "year"
                                    },
                                    {
                                        "name": "no of songs"
                                    }
                                ]
                            },
                            "data": [
                                {
                                    "0": "1986",
                                    "1": "48"
                                }
                            ]
                        },
                        "text/html": [
                            "<table>",
                            "<tr><th>year</th><th>no of songs</th></tr>",
                            "<tr><td>1986</td><td>48</td></tr>",
                            "</table>"
                        ]
                    }
                }
            ],
            "execution_count": 7
        },
        {
            "cell_type": "code",
            "source": [
                "--Q7\r\n",
                "select top 1 al.year  \"Year\",count(*) \"Number of Albums Recorded\"\r\n",
                "from album al group by al.year order by [Number of Albums Recorded] desc"
            ],
            "metadata": {
                "azdata_cell_guid": "7f18a1a2-6575-4bfb-b52b-668f8d2bc308",
                "language": "sql"
            },
            "outputs": [
                {
                    "output_type": "display_data",
                    "data": {
                        "text/html": "(1 row affected)"
                    },
                    "metadata": {}
                },
                {
                    "output_type": "display_data",
                    "data": {
                        "text/html": "Total execution time: 00:00:00.003"
                    },
                    "metadata": {}
                },
                {
                    "output_type": "execute_result",
                    "metadata": {},
                    "execution_count": 8,
                    "data": {
                        "application/vnd.dataresource+json": {
                            "schema": {
                                "fields": [
                                    {
                                        "name": "Year"
                                    },
                                    {
                                        "name": "Number of Albums Recorded"
                                    }
                                ]
                            },
                            "data": [
                                {
                                    "0": "1986",
                                    "1": "2"
                                }
                            ]
                        },
                        "text/html": [
                            "<table>",
                            "<tr><th>Year</th><th>Number of Albums Recorded</th></tr>",
                            "<tr><td>1986</td><td>2</td></tr>",
                            "</table>"
                        ]
                    }
                }
            ],
            "execution_count": 8
        },
        {
            "cell_type": "code",
            "source": [
                "--Q8\r\n",
                "select ar.name, sum(s.duration) from song s, Artist ar where s.AlbumId in (select al.albumid from Album al \r\n",
                "where al.AlbumId in(select ar.ArtistId from Artist ar))\r\n",
                "GROUP by ar.name order by sum(s.Duration) desc"
            ],
            "metadata": {
                "azdata_cell_guid": "0fc16798-7a88-4d47-a9f4-20bc6a59a0d9",
                "language": "sql"
            },
            "outputs": [
                {
                    "output_type": "display_data",
                    "data": {
                        "text/html": "(8 rows affected)"
                    },
                    "metadata": {}
                },
                {
                    "output_type": "display_data",
                    "data": {
                        "text/html": "Total execution time: 00:00:00.021"
                    },
                    "metadata": {}
                },
                {
                    "output_type": "execute_result",
                    "metadata": {},
                    "execution_count": 9,
                    "data": {
                        "application/vnd.dataresource+json": {
                            "schema": {
                                "fields": [
                                    {
                                        "name": "name"
                                    },
                                    {
                                        "name": "(No column name)"
                                    }
                                ]
                            },
                            "data": [
                                {
                                    "0": "ACDC",
                                    "1": "80.51000142097473"
                                },
                                {
                                    "0": "Anthrax",
                                    "1": "80.51000142097473"
                                },
                                {
                                    "0": "Eric Clapton",
                                    "1": "80.51000142097473"
                                },
                                {
                                    "0": "Lynyrd Skynyrd",
                                    "1": "80.51000142097473"
                                },
                                {
                                    "0": "Megadeth",
                                    "1": "80.51000142097473"
                                },
                                {
                                    "0": "Metallica",
                                    "1": "80.51000142097473"
                                },
                                {
                                    "0": "Van Halen",
                                    "1": "80.51000142097473"
                                },
                                {
                                    "0": "ZZ Top",
                                    "1": "80.51000142097473"
                                }
                            ]
                        },
                        "text/html": [
                            "<table>",
                            "<tr><th>name</th><th>(No column name)</th></tr>",
                            "<tr><td>ACDC</td><td>80.51000142097473</td></tr>",
                            "<tr><td>Anthrax</td><td>80.51000142097473</td></tr>",
                            "<tr><td>Eric Clapton</td><td>80.51000142097473</td></tr>",
                            "<tr><td>Lynyrd Skynyrd</td><td>80.51000142097473</td></tr>",
                            "<tr><td>Megadeth</td><td>80.51000142097473</td></tr>",
                            "<tr><td>Metallica</td><td>80.51000142097473</td></tr>",
                            "<tr><td>Van Halen</td><td>80.51000142097473</td></tr>",
                            "<tr><td>ZZ Top</td><td>80.51000142097473</td></tr>",
                            "</table>"
                        ]
                    }
                }
            ],
            "execution_count": 9
        }
    ]
}
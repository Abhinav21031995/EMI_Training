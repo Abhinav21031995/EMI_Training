{
    "metadata": {
        "kernelspec": {
            "name": "SQL",
            "display_name": "SQL",
            "language": "sql"
        },
        "language_info": {
            "name": "sql",
            "version": ""
        }
    },
    "nbformat_minor": 2,
    "nbformat": 4,
    "cells": [
        {
            "cell_type": "code",
            "source": [
                "create procedure dbo.spIncreaseEmployeeeSalary\r\n",
                "@salaryInput int, \r\n",
                "@employeeId  int \r\n",
                "as\r\n",
                "begin\r\n",
                "declare @managerCount int \r\n",
                "set @managerCount= (select COUNT(manager_id) \r\n",
                "as Empcount from employees  where manager_id is not null  and manager_id=@employeeId group by manager_id)\r\n",
                "if(@managerCount>1)\r\n",
                "begin\r\n",
                "if(@salaryInput>0)\r\n",
                "begin\r\n",
                "update employees set salary=salary+@salaryInput where employee_id=@employeeId\r\n",
                "end\r\n",
                "else\r\n",
                "print 'Please Enter a valid salary it should be greater than 0'\r\n",
                "end\r\n",
                "else\r\n",
                "print'Error , Manager count should be greater than 0'\r\n",
                "end\r\n",
                "\r\n",
                "exec dbo.spIncreaseEmployeeeSalary 1000,100"
            ],
            "metadata": {
                "azdata_cell_guid": "5d04810e-1c92-4017-a3ac-6a9a536bdc57",
                "language": "sql"
            },
            "outputs": [
                {
                    "output_type": "error",
                    "evalue": "Msg 2714, Level 16, State 3, Procedure spIncreaseEmployeeeSalary, Line 1\r\nThere is already an object named 'spIncreaseEmployeeeSalary' in the database.",
                    "ename": "",
                    "traceback": []
                },
                {
                    "output_type": "display_data",
                    "data": {
                        "text/html": "Total execution time: 00:00:00.014"
                    },
                    "metadata": {}
                }
            ],
            "execution_count": 1
        }
    ]
}
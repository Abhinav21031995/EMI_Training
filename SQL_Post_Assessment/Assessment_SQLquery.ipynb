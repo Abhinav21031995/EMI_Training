{
    "metadata": {
        "kernelspec": {
            "name": "SQL",
            "display_name": "SQL",
            "language": "sql"
        },
        "language_info": {
            "name": "sql",
            "version": ""
        }
    },
    "nbformat_minor": 2,
    "nbformat": 4,
    "cells": [
        {
            "cell_type": "code",
            "source": [
                "--1.\r\n",
                "select  job_id, AVG(salary) as Average,MIN(salary) as Minimum,MAX(salary) as Mamximum from employees where job_id<18  group BY job_id"
            ],
            "metadata": {
                "azdata_cell_guid": "16722229-82ef-467c-a62a-ab779545b185",
                "language": "sql"
            },
            "outputs": [
                {
                    "output_type": "display_data",
                    "data": {
                        "text/html": "(17 rows affected)"
                    },
                    "metadata": {}
                },
                {
                    "output_type": "display_data",
                    "data": {
                        "text/html": "Total execution time: 00:00:00.045"
                    },
                    "metadata": {}
                },
                {
                    "output_type": "execute_result",
                    "execution_count": 1,
                    "data": {
                        "application/vnd.dataresource+json": {
                            "schema": {
                                "fields": [
                                    {
                                        "name": "job_id"
                                    },
                                    {
                                        "name": "Average"
                                    },
                                    {
                                        "name": "Minimum"
                                    },
                                    {
                                        "name": "Mamximum"
                                    }
                                ]
                            },
                            "data": [
                                {
                                    "0": "1",
                                    "1": "8300.000000",
                                    "2": "8300.00",
                                    "3": "8300.00"
                                },
                                {
                                    "0": "2",
                                    "1": "12000.000000",
                                    "2": "12000.00",
                                    "3": "12000.00"
                                },
                                {
                                    "0": "3",
                                    "1": "4400.000000",
                                    "2": "4400.00",
                                    "3": "4400.00"
                                },
                                {
                                    "0": "4",
                                    "1": "24000.000000",
                                    "2": "24000.00",
                                    "3": "24000.00"
                                },
                                {
                                    "0": "5",
                                    "1": "17000.000000",
                                    "2": "17000.00",
                                    "3": "17000.00"
                                },
                                {
                                    "0": "6",
                                    "1": "7920.000000",
                                    "2": "6900.00",
                                    "3": "9000.00"
                                },
                                {
                                    "0": "7",
                                    "1": "12000.000000",
                                    "2": "12000.00",
                                    "3": "12000.00"
                                },
                                {
                                    "0": "8",
                                    "1": "6500.000000",
                                    "2": "6500.00",
                                    "3": "6500.00"
                                },
                                {
                                    "0": "9",
                                    "1": "5760.000000",
                                    "2": "4200.00",
                                    "3": "9000.00"
                                },
                                {
                                    "0": "10",
                                    "1": "13000.000000",
                                    "2": "13000.00",
                                    "3": "13000.00"
                                },
                                {
                                    "0": "11",
                                    "1": "6000.000000",
                                    "2": "6000.00",
                                    "3": "6000.00"
                                },
                                {
                                    "0": "12",
                                    "1": "10000.000000",
                                    "2": "10000.00",
                                    "3": "10000.00"
                                },
                                {
                                    "0": "13",
                                    "1": "2780.000000",
                                    "2": "2500.00",
                                    "3": "3100.00"
                                },
                                {
                                    "0": "14",
                                    "1": "11000.000000",
                                    "2": "11000.00",
                                    "3": "11000.00"
                                },
                                {
                                    "0": "15",
                                    "1": "13750.000000",
                                    "2": "13500.00",
                                    "3": "14000.00"
                                },
                                {
                                    "0": "16",
                                    "1": "7550.000000",
                                    "2": "6200.00",
                                    "3": "8600.00"
                                },
                                {
                                    "0": "17",
                                    "1": "3950.000000",
                                    "2": "3900.00",
                                    "3": "4000.00"
                                }
                            ]
                        },
                        "text/html": "<table><tr><th>job_id</th><th>Average</th><th>Minimum</th><th>Mamximum</th></tr><tr><td>1</td><td>8300.000000</td><td>8300.00</td><td>8300.00</td></tr><tr><td>2</td><td>12000.000000</td><td>12000.00</td><td>12000.00</td></tr><tr><td>3</td><td>4400.000000</td><td>4400.00</td><td>4400.00</td></tr><tr><td>4</td><td>24000.000000</td><td>24000.00</td><td>24000.00</td></tr><tr><td>5</td><td>17000.000000</td><td>17000.00</td><td>17000.00</td></tr><tr><td>6</td><td>7920.000000</td><td>6900.00</td><td>9000.00</td></tr><tr><td>7</td><td>12000.000000</td><td>12000.00</td><td>12000.00</td></tr><tr><td>8</td><td>6500.000000</td><td>6500.00</td><td>6500.00</td></tr><tr><td>9</td><td>5760.000000</td><td>4200.00</td><td>9000.00</td></tr><tr><td>10</td><td>13000.000000</td><td>13000.00</td><td>13000.00</td></tr><tr><td>11</td><td>6000.000000</td><td>6000.00</td><td>6000.00</td></tr><tr><td>12</td><td>10000.000000</td><td>10000.00</td><td>10000.00</td></tr><tr><td>13</td><td>2780.000000</td><td>2500.00</td><td>3100.00</td></tr><tr><td>14</td><td>11000.000000</td><td>11000.00</td><td>11000.00</td></tr><tr><td>15</td><td>13750.000000</td><td>13500.00</td><td>14000.00</td></tr><tr><td>16</td><td>7550.000000</td><td>6200.00</td><td>8600.00</td></tr><tr><td>17</td><td>3950.000000</td><td>3900.00</td><td>4000.00</td></tr></table>"
                    },
                    "metadata": {}
                }
            ],
            "execution_count": 1
        },
        {
            "cell_type": "code",
            "source": [
                "--2.\r\n",
                "select d.department_name ,COUNT(e.department_id) as number_of_employees from employees e inner join departments d on e.department_id=d.department_id group by d.department_name"
            ],
            "metadata": {
                "azdata_cell_guid": "4643b1be-14ca-4277-b179-0be818b09618",
                "language": "sql"
            },
            "outputs": [
                {
                    "output_type": "display_data",
                    "data": {
                        "text/html": "(11 rows affected)"
                    },
                    "metadata": {}
                },
                {
                    "output_type": "display_data",
                    "data": {
                        "text/html": "Total execution time: 00:00:00.002"
                    },
                    "metadata": {}
                },
                {
                    "output_type": "execute_result",
                    "metadata": {},
                    "execution_count": 2,
                    "data": {
                        "application/vnd.dataresource+json": {
                            "schema": {
                                "fields": [
                                    {
                                        "name": "department_name"
                                    },
                                    {
                                        "name": "number_of_employees"
                                    }
                                ]
                            },
                            "data": [
                                {
                                    "0": "Accounting",
                                    "1": "2"
                                },
                                {
                                    "0": "Administration",
                                    "1": "1"
                                },
                                {
                                    "0": "Executive",
                                    "1": "3"
                                },
                                {
                                    "0": "Finance",
                                    "1": "6"
                                },
                                {
                                    "0": "Human Resources",
                                    "1": "1"
                                },
                                {
                                    "0": "IT",
                                    "1": "5"
                                },
                                {
                                    "0": "Marketing",
                                    "1": "2"
                                },
                                {
                                    "0": "Public Relations",
                                    "1": "1"
                                },
                                {
                                    "0": "Purchasing",
                                    "1": "6"
                                },
                                {
                                    "0": "Sales",
                                    "1": "6"
                                },
                                {
                                    "0": "Shipping",
                                    "1": "7"
                                }
                            ]
                        },
                        "text/html": [
                            "<table>",
                            "<tr><th>department_name</th><th>number_of_employees</th></tr>",
                            "<tr><td>Accounting</td><td>2</td></tr>",
                            "<tr><td>Administration</td><td>1</td></tr>",
                            "<tr><td>Executive</td><td>3</td></tr>",
                            "<tr><td>Finance</td><td>6</td></tr>",
                            "<tr><td>Human Resources</td><td>1</td></tr>",
                            "<tr><td>IT</td><td>5</td></tr>",
                            "<tr><td>Marketing</td><td>2</td></tr>",
                            "<tr><td>Public Relations</td><td>1</td></tr>",
                            "<tr><td>Purchasing</td><td>6</td></tr>",
                            "<tr><td>Sales</td><td>6</td></tr>",
                            "<tr><td>Shipping</td><td>7</td></tr>",
                            "</table>"
                        ]
                    }
                }
            ],
            "execution_count": 2
        },
        {
            "cell_type": "code",
            "source": [
                "--3.\r\n",
                "select count(e.employee_id) as count_employees,e.manager_id,m.first_name as managerName from employees e join employees m on e.manager_id=m.employee_id GROUP by e.manager_id,m.first_name"
            ],
            "metadata": {
                "azdata_cell_guid": "e0f591db-8e94-449e-9b8a-7952739601ef",
                "language": "sql"
            },
            "outputs": [
                {
                    "output_type": "display_data",
                    "data": {
                        "text/html": "(10 rows affected)"
                    },
                    "metadata": {}
                },
                {
                    "output_type": "display_data",
                    "data": {
                        "text/html": "Total execution time: 00:00:00.006"
                    },
                    "metadata": {}
                },
                {
                    "output_type": "execute_result",
                    "metadata": {},
                    "execution_count": 5,
                    "data": {
                        "application/vnd.dataresource+json": {
                            "schema": {
                                "fields": [
                                    {
                                        "name": "count_employees"
                                    },
                                    {
                                        "name": "manager_id"
                                    },
                                    {
                                        "name": "managerName"
                                    }
                                ]
                            },
                            "data": [
                                {
                                    "0": "14",
                                    "1": "100",
                                    "2": "Steven"
                                },
                                {
                                    "0": "5",
                                    "1": "101",
                                    "2": "Neena"
                                },
                                {
                                    "0": "1",
                                    "1": "102",
                                    "2": "Lex"
                                },
                                {
                                    "0": "4",
                                    "1": "103",
                                    "2": "Alexander"
                                },
                                {
                                    "0": "5",
                                    "1": "108",
                                    "2": "Nancy"
                                },
                                {
                                    "0": "5",
                                    "1": "114",
                                    "2": "Den"
                                },
                                {
                                    "0": "1",
                                    "1": "120",
                                    "2": "Matthew"
                                },
                                {
                                    "0": "2",
                                    "1": "123",
                                    "2": "Shanta"
                                },
                                {
                                    "0": "1",
                                    "1": "201",
                                    "2": "Michael"
                                },
                                {
                                    "0": "1",
                                    "1": "205",
                                    "2": "Shelley"
                                }
                            ]
                        },
                        "text/html": [
                            "<table>",
                            "<tr><th>count_employees</th><th>manager_id</th><th>managerName</th></tr>",
                            "<tr><td>14</td><td>100</td><td>Steven</td></tr>",
                            "<tr><td>5</td><td>101</td><td>Neena</td></tr>",
                            "<tr><td>1</td><td>102</td><td>Lex</td></tr>",
                            "<tr><td>4</td><td>103</td><td>Alexander</td></tr>",
                            "<tr><td>5</td><td>108</td><td>Nancy</td></tr>",
                            "<tr><td>5</td><td>114</td><td>Den</td></tr>",
                            "<tr><td>1</td><td>120</td><td>Matthew</td></tr>",
                            "<tr><td>2</td><td>123</td><td>Shanta</td></tr>",
                            "<tr><td>1</td><td>201</td><td>Michael</td></tr>",
                            "<tr><td>1</td><td>205</td><td>Shelley</td></tr>",
                            "</table>"
                        ]
                    }
                }
            ],
            "execution_count": 5
        },
        {
            "cell_type": "code",
            "source": [
                "--4.\r\n",
                "select top 16 e.last_name , e.department_id , d.department_name from employees e inner join departments d on e.department_id=d.department_id order by e.last_name"
            ],
            "metadata": {
                "azdata_cell_guid": "7653bfb3-5697-457c-8a86-3a7680b6052f",
                "language": "sql"
            },
            "outputs": [
                {
                    "output_type": "display_data",
                    "data": {
                        "text/html": "(16 rows affected)"
                    },
                    "metadata": {}
                },
                {
                    "output_type": "display_data",
                    "data": {
                        "text/html": "Total execution time: 00:00:00.004"
                    },
                    "metadata": {}
                },
                {
                    "output_type": "execute_result",
                    "metadata": {},
                    "execution_count": 6,
                    "data": {
                        "application/vnd.dataresource+json": {
                            "schema": {
                                "fields": [
                                    {
                                        "name": "last_name"
                                    },
                                    {
                                        "name": "department_id"
                                    },
                                    {
                                        "name": "department_name"
                                    }
                                ]
                            },
                            "data": [
                                {
                                    "0": "Austin",
                                    "1": "6",
                                    "2": "IT"
                                },
                                {
                                    "0": "Baer",
                                    "1": "7",
                                    "2": "Public Relations"
                                },
                                {
                                    "0": "Baida",
                                    "1": "3",
                                    "2": "Purchasing"
                                },
                                {
                                    "0": "Bell",
                                    "1": "5",
                                    "2": "Shipping"
                                },
                                {
                                    "0": "Chen",
                                    "1": "10",
                                    "2": "Finance"
                                },
                                {
                                    "0": "Colmenares",
                                    "1": "3",
                                    "2": "Purchasing"
                                },
                                {
                                    "0": "De Haan",
                                    "1": "9",
                                    "2": "Executive"
                                },
                                {
                                    "0": "Ernst",
                                    "1": "6",
                                    "2": "IT"
                                },
                                {
                                    "0": "Everett",
                                    "1": "5",
                                    "2": "Shipping"
                                },
                                {
                                    "0": "Faviet",
                                    "1": "10",
                                    "2": "Finance"
                                },
                                {
                                    "0": "Fay",
                                    "1": "2",
                                    "2": "Marketing"
                                },
                                {
                                    "0": "Fripp",
                                    "1": "5",
                                    "2": "Shipping"
                                },
                                {
                                    "0": "Gietz",
                                    "1": "11",
                                    "2": "Accounting"
                                },
                                {
                                    "0": "Grant",
                                    "1": "8",
                                    "2": "Sales"
                                },
                                {
                                    "0": "Greenberg",
                                    "1": "10",
                                    "2": "Finance"
                                },
                                {
                                    "0": "Hartstein",
                                    "1": "2",
                                    "2": "Marketing"
                                }
                            ]
                        },
                        "text/html": [
                            "<table>",
                            "<tr><th>last_name</th><th>department_id</th><th>department_name</th></tr>",
                            "<tr><td>Austin</td><td>6</td><td>IT</td></tr>",
                            "<tr><td>Baer</td><td>7</td><td>Public Relations</td></tr>",
                            "<tr><td>Baida</td><td>3</td><td>Purchasing</td></tr>",
                            "<tr><td>Bell</td><td>5</td><td>Shipping</td></tr>",
                            "<tr><td>Chen</td><td>10</td><td>Finance</td></tr>",
                            "<tr><td>Colmenares</td><td>3</td><td>Purchasing</td></tr>",
                            "<tr><td>De Haan</td><td>9</td><td>Executive</td></tr>",
                            "<tr><td>Ernst</td><td>6</td><td>IT</td></tr>",
                            "<tr><td>Everett</td><td>5</td><td>Shipping</td></tr>",
                            "<tr><td>Faviet</td><td>10</td><td>Finance</td></tr>",
                            "<tr><td>Fay</td><td>2</td><td>Marketing</td></tr>",
                            "<tr><td>Fripp</td><td>5</td><td>Shipping</td></tr>",
                            "<tr><td>Gietz</td><td>11</td><td>Accounting</td></tr>",
                            "<tr><td>Grant</td><td>8</td><td>Sales</td></tr>",
                            "<tr><td>Greenberg</td><td>10</td><td>Finance</td></tr>",
                            "<tr><td>Hartstein</td><td>2</td><td>Marketing</td></tr>",
                            "</table>"
                        ]
                    }
                }
            ],
            "execution_count": 6
        },
        {
            "cell_type": "code",
            "source": [
                "--5.\r\n",
                "select d.department_name as department_name,l.street_address as locations,l.city as city, l.country_id as country from departments d inner join locations l on d.location_id=l.location_id where l.location_id=2400"
            ],
            "metadata": {
                "azdata_cell_guid": "0b93353c-51a4-4323-a6d8-86f8835ea479",
                "language": "sql"
            },
            "outputs": [
                {
                    "output_type": "display_data",
                    "data": {
                        "text/html": "(1 row affected)"
                    },
                    "metadata": {}
                },
                {
                    "output_type": "display_data",
                    "data": {
                        "text/html": "Total execution time: 00:00:00.004"
                    },
                    "metadata": {}
                },
                {
                    "output_type": "execute_result",
                    "metadata": {},
                    "execution_count": 7,
                    "data": {
                        "application/vnd.dataresource+json": {
                            "schema": {
                                "fields": [
                                    {
                                        "name": "department_name"
                                    },
                                    {
                                        "name": "locations"
                                    },
                                    {
                                        "name": "city"
                                    },
                                    {
                                        "name": "country"
                                    }
                                ]
                            },
                            "data": [
                                {
                                    "0": "Human Resources",
                                    "1": "8204 Arthur St",
                                    "2": "London",
                                    "3": "UK"
                                }
                            ]
                        },
                        "text/html": [
                            "<table>",
                            "<tr><th>department_name</th><th>locations</th><th>city</th><th>country</th></tr>",
                            "<tr><td>Human Resources</td><td>8204 Arthur St</td><td>London</td><td>UK</td></tr>",
                            "</table>"
                        ]
                    }
                }
            ],
            "execution_count": 7
        },
        {
            "cell_type": "code",
            "source": [
                "--6.\r\n",
                "select e.last_name ,d.department_name , d.location_id , l.city  from employees e  join departments d on e.department_id=d.department_id join locations l on l.location_id=d.location_id where d.department_id in (6,10,3) order by l.location_id"
            ],
            "metadata": {
                "azdata_cell_guid": "1f743596-6447-4f71-9da2-557c644cb5f9",
                "language": "sql"
            },
            "outputs": [
                {
                    "output_type": "display_data",
                    "data": {
                        "text/html": "(17 rows affected)"
                    },
                    "metadata": {}
                },
                {
                    "output_type": "display_data",
                    "data": {
                        "text/html": "Total execution time: 00:00:00.010"
                    },
                    "metadata": {}
                },
                {
                    "output_type": "execute_result",
                    "metadata": {},
                    "execution_count": 8,
                    "data": {
                        "application/vnd.dataresource+json": {
                            "schema": {
                                "fields": [
                                    {
                                        "name": "last_name"
                                    },
                                    {
                                        "name": "department_name"
                                    },
                                    {
                                        "name": "location_id"
                                    },
                                    {
                                        "name": "city"
                                    }
                                ]
                            },
                            "data": [
                                {
                                    "0": "Hunold",
                                    "1": "IT",
                                    "2": "1400",
                                    "3": "Southlake"
                                },
                                {
                                    "0": "Ernst",
                                    "1": "IT",
                                    "2": "1400",
                                    "3": "Southlake"
                                },
                                {
                                    "0": "Austin",
                                    "1": "IT",
                                    "2": "1400",
                                    "3": "Southlake"
                                },
                                {
                                    "0": "Pataballa",
                                    "1": "IT",
                                    "2": "1400",
                                    "3": "Southlake"
                                },
                                {
                                    "0": "Lorentz",
                                    "1": "IT",
                                    "2": "1400",
                                    "3": "Southlake"
                                },
                                {
                                    "0": "Greenberg",
                                    "1": "Finance",
                                    "2": "1700",
                                    "3": "Seattle"
                                },
                                {
                                    "0": "Faviet",
                                    "1": "Finance",
                                    "2": "1700",
                                    "3": "Seattle"
                                },
                                {
                                    "0": "Chen",
                                    "1": "Finance",
                                    "2": "1700",
                                    "3": "Seattle"
                                },
                                {
                                    "0": "Sciarra",
                                    "1": "Finance",
                                    "2": "1700",
                                    "3": "Seattle"
                                },
                                {
                                    "0": "Urman",
                                    "1": "Finance",
                                    "2": "1700",
                                    "3": "Seattle"
                                },
                                {
                                    "0": "Popp",
                                    "1": "Finance",
                                    "2": "1700",
                                    "3": "Seattle"
                                },
                                {
                                    "0": "Raphaely",
                                    "1": "Purchasing",
                                    "2": "1700",
                                    "3": "Seattle"
                                },
                                {
                                    "0": "Khoo",
                                    "1": "Purchasing",
                                    "2": "1700",
                                    "3": "Seattle"
                                },
                                {
                                    "0": "Baida",
                                    "1": "Purchasing",
                                    "2": "1700",
                                    "3": "Seattle"
                                },
                                {
                                    "0": "Tobias",
                                    "1": "Purchasing",
                                    "2": "1700",
                                    "3": "Seattle"
                                },
                                {
                                    "0": "Himuro",
                                    "1": "Purchasing",
                                    "2": "1700",
                                    "3": "Seattle"
                                },
                                {
                                    "0": "Colmenares",
                                    "1": "Purchasing",
                                    "2": "1700",
                                    "3": "Seattle"
                                }
                            ]
                        },
                        "text/html": [
                            "<table>",
                            "<tr><th>last_name</th><th>department_name</th><th>location_id</th><th>city</th></tr>",
                            "<tr><td>Hunold</td><td>IT</td><td>1400</td><td>Southlake</td></tr>",
                            "<tr><td>Ernst</td><td>IT</td><td>1400</td><td>Southlake</td></tr>",
                            "<tr><td>Austin</td><td>IT</td><td>1400</td><td>Southlake</td></tr>",
                            "<tr><td>Pataballa</td><td>IT</td><td>1400</td><td>Southlake</td></tr>",
                            "<tr><td>Lorentz</td><td>IT</td><td>1400</td><td>Southlake</td></tr>",
                            "<tr><td>Greenberg</td><td>Finance</td><td>1700</td><td>Seattle</td></tr>",
                            "<tr><td>Faviet</td><td>Finance</td><td>1700</td><td>Seattle</td></tr>",
                            "<tr><td>Chen</td><td>Finance</td><td>1700</td><td>Seattle</td></tr>",
                            "<tr><td>Sciarra</td><td>Finance</td><td>1700</td><td>Seattle</td></tr>",
                            "<tr><td>Urman</td><td>Finance</td><td>1700</td><td>Seattle</td></tr>",
                            "<tr><td>Popp</td><td>Finance</td><td>1700</td><td>Seattle</td></tr>",
                            "<tr><td>Raphaely</td><td>Purchasing</td><td>1700</td><td>Seattle</td></tr>",
                            "<tr><td>Khoo</td><td>Purchasing</td><td>1700</td><td>Seattle</td></tr>",
                            "<tr><td>Baida</td><td>Purchasing</td><td>1700</td><td>Seattle</td></tr>",
                            "<tr><td>Tobias</td><td>Purchasing</td><td>1700</td><td>Seattle</td></tr>",
                            "<tr><td>Himuro</td><td>Purchasing</td><td>1700</td><td>Seattle</td></tr>",
                            "<tr><td>Colmenares</td><td>Purchasing</td><td>1700</td><td>Seattle</td></tr>",
                            "</table>"
                        ]
                    }
                }
            ],
            "execution_count": 8
        },
        {
            "cell_type": "code",
            "source": [
                "--7.\r\n",
                "select e.last_name as last_name,d.department_name as department_name from employees e inner join departments d on e.department_id=d.department_id "
            ],
            "metadata": {
                "azdata_cell_guid": "579c8431-e618-486f-8e46-269b64b6b606",
                "language": "sql"
            },
            "outputs": [
                {
                    "output_type": "display_data",
                    "data": {
                        "text/html": "(40 rows affected)"
                    },
                    "metadata": {}
                },
                {
                    "output_type": "display_data",
                    "data": {
                        "text/html": "Total execution time: 00:00:00.009"
                    },
                    "metadata": {}
                },
                {
                    "output_type": "execute_result",
                    "metadata": {},
                    "execution_count": 9,
                    "data": {
                        "application/vnd.dataresource+json": {
                            "schema": {
                                "fields": [
                                    {
                                        "name": "last_name"
                                    },
                                    {
                                        "name": "department_name"
                                    }
                                ]
                            },
                            "data": [
                                {
                                    "0": "King",
                                    "1": "Executive"
                                },
                                {
                                    "0": "Kochhar",
                                    "1": "Executive"
                                },
                                {
                                    "0": "De Haan",
                                    "1": "Executive"
                                },
                                {
                                    "0": "Hunold",
                                    "1": "IT"
                                },
                                {
                                    "0": "Ernst",
                                    "1": "IT"
                                },
                                {
                                    "0": "Austin",
                                    "1": "IT"
                                },
                                {
                                    "0": "Pataballa",
                                    "1": "IT"
                                },
                                {
                                    "0": "Lorentz",
                                    "1": "IT"
                                },
                                {
                                    "0": "Greenberg",
                                    "1": "Finance"
                                },
                                {
                                    "0": "Faviet",
                                    "1": "Finance"
                                },
                                {
                                    "0": "Chen",
                                    "1": "Finance"
                                },
                                {
                                    "0": "Sciarra",
                                    "1": "Finance"
                                },
                                {
                                    "0": "Urman",
                                    "1": "Finance"
                                },
                                {
                                    "0": "Popp",
                                    "1": "Finance"
                                },
                                {
                                    "0": "Raphaely",
                                    "1": "Purchasing"
                                },
                                {
                                    "0": "Khoo",
                                    "1": "Purchasing"
                                },
                                {
                                    "0": "Baida",
                                    "1": "Purchasing"
                                },
                                {
                                    "0": "Tobias",
                                    "1": "Purchasing"
                                },
                                {
                                    "0": "Himuro",
                                    "1": "Purchasing"
                                },
                                {
                                    "0": "Colmenares",
                                    "1": "Purchasing"
                                },
                                {
                                    "0": "Weiss",
                                    "1": "Shipping"
                                },
                                {
                                    "0": "Fripp",
                                    "1": "Shipping"
                                },
                                {
                                    "0": "Kaufling",
                                    "1": "Shipping"
                                },
                                {
                                    "0": "Vollman",
                                    "1": "Shipping"
                                },
                                {
                                    "0": "Mikkilineni",
                                    "1": "Shipping"
                                },
                                {
                                    "0": "Russell",
                                    "1": "Sales"
                                },
                                {
                                    "0": "Partners",
                                    "1": "Sales"
                                },
                                {
                                    "0": "Taylor",
                                    "1": "Sales"
                                },
                                {
                                    "0": "Livingston",
                                    "1": "Sales"
                                },
                                {
                                    "0": "Grant",
                                    "1": "Sales"
                                },
                                {
                                    "0": "Johnson",
                                    "1": "Sales"
                                },
                                {
                                    "0": "Bell",
                                    "1": "Shipping"
                                },
                                {
                                    "0": "Everett",
                                    "1": "Shipping"
                                },
                                {
                                    "0": "Whalen",
                                    "1": "Administration"
                                },
                                {
                                    "0": "Hartstein",
                                    "1": "Marketing"
                                },
                                {
                                    "0": "Fay",
                                    "1": "Marketing"
                                },
                                {
                                    "0": "Mavris",
                                    "1": "Human Resources"
                                },
                                {
                                    "0": "Baer",
                                    "1": "Public Relations"
                                },
                                {
                                    "0": "Higgins",
                                    "1": "Accounting"
                                },
                                {
                                    "0": "Gietz",
                                    "1": "Accounting"
                                }
                            ]
                        },
                        "text/html": [
                            "<table>",
                            "<tr><th>last_name</th><th>department_name</th></tr>",
                            "<tr><td>King</td><td>Executive</td></tr>",
                            "<tr><td>Kochhar</td><td>Executive</td></tr>",
                            "<tr><td>De Haan</td><td>Executive</td></tr>",
                            "<tr><td>Hunold</td><td>IT</td></tr>",
                            "<tr><td>Ernst</td><td>IT</td></tr>",
                            "<tr><td>Austin</td><td>IT</td></tr>",
                            "<tr><td>Pataballa</td><td>IT</td></tr>",
                            "<tr><td>Lorentz</td><td>IT</td></tr>",
                            "<tr><td>Greenberg</td><td>Finance</td></tr>",
                            "<tr><td>Faviet</td><td>Finance</td></tr>",
                            "<tr><td>Chen</td><td>Finance</td></tr>",
                            "<tr><td>Sciarra</td><td>Finance</td></tr>",
                            "<tr><td>Urman</td><td>Finance</td></tr>",
                            "<tr><td>Popp</td><td>Finance</td></tr>",
                            "<tr><td>Raphaely</td><td>Purchasing</td></tr>",
                            "<tr><td>Khoo</td><td>Purchasing</td></tr>",
                            "<tr><td>Baida</td><td>Purchasing</td></tr>",
                            "<tr><td>Tobias</td><td>Purchasing</td></tr>",
                            "<tr><td>Himuro</td><td>Purchasing</td></tr>",
                            "<tr><td>Colmenares</td><td>Purchasing</td></tr>",
                            "<tr><td>Weiss</td><td>Shipping</td></tr>",
                            "<tr><td>Fripp</td><td>Shipping</td></tr>",
                            "<tr><td>Kaufling</td><td>Shipping</td></tr>",
                            "<tr><td>Vollman</td><td>Shipping</td></tr>",
                            "<tr><td>Mikkilineni</td><td>Shipping</td></tr>",
                            "<tr><td>Russell</td><td>Sales</td></tr>",
                            "<tr><td>Partners</td><td>Sales</td></tr>",
                            "<tr><td>Taylor</td><td>Sales</td></tr>",
                            "<tr><td>Livingston</td><td>Sales</td></tr>",
                            "<tr><td>Grant</td><td>Sales</td></tr>",
                            "<tr><td>Johnson</td><td>Sales</td></tr>",
                            "<tr><td>Bell</td><td>Shipping</td></tr>",
                            "<tr><td>Everett</td><td>Shipping</td></tr>",
                            "<tr><td>Whalen</td><td>Administration</td></tr>",
                            "<tr><td>Hartstein</td><td>Marketing</td></tr>",
                            "<tr><td>Fay</td><td>Marketing</td></tr>",
                            "<tr><td>Mavris</td><td>Human Resources</td></tr>",
                            "<tr><td>Baer</td><td>Public Relations</td></tr>",
                            "<tr><td>Higgins</td><td>Accounting</td></tr>",
                            "<tr><td>Gietz</td><td>Accounting</td></tr>",
                            "</table>"
                        ]
                    }
                }
            ],
            "execution_count": 9
        },
        {
            "cell_type": "code",
            "source": [
                "--8.\r\n",
                "select top 17 e.last_name as Last_name, e.department_id as department_number, d.department_name as department_name, j.job_title as job_title from employees e inner join jobs j on j.job_id=e.job_id inner join departments d on e.department_id=d.department_id"
            ],
            "metadata": {
                "azdata_cell_guid": "63d5349e-fa73-4698-82b9-072164e686ed",
                "language": "sql"
            },
            "outputs": [
                {
                    "output_type": "display_data",
                    "data": {
                        "text/html": "(17 rows affected)"
                    },
                    "metadata": {}
                },
                {
                    "output_type": "display_data",
                    "data": {
                        "text/html": "Total execution time: 00:00:00.009"
                    },
                    "metadata": {}
                },
                {
                    "output_type": "execute_result",
                    "metadata": {},
                    "execution_count": 10,
                    "data": {
                        "application/vnd.dataresource+json": {
                            "schema": {
                                "fields": [
                                    {
                                        "name": "Last_name"
                                    },
                                    {
                                        "name": "department_number"
                                    },
                                    {
                                        "name": "department_name"
                                    },
                                    {
                                        "name": "job_title"
                                    }
                                ]
                            },
                            "data": [
                                {
                                    "0": "King",
                                    "1": "9",
                                    "2": "Executive",
                                    "3": "President"
                                },
                                {
                                    "0": "Kochhar",
                                    "1": "9",
                                    "2": "Executive",
                                    "3": "Administration Vice President"
                                },
                                {
                                    "0": "De Haan",
                                    "1": "9",
                                    "2": "Executive",
                                    "3": "Administration Vice President"
                                },
                                {
                                    "0": "Hunold",
                                    "1": "6",
                                    "2": "IT",
                                    "3": "Programmer"
                                },
                                {
                                    "0": "Ernst",
                                    "1": "6",
                                    "2": "IT",
                                    "3": "Programmer"
                                },
                                {
                                    "0": "Austin",
                                    "1": "6",
                                    "2": "IT",
                                    "3": "Programmer"
                                },
                                {
                                    "0": "Pataballa",
                                    "1": "6",
                                    "2": "IT",
                                    "3": "Programmer"
                                },
                                {
                                    "0": "Lorentz",
                                    "1": "6",
                                    "2": "IT",
                                    "3": "Programmer"
                                },
                                {
                                    "0": "Greenberg",
                                    "1": "10",
                                    "2": "Finance",
                                    "3": "Finance Manager"
                                },
                                {
                                    "0": "Faviet",
                                    "1": "10",
                                    "2": "Finance",
                                    "3": "Accountant"
                                },
                                {
                                    "0": "Chen",
                                    "1": "10",
                                    "2": "Finance",
                                    "3": "Accountant"
                                },
                                {
                                    "0": "Sciarra",
                                    "1": "10",
                                    "2": "Finance",
                                    "3": "Accountant"
                                },
                                {
                                    "0": "Urman",
                                    "1": "10",
                                    "2": "Finance",
                                    "3": "Accountant"
                                },
                                {
                                    "0": "Popp",
                                    "1": "10",
                                    "2": "Finance",
                                    "3": "Accountant"
                                },
                                {
                                    "0": "Raphaely",
                                    "1": "3",
                                    "2": "Purchasing",
                                    "3": "Purchasing Manager"
                                },
                                {
                                    "0": "Khoo",
                                    "1": "3",
                                    "2": "Purchasing",
                                    "3": "Purchasing Clerk"
                                },
                                {
                                    "0": "Baida",
                                    "1": "3",
                                    "2": "Purchasing",
                                    "3": "Purchasing Clerk"
                                }
                            ]
                        },
                        "text/html": [
                            "<table>",
                            "<tr><th>Last_name</th><th>department_number</th><th>department_name</th><th>job_title</th></tr>",
                            "<tr><td>King</td><td>9</td><td>Executive</td><td>President</td></tr>",
                            "<tr><td>Kochhar</td><td>9</td><td>Executive</td><td>Administration Vice President</td></tr>",
                            "<tr><td>De Haan</td><td>9</td><td>Executive</td><td>Administration Vice President</td></tr>",
                            "<tr><td>Hunold</td><td>6</td><td>IT</td><td>Programmer</td></tr>",
                            "<tr><td>Ernst</td><td>6</td><td>IT</td><td>Programmer</td></tr>",
                            "<tr><td>Austin</td><td>6</td><td>IT</td><td>Programmer</td></tr>",
                            "<tr><td>Pataballa</td><td>6</td><td>IT</td><td>Programmer</td></tr>",
                            "<tr><td>Lorentz</td><td>6</td><td>IT</td><td>Programmer</td></tr>",
                            "<tr><td>Greenberg</td><td>10</td><td>Finance</td><td>Finance Manager</td></tr>",
                            "<tr><td>Faviet</td><td>10</td><td>Finance</td><td>Accountant</td></tr>",
                            "<tr><td>Chen</td><td>10</td><td>Finance</td><td>Accountant</td></tr>",
                            "<tr><td>Sciarra</td><td>10</td><td>Finance</td><td>Accountant</td></tr>",
                            "<tr><td>Urman</td><td>10</td><td>Finance</td><td>Accountant</td></tr>",
                            "<tr><td>Popp</td><td>10</td><td>Finance</td><td>Accountant</td></tr>",
                            "<tr><td>Raphaely</td><td>3</td><td>Purchasing</td><td>Purchasing Manager</td></tr>",
                            "<tr><td>Khoo</td><td>3</td><td>Purchasing</td><td>Purchasing Clerk</td></tr>",
                            "<tr><td>Baida</td><td>3</td><td>Purchasing</td><td>Purchasing Clerk</td></tr>",
                            "</table>"
                        ]
                    }
                }
            ],
            "execution_count": 10
        },
        {
            "cell_type": "code",
            "source": [
                "--9.\r\n",
                "select e.employee_id as 'employee number',e.last_name as 'Employee name', e.manager_id as Manager_id,a.first_name as manager, a.manager_id as 'Manager Number' from employees e join employees a on e.manager_id=a.employee_id where e.employee_id<118"
            ],
            "metadata": {
                "azdata_cell_guid": "eae8a6b1-118f-4382-8d8e-ff3fa8d6f7de",
                "language": "sql"
            },
            "outputs": [
                {
                    "output_type": "display_data",
                    "data": {
                        "text/html": "(17 rows affected)"
                    },
                    "metadata": {}
                },
                {
                    "output_type": "display_data",
                    "data": {
                        "text/html": "Total execution time: 00:00:00.004"
                    },
                    "metadata": {}
                },
                {
                    "output_type": "execute_result",
                    "metadata": {},
                    "execution_count": 11,
                    "data": {
                        "application/vnd.dataresource+json": {
                            "schema": {
                                "fields": [
                                    {
                                        "name": "employee number"
                                    },
                                    {
                                        "name": "Employee name"
                                    },
                                    {
                                        "name": "Manager_id"
                                    },
                                    {
                                        "name": "manager"
                                    },
                                    {
                                        "name": "Manager Number"
                                    }
                                ]
                            },
                            "data": [
                                {
                                    "0": "101",
                                    "1": "Kochhar",
                                    "2": "100",
                                    "3": "Steven",
                                    "4": "NULL"
                                },
                                {
                                    "0": "102",
                                    "1": "De Haan",
                                    "2": "100",
                                    "3": "Steven",
                                    "4": "NULL"
                                },
                                {
                                    "0": "103",
                                    "1": "Hunold",
                                    "2": "102",
                                    "3": "Lex",
                                    "4": "100"
                                },
                                {
                                    "0": "104",
                                    "1": "Ernst",
                                    "2": "103",
                                    "3": "Alexander",
                                    "4": "102"
                                },
                                {
                                    "0": "105",
                                    "1": "Austin",
                                    "2": "103",
                                    "3": "Alexander",
                                    "4": "102"
                                },
                                {
                                    "0": "106",
                                    "1": "Pataballa",
                                    "2": "103",
                                    "3": "Alexander",
                                    "4": "102"
                                },
                                {
                                    "0": "107",
                                    "1": "Lorentz",
                                    "2": "103",
                                    "3": "Alexander",
                                    "4": "102"
                                },
                                {
                                    "0": "108",
                                    "1": "Greenberg",
                                    "2": "101",
                                    "3": "Neena",
                                    "4": "100"
                                },
                                {
                                    "0": "109",
                                    "1": "Faviet",
                                    "2": "108",
                                    "3": "Nancy",
                                    "4": "101"
                                },
                                {
                                    "0": "110",
                                    "1": "Chen",
                                    "2": "108",
                                    "3": "Nancy",
                                    "4": "101"
                                },
                                {
                                    "0": "111",
                                    "1": "Sciarra",
                                    "2": "108",
                                    "3": "Nancy",
                                    "4": "101"
                                },
                                {
                                    "0": "112",
                                    "1": "Urman",
                                    "2": "108",
                                    "3": "Nancy",
                                    "4": "101"
                                },
                                {
                                    "0": "113",
                                    "1": "Popp",
                                    "2": "108",
                                    "3": "Nancy",
                                    "4": "101"
                                },
                                {
                                    "0": "114",
                                    "1": "Raphaely",
                                    "2": "100",
                                    "3": "Steven",
                                    "4": "NULL"
                                },
                                {
                                    "0": "115",
                                    "1": "Khoo",
                                    "2": "114",
                                    "3": "Den",
                                    "4": "100"
                                },
                                {
                                    "0": "116",
                                    "1": "Baida",
                                    "2": "114",
                                    "3": "Den",
                                    "4": "100"
                                },
                                {
                                    "0": "117",
                                    "1": "Tobias",
                                    "2": "114",
                                    "3": "Den",
                                    "4": "100"
                                }
                            ]
                        },
                        "text/html": [
                            "<table>",
                            "<tr><th>employee number</th><th>Employee name</th><th>Manager_id</th><th>manager</th><th>Manager Number</th></tr>",
                            "<tr><td>101</td><td>Kochhar</td><td>100</td><td>Steven</td><td>NULL</td></tr>",
                            "<tr><td>102</td><td>De Haan</td><td>100</td><td>Steven</td><td>NULL</td></tr>",
                            "<tr><td>103</td><td>Hunold</td><td>102</td><td>Lex</td><td>100</td></tr>",
                            "<tr><td>104</td><td>Ernst</td><td>103</td><td>Alexander</td><td>102</td></tr>",
                            "<tr><td>105</td><td>Austin</td><td>103</td><td>Alexander</td><td>102</td></tr>",
                            "<tr><td>106</td><td>Pataballa</td><td>103</td><td>Alexander</td><td>102</td></tr>",
                            "<tr><td>107</td><td>Lorentz</td><td>103</td><td>Alexander</td><td>102</td></tr>",
                            "<tr><td>108</td><td>Greenberg</td><td>101</td><td>Neena</td><td>100</td></tr>",
                            "<tr><td>109</td><td>Faviet</td><td>108</td><td>Nancy</td><td>101</td></tr>",
                            "<tr><td>110</td><td>Chen</td><td>108</td><td>Nancy</td><td>101</td></tr>",
                            "<tr><td>111</td><td>Sciarra</td><td>108</td><td>Nancy</td><td>101</td></tr>",
                            "<tr><td>112</td><td>Urman</td><td>108</td><td>Nancy</td><td>101</td></tr>",
                            "<tr><td>113</td><td>Popp</td><td>108</td><td>Nancy</td><td>101</td></tr>",
                            "<tr><td>114</td><td>Raphaely</td><td>100</td><td>Steven</td><td>NULL</td></tr>",
                            "<tr><td>115</td><td>Khoo</td><td>114</td><td>Den</td><td>100</td></tr>",
                            "<tr><td>116</td><td>Baida</td><td>114</td><td>Den</td><td>100</td></tr>",
                            "<tr><td>117</td><td>Tobias</td><td>114</td><td>Den</td><td>100</td></tr>",
                            "</table>"
                        ]
                    }
                }
            ],
            "execution_count": 11
        },
        {
            "cell_type": "code",
            "source": [
                "--10.\r\n",
                "select top 17 last_name ,department_id as department_number from employees order by last_name"
            ],
            "metadata": {
                "azdata_cell_guid": "07494b73-2ceb-4b25-812f-a4157083fe05",
                "language": "sql"
            },
            "outputs": [
                {
                    "output_type": "display_data",
                    "data": {
                        "text/html": "(17 rows affected)"
                    },
                    "metadata": {}
                },
                {
                    "output_type": "display_data",
                    "data": {
                        "text/html": "Total execution time: 00:00:00.003"
                    },
                    "metadata": {}
                },
                {
                    "output_type": "execute_result",
                    "metadata": {},
                    "execution_count": 12,
                    "data": {
                        "application/vnd.dataresource+json": {
                            "schema": {
                                "fields": [
                                    {
                                        "name": "last_name"
                                    },
                                    {
                                        "name": "department_number"
                                    }
                                ]
                            },
                            "data": [
                                {
                                    "0": "Austin",
                                    "1": "6"
                                },
                                {
                                    "0": "Baer",
                                    "1": "7"
                                },
                                {
                                    "0": "Baida",
                                    "1": "3"
                                },
                                {
                                    "0": "Bell",
                                    "1": "5"
                                },
                                {
                                    "0": "Chen",
                                    "1": "10"
                                },
                                {
                                    "0": "Colmenares",
                                    "1": "3"
                                },
                                {
                                    "0": "De Haan",
                                    "1": "9"
                                },
                                {
                                    "0": "Ernst",
                                    "1": "6"
                                },
                                {
                                    "0": "Everett",
                                    "1": "5"
                                },
                                {
                                    "0": "Faviet",
                                    "1": "10"
                                },
                                {
                                    "0": "Fay",
                                    "1": "2"
                                },
                                {
                                    "0": "Fripp",
                                    "1": "5"
                                },
                                {
                                    "0": "Gietz",
                                    "1": "11"
                                },
                                {
                                    "0": "Grant",
                                    "1": "8"
                                },
                                {
                                    "0": "Greenberg",
                                    "1": "10"
                                },
                                {
                                    "0": "Hartstein",
                                    "1": "2"
                                },
                                {
                                    "0": "Higgins",
                                    "1": "11"
                                }
                            ]
                        },
                        "text/html": [
                            "<table>",
                            "<tr><th>last_name</th><th>department_number</th></tr>",
                            "<tr><td>Austin</td><td>6</td></tr>",
                            "<tr><td>Baer</td><td>7</td></tr>",
                            "<tr><td>Baida</td><td>3</td></tr>",
                            "<tr><td>Bell</td><td>5</td></tr>",
                            "<tr><td>Chen</td><td>10</td></tr>",
                            "<tr><td>Colmenares</td><td>3</td></tr>",
                            "<tr><td>De Haan</td><td>9</td></tr>",
                            "<tr><td>Ernst</td><td>6</td></tr>",
                            "<tr><td>Everett</td><td>5</td></tr>",
                            "<tr><td>Faviet</td><td>10</td></tr>",
                            "<tr><td>Fay</td><td>2</td></tr>",
                            "<tr><td>Fripp</td><td>5</td></tr>",
                            "<tr><td>Gietz</td><td>11</td></tr>",
                            "<tr><td>Grant</td><td>8</td></tr>",
                            "<tr><td>Greenberg</td><td>10</td></tr>",
                            "<tr><td>Hartstein</td><td>2</td></tr>",
                            "<tr><td>Higgins</td><td>11</td></tr>",
                            "</table>"
                        ]
                    }
                }
            ],
            "execution_count": 12
        },
        {
            "cell_type": "code",
            "source": [
                "--11.\r\n",
                "select  top 16 'C' AS GRADE, concat(first_name,' ',last_name)as name, salary, department_id, job_title from employees e inner join jobs j on j.job_id=e.job_id"
            ],
            "metadata": {
                "azdata_cell_guid": "53aa34ad-a4ff-4049-846d-03b90591f656",
                "language": "sql"
            },
            "outputs": [
                {
                    "output_type": "display_data",
                    "data": {
                        "text/html": "(16 rows affected)"
                    },
                    "metadata": {}
                },
                {
                    "output_type": "display_data",
                    "data": {
                        "text/html": "Total execution time: 00:00:00.004"
                    },
                    "metadata": {}
                },
                {
                    "output_type": "execute_result",
                    "metadata": {},
                    "execution_count": 13,
                    "data": {
                        "application/vnd.dataresource+json": {
                            "schema": {
                                "fields": [
                                    {
                                        "name": "GRADE"
                                    },
                                    {
                                        "name": "name"
                                    },
                                    {
                                        "name": "salary"
                                    },
                                    {
                                        "name": "department_id"
                                    },
                                    {
                                        "name": "job_title"
                                    }
                                ]
                            },
                            "data": [
                                {
                                    "0": "C",
                                    "1": "Steven King",
                                    "2": "24000.00",
                                    "3": "9",
                                    "4": "President"
                                },
                                {
                                    "0": "C",
                                    "1": "Neena Kochhar",
                                    "2": "17000.00",
                                    "3": "9",
                                    "4": "Administration Vice President"
                                },
                                {
                                    "0": "C",
                                    "1": "Lex De Haan",
                                    "2": "17000.00",
                                    "3": "9",
                                    "4": "Administration Vice President"
                                },
                                {
                                    "0": "C",
                                    "1": "Alexander Hunold",
                                    "2": "9000.00",
                                    "3": "6",
                                    "4": "Programmer"
                                },
                                {
                                    "0": "C",
                                    "1": "Bruce Ernst",
                                    "2": "6000.00",
                                    "3": "6",
                                    "4": "Programmer"
                                },
                                {
                                    "0": "C",
                                    "1": "David Austin",
                                    "2": "4800.00",
                                    "3": "6",
                                    "4": "Programmer"
                                },
                                {
                                    "0": "C",
                                    "1": "Valli Pataballa",
                                    "2": "4800.00",
                                    "3": "6",
                                    "4": "Programmer"
                                },
                                {
                                    "0": "C",
                                    "1": "Diana Lorentz",
                                    "2": "4200.00",
                                    "3": "6",
                                    "4": "Programmer"
                                },
                                {
                                    "0": "C",
                                    "1": "Nancy Greenberg",
                                    "2": "12000.00",
                                    "3": "10",
                                    "4": "Finance Manager"
                                },
                                {
                                    "0": "C",
                                    "1": "Daniel Faviet",
                                    "2": "9000.00",
                                    "3": "10",
                                    "4": "Accountant"
                                },
                                {
                                    "0": "C",
                                    "1": "John Chen",
                                    "2": "8200.00",
                                    "3": "10",
                                    "4": "Accountant"
                                },
                                {
                                    "0": "C",
                                    "1": "Ismael Sciarra",
                                    "2": "7700.00",
                                    "3": "10",
                                    "4": "Accountant"
                                },
                                {
                                    "0": "C",
                                    "1": "Jose Manuel Urman",
                                    "2": "7800.00",
                                    "3": "10",
                                    "4": "Accountant"
                                },
                                {
                                    "0": "C",
                                    "1": "Luis Popp",
                                    "2": "6900.00",
                                    "3": "10",
                                    "4": "Accountant"
                                },
                                {
                                    "0": "C",
                                    "1": "Den Raphaely",
                                    "2": "11000.00",
                                    "3": "3",
                                    "4": "Purchasing Manager"
                                },
                                {
                                    "0": "C",
                                    "1": "Alexander Khoo",
                                    "2": "3100.00",
                                    "3": "3",
                                    "4": "Purchasing Clerk"
                                }
                            ]
                        },
                        "text/html": [
                            "<table>",
                            "<tr><th>GRADE</th><th>name</th><th>salary</th><th>department_id</th><th>job_title</th></tr>",
                            "<tr><td>C</td><td>Steven King</td><td>24000.00</td><td>9</td><td>President</td></tr>",
                            "<tr><td>C</td><td>Neena Kochhar</td><td>17000.00</td><td>9</td><td>Administration Vice President</td></tr>",
                            "<tr><td>C</td><td>Lex De Haan</td><td>17000.00</td><td>9</td><td>Administration Vice President</td></tr>",
                            "<tr><td>C</td><td>Alexander Hunold</td><td>9000.00</td><td>6</td><td>Programmer</td></tr>",
                            "<tr><td>C</td><td>Bruce Ernst</td><td>6000.00</td><td>6</td><td>Programmer</td></tr>",
                            "<tr><td>C</td><td>David Austin</td><td>4800.00</td><td>6</td><td>Programmer</td></tr>",
                            "<tr><td>C</td><td>Valli Pataballa</td><td>4800.00</td><td>6</td><td>Programmer</td></tr>",
                            "<tr><td>C</td><td>Diana Lorentz</td><td>4200.00</td><td>6</td><td>Programmer</td></tr>",
                            "<tr><td>C</td><td>Nancy Greenberg</td><td>12000.00</td><td>10</td><td>Finance Manager</td></tr>",
                            "<tr><td>C</td><td>Daniel Faviet</td><td>9000.00</td><td>10</td><td>Accountant</td></tr>",
                            "<tr><td>C</td><td>John Chen</td><td>8200.00</td><td>10</td><td>Accountant</td></tr>",
                            "<tr><td>C</td><td>Ismael Sciarra</td><td>7700.00</td><td>10</td><td>Accountant</td></tr>",
                            "<tr><td>C</td><td>Jose Manuel Urman</td><td>7800.00</td><td>10</td><td>Accountant</td></tr>",
                            "<tr><td>C</td><td>Luis Popp</td><td>6900.00</td><td>10</td><td>Accountant</td></tr>",
                            "<tr><td>C</td><td>Den Raphaely</td><td>11000.00</td><td>3</td><td>Purchasing Manager</td></tr>",
                            "<tr><td>C</td><td>Alexander Khoo</td><td>3100.00</td><td>3</td><td>Purchasing Clerk</td></tr>",
                            "</table>"
                        ]
                    }
                }
            ],
            "execution_count": 13
        }
    ]
}
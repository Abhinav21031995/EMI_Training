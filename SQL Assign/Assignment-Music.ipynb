{
    "metadata": {
        "kernelspec": {
            "name": "SQL",
            "display_name": "SQL",
            "language": "sql"
        },
        "language_info": {
            "name": "sql",
            "version": ""
        }
    },
    "nbformat_minor": 2,
    "nbformat": 4,
    "cells": [
        {
            "cell_type": "code",
            "source": [
                "select TOP 11  Track.Name as 'TrackName', Track.Composer, Track.Milliseconds, Track.Bytes, Album.Title as 'AlbumName', MediaType.Name\r\n",
                "as 'MediaTypeName' , Genre.Name as 'GenereName' From Track \r\n",
                "JOIN Album ON Track.AlbumId=Album.AlbumId\r\n",
                "JOIN MediaType ON (Track.MediaTypeId=MediaType.MediaTypeId)\r\n",
                "JOIN Genre ON Track.GenreId=Genre.GenreId "
            ],
            "metadata": {
                "azdata_cell_guid": "2503acdb-0475-4f86-9529-350b9d7d3d8b",
                "language": "sql"
            },
            "outputs": [
                {
                    "output_type": "display_data",
                    "data": {
                        "text/html": "(11 rows affected)"
                    },
                    "metadata": {}
                },
                {
                    "output_type": "display_data",
                    "data": {
                        "text/html": "Total execution time: 00:00:00.045"
                    },
                    "metadata": {}
                },
                {
                    "output_type": "execute_result",
                    "metadata": {},
                    "execution_count": 1,
                    "data": {
                        "application/vnd.dataresource+json": {
                            "schema": {
                                "fields": [
                                    {
                                        "name": "TrackName"
                                    },
                                    {
                                        "name": "Composer"
                                    },
                                    {
                                        "name": "Milliseconds"
                                    },
                                    {
                                        "name": "Bytes"
                                    },
                                    {
                                        "name": "AlbumName"
                                    },
                                    {
                                        "name": "MediaTypeName"
                                    },
                                    {
                                        "name": "GenereName"
                                    }
                                ]
                            },
                            "data": [
                                {
                                    "0": "For Those About To Rock (We Salute You)",
                                    "1": "Angus Young, Malcolm Young, Brian Johnson",
                                    "2": "343719",
                                    "3": "11170334",
                                    "4": "For Those About To Rock We Salute You",
                                    "5": "MPEG audio file",
                                    "6": "Rock"
                                },
                                {
                                    "0": "Balls to the Wall",
                                    "1": "NULL",
                                    "2": "342562",
                                    "3": "5510424",
                                    "4": "Balls to the Wall",
                                    "5": "Protected AAC audio file",
                                    "6": "Rock"
                                },
                                {
                                    "0": "Fast As a Shark",
                                    "1": "F. Baltes, S. Kaufman, U. Dirkscneider & W. Hoffman",
                                    "2": "230619",
                                    "3": "3990994",
                                    "4": "Restless and Wild",
                                    "5": "Protected AAC audio file",
                                    "6": "Rock"
                                },
                                {
                                    "0": "Restless and Wild",
                                    "1": "F. Baltes, R.A. Smith-Diesel, S. Kaufman, U. Dirkscneider & W. Hoffman",
                                    "2": "252051",
                                    "3": "4331779",
                                    "4": "Restless and Wild",
                                    "5": "Protected AAC audio file",
                                    "6": "Rock"
                                },
                                {
                                    "0": "Princess of the Dawn",
                                    "1": "Deaffy & R.A. Smith-Diesel",
                                    "2": "375418",
                                    "3": "6290521",
                                    "4": "Restless and Wild",
                                    "5": "Protected AAC audio file",
                                    "6": "Rock"
                                },
                                {
                                    "0": "Put The Finger On You",
                                    "1": "Angus Young, Malcolm Young, Brian Johnson",
                                    "2": "205662",
                                    "3": "6713451",
                                    "4": "For Those About To Rock We Salute You",
                                    "5": "MPEG audio file",
                                    "6": "Rock"
                                },
                                {
                                    "0": "Let's Get It Up",
                                    "1": "Angus Young, Malcolm Young, Brian Johnson",
                                    "2": "233926",
                                    "3": "7636561",
                                    "4": "For Those About To Rock We Salute You",
                                    "5": "MPEG audio file",
                                    "6": "Rock"
                                },
                                {
                                    "0": "Inject The Venom",
                                    "1": "Angus Young, Malcolm Young, Brian Johnson",
                                    "2": "210834",
                                    "3": "6852860",
                                    "4": "For Those About To Rock We Salute You",
                                    "5": "MPEG audio file",
                                    "6": "Rock"
                                },
                                {
                                    "0": "Snowballed",
                                    "1": "Angus Young, Malcolm Young, Brian Johnson",
                                    "2": "203102",
                                    "3": "6599424",
                                    "4": "For Those About To Rock We Salute You",
                                    "5": "MPEG audio file",
                                    "6": "Rock"
                                },
                                {
                                    "0": "Evil Walks",
                                    "1": "Angus Young, Malcolm Young, Brian Johnson",
                                    "2": "263497",
                                    "3": "8611245",
                                    "4": "For Those About To Rock We Salute You",
                                    "5": "MPEG audio file",
                                    "6": "Rock"
                                },
                                {
                                    "0": "C.O.D.",
                                    "1": "Angus Young, Malcolm Young, Brian Johnson",
                                    "2": "199836",
                                    "3": "6566314",
                                    "4": "For Those About To Rock We Salute You",
                                    "5": "MPEG audio file",
                                    "6": "Rock"
                                }
                            ]
                        },
                        "text/html": [
                            "<table>",
                            "<tr><th>TrackName</th><th>Composer</th><th>Milliseconds</th><th>Bytes</th><th>AlbumName</th><th>MediaTypeName</th><th>GenereName</th></tr>",
                            "<tr><td>For Those About To Rock (We Salute You)</td><td>Angus Young, Malcolm Young, Brian Johnson</td><td>343719</td><td>11170334</td><td>For Those About To Rock We Salute You</td><td>MPEG audio file</td><td>Rock</td></tr>",
                            "<tr><td>Balls to the Wall</td><td>NULL</td><td>342562</td><td>5510424</td><td>Balls to the Wall</td><td>Protected AAC audio file</td><td>Rock</td></tr>",
                            "<tr><td>Fast As a Shark</td><td>F. Baltes, S. Kaufman, U. Dirkscneider &amp; W. Hoffman</td><td>230619</td><td>3990994</td><td>Restless and Wild</td><td>Protected AAC audio file</td><td>Rock</td></tr>",
                            "<tr><td>Restless and Wild</td><td>F. Baltes, R.A. Smith-Diesel, S. Kaufman, U. Dirkscneider &amp; W. Hoffman</td><td>252051</td><td>4331779</td><td>Restless and Wild</td><td>Protected AAC audio file</td><td>Rock</td></tr>",
                            "<tr><td>Princess of the Dawn</td><td>Deaffy &amp; R.A. Smith-Diesel</td><td>375418</td><td>6290521</td><td>Restless and Wild</td><td>Protected AAC audio file</td><td>Rock</td></tr>",
                            "<tr><td>Put The Finger On You</td><td>Angus Young, Malcolm Young, Brian Johnson</td><td>205662</td><td>6713451</td><td>For Those About To Rock We Salute You</td><td>MPEG audio file</td><td>Rock</td></tr>",
                            "<tr><td>Let's Get It Up</td><td>Angus Young, Malcolm Young, Brian Johnson</td><td>233926</td><td>7636561</td><td>For Those About To Rock We Salute You</td><td>MPEG audio file</td><td>Rock</td></tr>",
                            "<tr><td>Inject The Venom</td><td>Angus Young, Malcolm Young, Brian Johnson</td><td>210834</td><td>6852860</td><td>For Those About To Rock We Salute You</td><td>MPEG audio file</td><td>Rock</td></tr>",
                            "<tr><td>Snowballed</td><td>Angus Young, Malcolm Young, Brian Johnson</td><td>203102</td><td>6599424</td><td>For Those About To Rock We Salute You</td><td>MPEG audio file</td><td>Rock</td></tr>",
                            "<tr><td>Evil Walks</td><td>Angus Young, Malcolm Young, Brian Johnson</td><td>263497</td><td>8611245</td><td>For Those About To Rock We Salute You</td><td>MPEG audio file</td><td>Rock</td></tr>",
                            "<tr><td>C.O.D.</td><td>Angus Young, Malcolm Young, Brian Johnson</td><td>199836</td><td>6566314</td><td>For Those About To Rock We Salute You</td><td>MPEG audio file</td><td>Rock</td></tr>",
                            "</table>"
                        ]
                    }
                }
            ],
            "execution_count": 1
        },
        {
            "cell_type": "code",
            "source": [
                "select TOP 10 CONCAT (Customer.FirstName ,' ', Customer.LastName) as 'FullName', Invoice.InvoiceId, Invoice.InvoiceDate, Invoice.BillingCountry\r\n",
                "from Customer\r\n",
                "JOIN Invoice ON Customer.CustomerId=Invoice.CustomerId where BillingCountry='Brazil'"
            ],
            "metadata": {
                "azdata_cell_guid": "30ac3b64-7512-40b8-bcec-219d5efa7b4b",
                "language": "sql"
            },
            "outputs": [
                {
                    "output_type": "display_data",
                    "data": {
                        "text/html": "(10 rows affected)"
                    },
                    "metadata": {}
                },
                {
                    "output_type": "display_data",
                    "data": {
                        "text/html": "Total execution time: 00:00:00.004"
                    },
                    "metadata": {}
                },
                {
                    "output_type": "execute_result",
                    "metadata": {},
                    "execution_count": 3,
                    "data": {
                        "application/vnd.dataresource+json": {
                            "schema": {
                                "fields": [
                                    {
                                        "name": "FullName"
                                    },
                                    {
                                        "name": "InvoiceId"
                                    },
                                    {
                                        "name": "InvoiceDate"
                                    },
                                    {
                                        "name": "BillingCountry"
                                    }
                                ]
                            },
                            "data": [
                                {
                                    "0": "Eduardo Martins",
                                    "1": "25",
                                    "2": "2009-04-09 00:00:00.000",
                                    "3": "Brazil"
                                },
                                {
                                    "0": "Roberto Almeida",
                                    "1": "34",
                                    "2": "2009-05-23 00:00:00.000",
                                    "3": "Brazil"
                                },
                                {
                                    "0": "Fernanda Ramos",
                                    "1": "35",
                                    "2": "2009-06-05 00:00:00.000",
                                    "3": "Brazil"
                                },
                                {
                                    "0": "Alexandre Rocha",
                                    "1": "57",
                                    "2": "2009-09-06 00:00:00.000",
                                    "3": "Brazil"
                                },
                                {
                                    "0": "Fernanda Ramos",
                                    "1": "58",
                                    "2": "2009-09-07 00:00:00.000",
                                    "3": "Brazil"
                                },
                                {
                                    "0": "Alexandre Rocha",
                                    "1": "68",
                                    "2": "2009-10-17 00:00:00.000",
                                    "3": "Brazil"
                                },
                                {
                                    "0": "Fernanda Ramos",
                                    "1": "80",
                                    "2": "2009-12-10 00:00:00.000",
                                    "3": "Brazil"
                                },
                                {
                                    "0": "Luís Gonçalves",
                                    "1": "98",
                                    "2": "2010-03-11 00:00:00.000",
                                    "3": "Brazil"
                                },
                                {
                                    "0": "Luís Gonçalves",
                                    "1": "121",
                                    "2": "2010-06-13 00:00:00.000",
                                    "3": "Brazil"
                                },
                                {
                                    "0": "Alexandre Rocha",
                                    "1": "123",
                                    "2": "2010-06-17 00:00:00.000",
                                    "3": "Brazil"
                                }
                            ]
                        },
                        "text/html": [
                            "<table>",
                            "<tr><th>FullName</th><th>InvoiceId</th><th>InvoiceDate</th><th>BillingCountry</th></tr>",
                            "<tr><td>Eduardo Martins</td><td>25</td><td>2009-04-09 00:00:00.000</td><td>Brazil</td></tr>",
                            "<tr><td>Roberto Almeida</td><td>34</td><td>2009-05-23 00:00:00.000</td><td>Brazil</td></tr>",
                            "<tr><td>Fernanda Ramos</td><td>35</td><td>2009-06-05 00:00:00.000</td><td>Brazil</td></tr>",
                            "<tr><td>Alexandre Rocha</td><td>57</td><td>2009-09-06 00:00:00.000</td><td>Brazil</td></tr>",
                            "<tr><td>Fernanda Ramos</td><td>58</td><td>2009-09-07 00:00:00.000</td><td>Brazil</td></tr>",
                            "<tr><td>Alexandre Rocha</td><td>68</td><td>2009-10-17 00:00:00.000</td><td>Brazil</td></tr>",
                            "<tr><td>Fernanda Ramos</td><td>80</td><td>2009-12-10 00:00:00.000</td><td>Brazil</td></tr>",
                            "<tr><td>Luís Gonçalves</td><td>98</td><td>2010-03-11 00:00:00.000</td><td>Brazil</td></tr>",
                            "<tr><td>Luís Gonçalves</td><td>121</td><td>2010-06-13 00:00:00.000</td><td>Brazil</td></tr>",
                            "<tr><td>Alexandre Rocha</td><td>123</td><td>2010-06-17 00:00:00.000</td><td>Brazil</td></tr>",
                            "</table>"
                        ]
                    }
                }
            ],
            "execution_count": 3
        },
        {
            "cell_type": "code",
            "source": [
                "select emp.EmployeeId, sum(inv.Total) as TotalSale\r\n",
                "from Employee emp\r\n",
                "JOIN Customer cust ON emp.EmployeeId=cust.SupportRepId\r\n",
                "JOIN Invoice inv ON inv.CustomerId=cust.CustomerId group by cust.SupportRepId, emp.EmployeeId \r\n",
                ""
            ],
            "metadata": {
                "azdata_cell_guid": "c2b54b8f-a2e9-44fb-abad-9aadfca1a159",
                "language": "sql"
            },
            "outputs": [
                {
                    "output_type": "display_data",
                    "data": {
                        "text/html": "(3 rows affected)"
                    },
                    "metadata": {}
                },
                {
                    "output_type": "display_data",
                    "data": {
                        "text/html": "Total execution time: 00:00:00.003"
                    },
                    "metadata": {}
                },
                {
                    "output_type": "execute_result",
                    "metadata": {},
                    "execution_count": 4,
                    "data": {
                        "application/vnd.dataresource+json": {
                            "schema": {
                                "fields": [
                                    {
                                        "name": "EmployeeId"
                                    },
                                    {
                                        "name": "TotalSale"
                                    }
                                ]
                            },
                            "data": [
                                {
                                    "0": "3",
                                    "1": "833.04"
                                },
                                {
                                    "0": "4",
                                    "1": "775.40"
                                },
                                {
                                    "0": "5",
                                    "1": "720.16"
                                }
                            ]
                        },
                        "text/html": [
                            "<table>",
                            "<tr><th>EmployeeId</th><th>TotalSale</th></tr>",
                            "<tr><td>3</td><td>833.04</td></tr>",
                            "<tr><td>4</td><td>775.40</td></tr>",
                            "<tr><td>5</td><td>720.16</td></tr>",
                            "</table>"
                        ]
                    }
                }
            ],
            "execution_count": 4
        },
        {
            "cell_type": "code",
            "source": [
                "select inv.InvoiceLineId,inv.InvoiceId,inv.TrackId,inv.UnitPrice,inv.Quantity,al.Title as Track,ar.Name as Artist\r\n",
                "from InvoiceLine inv join Track tr on inv.TrackId=tr.TrackId join Album al on al.AlbumId=tr.AlbumId\r\n",
                "join Artist ar on ar.ArtistId = al.ArtistId where tr.TrackId between 1 and 4"
            ],
            "metadata": {
                "language": "sql",
                "azdata_cell_guid": "6a9c0295-50a8-4a92-8974-1c9cdd8a185e"
            },
            "outputs": [
                {
                    "output_type": "display_data",
                    "data": {
                        "text/html": "(5 rows affected)"
                    },
                    "metadata": {}
                },
                {
                    "output_type": "display_data",
                    "data": {
                        "text/html": "Total execution time: 00:00:00.005"
                    },
                    "metadata": {}
                },
                {
                    "output_type": "execute_result",
                    "metadata": {},
                    "execution_count": 5,
                    "data": {
                        "application/vnd.dataresource+json": {
                            "schema": {
                                "fields": [
                                    {
                                        "name": "InvoiceLineId"
                                    },
                                    {
                                        "name": "InvoiceId"
                                    },
                                    {
                                        "name": "TrackId"
                                    },
                                    {
                                        "name": "UnitPrice"
                                    },
                                    {
                                        "name": "Quantity"
                                    },
                                    {
                                        "name": "Track"
                                    },
                                    {
                                        "name": "Artist"
                                    }
                                ]
                            },
                            "data": [
                                {
                                    "0": "579",
                                    "1": "108",
                                    "2": "1",
                                    "3": "0.99",
                                    "4": "1",
                                    "5": "For Those About To Rock We Salute You",
                                    "6": "AC/DC"
                                },
                                {
                                    "0": "1",
                                    "1": "1",
                                    "2": "2",
                                    "3": "0.99",
                                    "4": "1",
                                    "5": "Balls to the Wall",
                                    "6": "Accept"
                                },
                                {
                                    "0": "1154",
                                    "1": "214",
                                    "2": "2",
                                    "3": "0.99",
                                    "4": "1",
                                    "5": "Balls to the Wall",
                                    "6": "Accept"
                                },
                                {
                                    "0": "1728",
                                    "1": "319",
                                    "2": "3",
                                    "3": "0.99",
                                    "4": "1",
                                    "5": "Restless and Wild",
                                    "6": "Accept"
                                },
                                {
                                    "0": "2",
                                    "1": "1",
                                    "2": "4",
                                    "3": "0.99",
                                    "4": "1",
                                    "5": "Restless and Wild",
                                    "6": "Accept"
                                }
                            ]
                        },
                        "text/html": [
                            "<table>",
                            "<tr><th>InvoiceLineId</th><th>InvoiceId</th><th>TrackId</th><th>UnitPrice</th><th>Quantity</th><th>Track</th><th>Artist</th></tr>",
                            "<tr><td>579</td><td>108</td><td>1</td><td>0.99</td><td>1</td><td>For Those About To Rock We Salute You</td><td>AC/DC</td></tr>",
                            "<tr><td>1</td><td>1</td><td>2</td><td>0.99</td><td>1</td><td>Balls to the Wall</td><td>Accept</td></tr>",
                            "<tr><td>1154</td><td>214</td><td>2</td><td>0.99</td><td>1</td><td>Balls to the Wall</td><td>Accept</td></tr>",
                            "<tr><td>1728</td><td>319</td><td>3</td><td>0.99</td><td>1</td><td>Restless and Wild</td><td>Accept</td></tr>",
                            "<tr><td>2</td><td>1</td><td>4</td><td>0.99</td><td>1</td><td>Restless and Wild</td><td>Accept</td></tr>",
                            "</table>"
                        ]
                    }
                }
            ],
            "execution_count": 5
        },
        {
            "cell_type": "code",
            "source": [
                "select em.FirstName,em.LastName,inv.InvoiceId,cu.CustomerId,inv.InvoiceDate,inv.BillingAddress,inv.BillingCountry,inv.BillingPostalCode\r\n",
                "from Employee em join Customer cu on em.EmployeeId=cu.SupportRepId join Invoice inv on inv.CustomerId=cu.CustomerId \r\n",
                "where inv.InvoiceDate between '2009-01-01 00:00:00.000' and '2009-04-15 00:00:00.000' and em.FirstName='jane'"
            ],
            "metadata": {
                "language": "sql",
                "azdata_cell_guid": "082de164-12d1-44f0-ac48-f0b81b819e46"
            },
            "outputs": [
                {
                    "output_type": "display_data",
                    "data": {
                        "text/html": "(8 rows affected)"
                    },
                    "metadata": {}
                },
                {
                    "output_type": "display_data",
                    "data": {
                        "text/html": "Total execution time: 00:00:00.015"
                    },
                    "metadata": {}
                },
                {
                    "output_type": "execute_result",
                    "metadata": {},
                    "execution_count": 6,
                    "data": {
                        "application/vnd.dataresource+json": {
                            "schema": {
                                "fields": [
                                    {
                                        "name": "FirstName"
                                    },
                                    {
                                        "name": "LastName"
                                    },
                                    {
                                        "name": "InvoiceId"
                                    },
                                    {
                                        "name": "CustomerId"
                                    },
                                    {
                                        "name": "InvoiceDate"
                                    },
                                    {
                                        "name": "BillingAddress"
                                    },
                                    {
                                        "name": "BillingCountry"
                                    },
                                    {
                                        "name": "BillingPostalCode"
                                    }
                                ]
                            },
                            "data": [
                                {
                                    "0": "Jane",
                                    "1": "Peacock",
                                    "2": "6",
                                    "3": "37",
                                    "4": "2009-01-19 00:00:00.000",
                                    "5": "Berger Straße 10",
                                    "6": "Germany",
                                    "7": "60316"
                                },
                                {
                                    "0": "Jane",
                                    "1": "Peacock",
                                    "2": "7",
                                    "3": "38",
                                    "4": "2009-02-01 00:00:00.000",
                                    "5": "Barbarossastraße 19",
                                    "6": "Germany",
                                    "7": "10779"
                                },
                                {
                                    "0": "Jane",
                                    "1": "Peacock",
                                    "2": "9",
                                    "3": "42",
                                    "4": "2009-02-02 00:00:00.000",
                                    "5": "9, Place Louis Barthou",
                                    "6": "France",
                                    "7": "33000"
                                },
                                {
                                    "0": "Jane",
                                    "1": "Peacock",
                                    "2": "10",
                                    "3": "46",
                                    "4": "2009-02-03 00:00:00.000",
                                    "5": "3 Chatham Street",
                                    "6": "Ireland",
                                    "7": "NULL"
                                },
                                {
                                    "0": "Jane",
                                    "1": "Peacock",
                                    "2": "11",
                                    "3": "52",
                                    "4": "2009-02-06 00:00:00.000",
                                    "5": "202 Hoxton Street",
                                    "6": "United Kingdom",
                                    "7": "N1 5LH"
                                },
                                {
                                    "0": "Jane",
                                    "1": "Peacock",
                                    "2": "15",
                                    "3": "19",
                                    "4": "2009-03-04 00:00:00.000",
                                    "5": "1 Infinite Loop",
                                    "6": "USA",
                                    "7": "95014"
                                },
                                {
                                    "0": "Jane",
                                    "1": "Peacock",
                                    "2": "23",
                                    "3": "59",
                                    "4": "2009-04-05 00:00:00.000",
                                    "5": "3,Raj Bhavan Road",
                                    "6": "India",
                                    "7": "560001"
                                },
                                {
                                    "0": "Jane",
                                    "1": "Peacock",
                                    "2": "26",
                                    "3": "19",
                                    "4": "2009-04-14 00:00:00.000",
                                    "5": "1 Infinite Loop",
                                    "6": "USA",
                                    "7": "95014"
                                }
                            ]
                        },
                        "text/html": [
                            "<table>",
                            "<tr><th>FirstName</th><th>LastName</th><th>InvoiceId</th><th>CustomerId</th><th>InvoiceDate</th><th>BillingAddress</th><th>BillingCountry</th><th>BillingPostalCode</th></tr>",
                            "<tr><td>Jane</td><td>Peacock</td><td>6</td><td>37</td><td>2009-01-19 00:00:00.000</td><td>Berger Straße 10</td><td>Germany</td><td>60316</td></tr>",
                            "<tr><td>Jane</td><td>Peacock</td><td>7</td><td>38</td><td>2009-02-01 00:00:00.000</td><td>Barbarossastraße 19</td><td>Germany</td><td>10779</td></tr>",
                            "<tr><td>Jane</td><td>Peacock</td><td>9</td><td>42</td><td>2009-02-02 00:00:00.000</td><td>9, Place Louis Barthou</td><td>France</td><td>33000</td></tr>",
                            "<tr><td>Jane</td><td>Peacock</td><td>10</td><td>46</td><td>2009-02-03 00:00:00.000</td><td>3 Chatham Street</td><td>Ireland</td><td>NULL</td></tr>",
                            "<tr><td>Jane</td><td>Peacock</td><td>11</td><td>52</td><td>2009-02-06 00:00:00.000</td><td>202 Hoxton Street</td><td>United Kingdom</td><td>N1 5LH</td></tr>",
                            "<tr><td>Jane</td><td>Peacock</td><td>15</td><td>19</td><td>2009-03-04 00:00:00.000</td><td>1 Infinite Loop</td><td>USA</td><td>95014</td></tr>",
                            "<tr><td>Jane</td><td>Peacock</td><td>23</td><td>59</td><td>2009-04-05 00:00:00.000</td><td>3,Raj Bhavan Road</td><td>India</td><td>560001</td></tr>",
                            "<tr><td>Jane</td><td>Peacock</td><td>26</td><td>19</td><td>2009-04-14 00:00:00.000</td><td>1 Infinite Loop</td><td>USA</td><td>95014</td></tr>",
                            "</table>"
                        ]
                    }
                }
            ],
            "execution_count": 6
        },
        {
            "cell_type": "code",
            "source": [
                "select cu.FirstName as Customer_name,inv.InvoiceDate as OrderDate from Customer cu join invoice inv \r\n",
                "on cu.CustomerId=inv.CustomerId where inv.InvoiceDate between '2012-01-01 00:00:00.000' and '2012-03-11 00:00:00.000'"
            ],
            "metadata": {
                "language": "sql",
                "azdata_cell_guid": "2d4e869c-def4-40dd-a6b1-747392a164c6"
            },
            "outputs": [
                {
                    "output_type": "display_data",
                    "data": {
                        "text/html": "(16 rows affected)"
                    },
                    "metadata": {}
                },
                {
                    "output_type": "display_data",
                    "data": {
                        "text/html": "Total execution time: 00:00:00.006"
                    },
                    "metadata": {}
                },
                {
                    "output_type": "execute_result",
                    "metadata": {},
                    "execution_count": 7,
                    "data": {
                        "application/vnd.dataresource+json": {
                            "schema": {
                                "fields": [
                                    {
                                        "name": "Customer_name"
                                    },
                                    {
                                        "name": "OrderDate"
                                    }
                                ]
                            },
                            "data": [
                                {
                                    "0": "Mark",
                                    "1": "2012-01-01 00:00:00.000"
                                },
                                {
                                    "0": "Eduardo",
                                    "1": "2012-01-09 00:00:00.000"
                                },
                                {
                                    "0": "Alexandre",
                                    "1": "2012-01-22 00:00:00.000"
                                },
                                {
                                    "0": "Fernanda",
                                    "1": "2012-01-22 00:00:00.000"
                                },
                                {
                                    "0": "Jennifer",
                                    "1": "2012-01-23 00:00:00.000"
                                },
                                {
                                    "0": "Tim",
                                    "1": "2012-01-24 00:00:00.000"
                                },
                                {
                                    "0": "Victor",
                                    "1": "2012-01-27 00:00:00.000"
                                },
                                {
                                    "0": "João",
                                    "1": "2012-02-01 00:00:00.000"
                                },
                                {
                                    "0": "Johannes",
                                    "1": "2012-02-09 00:00:00.000"
                                },
                                {
                                    "0": "Stanisław",
                                    "1": "2012-02-22 00:00:00.000"
                                },
                                {
                                    "0": "Joakim",
                                    "1": "2012-02-22 00:00:00.000"
                                },
                                {
                                    "0": "Phil",
                                    "1": "2012-02-23 00:00:00.000"
                                },
                                {
                                    "0": "Luis",
                                    "1": "2012-02-24 00:00:00.000"
                                },
                                {
                                    "0": "Bjørn",
                                    "1": "2012-02-27 00:00:00.000"
                                },
                                {
                                    "0": "Fernanda",
                                    "1": "2012-03-03 00:00:00.000"
                                },
                                {
                                    "0": "Patrick",
                                    "1": "2012-03-11 00:00:00.000"
                                }
                            ]
                        },
                        "text/html": [
                            "<table>",
                            "<tr><th>Customer_name</th><th>OrderDate</th></tr>",
                            "<tr><td>Mark</td><td>2012-01-01 00:00:00.000</td></tr>",
                            "<tr><td>Eduardo</td><td>2012-01-09 00:00:00.000</td></tr>",
                            "<tr><td>Alexandre</td><td>2012-01-22 00:00:00.000</td></tr>",
                            "<tr><td>Fernanda</td><td>2012-01-22 00:00:00.000</td></tr>",
                            "<tr><td>Jennifer</td><td>2012-01-23 00:00:00.000</td></tr>",
                            "<tr><td>Tim</td><td>2012-01-24 00:00:00.000</td></tr>",
                            "<tr><td>Victor</td><td>2012-01-27 00:00:00.000</td></tr>",
                            "<tr><td>João</td><td>2012-02-01 00:00:00.000</td></tr>",
                            "<tr><td>Johannes</td><td>2012-02-09 00:00:00.000</td></tr>",
                            "<tr><td>Stanisław</td><td>2012-02-22 00:00:00.000</td></tr>",
                            "<tr><td>Joakim</td><td>2012-02-22 00:00:00.000</td></tr>",
                            "<tr><td>Phil</td><td>2012-02-23 00:00:00.000</td></tr>",
                            "<tr><td>Luis</td><td>2012-02-24 00:00:00.000</td></tr>",
                            "<tr><td>Bjørn</td><td>2012-02-27 00:00:00.000</td></tr>",
                            "<tr><td>Fernanda</td><td>2012-03-03 00:00:00.000</td></tr>",
                            "<tr><td>Patrick</td><td>2012-03-11 00:00:00.000</td></tr>",
                            "</table>"
                        ]
                    }
                }
            ],
            "execution_count": 7
        },
        {
            "cell_type": "code",
            "source": [
                "select top 8 CONCAT(cu.FirstName,' ',cu.LastName)as 'Sales Agent',inv.InvoiceId,cu.CustomerId,\r\n",
                "inv.InvoiceDate,inv.BillingAddress,inv.BillingCity,inv.BillingState,inv.BillingCountry,inv.BillingPostalCode,\r\n",
                "inv.Total from Customer cu join Invoice inv on cu.CustomerId=inv.CustomerId "
            ],
            "metadata": {
                "language": "sql",
                "azdata_cell_guid": "03b78cec-044e-41a7-a82b-9dbabc9fd948"
            },
            "outputs": [
                {
                    "output_type": "display_data",
                    "data": {
                        "text/html": "(8 rows affected)"
                    },
                    "metadata": {}
                },
                {
                    "output_type": "display_data",
                    "data": {
                        "text/html": "Total execution time: 00:00:00.009"
                    },
                    "metadata": {}
                },
                {
                    "output_type": "execute_result",
                    "metadata": {},
                    "execution_count": 8,
                    "data": {
                        "application/vnd.dataresource+json": {
                            "schema": {
                                "fields": [
                                    {
                                        "name": "Sales Agent"
                                    },
                                    {
                                        "name": "InvoiceId"
                                    },
                                    {
                                        "name": "CustomerId"
                                    },
                                    {
                                        "name": "InvoiceDate"
                                    },
                                    {
                                        "name": "BillingAddress"
                                    },
                                    {
                                        "name": "BillingCity"
                                    },
                                    {
                                        "name": "BillingState"
                                    },
                                    {
                                        "name": "BillingCountry"
                                    },
                                    {
                                        "name": "BillingPostalCode"
                                    },
                                    {
                                        "name": "Total"
                                    }
                                ]
                            },
                            "data": [
                                {
                                    "0": "Leonie Köhler",
                                    "1": "1",
                                    "2": "2",
                                    "3": "2009-01-01 00:00:00.000",
                                    "4": "Theodor-Heuss-Straße 34",
                                    "5": "Stuttgart",
                                    "6": "NULL",
                                    "7": "Germany",
                                    "8": "70174",
                                    "9": "1.98"
                                },
                                {
                                    "0": "Bjørn Hansen",
                                    "1": "2",
                                    "2": "4",
                                    "3": "2009-01-02 00:00:00.000",
                                    "4": "Ullevålsveien 14",
                                    "5": "Oslo",
                                    "6": "NULL",
                                    "7": "Norway",
                                    "8": "0171",
                                    "9": "3.96"
                                },
                                {
                                    "0": "Daan Peeters",
                                    "1": "3",
                                    "2": "8",
                                    "3": "2009-01-03 00:00:00.000",
                                    "4": "Grétrystraat 63",
                                    "5": "Brussels",
                                    "6": "NULL",
                                    "7": "Belgium",
                                    "8": "1000",
                                    "9": "5.94"
                                },
                                {
                                    "0": "Mark Philips",
                                    "1": "4",
                                    "2": "14",
                                    "3": "2009-01-06 00:00:00.000",
                                    "4": "8210 111 ST NW",
                                    "5": "Edmonton",
                                    "6": "AB",
                                    "7": "Canada",
                                    "8": "T6G 2C7",
                                    "9": "8.91"
                                },
                                {
                                    "0": "John Gordon",
                                    "1": "5",
                                    "2": "23",
                                    "3": "2009-01-11 00:00:00.000",
                                    "4": "69 Salem Street",
                                    "5": "Boston",
                                    "6": "MA",
                                    "7": "USA",
                                    "8": "2113",
                                    "9": "13.86"
                                },
                                {
                                    "0": "Fynn Zimmermann",
                                    "1": "6",
                                    "2": "37",
                                    "3": "2009-01-19 00:00:00.000",
                                    "4": "Berger Straße 10",
                                    "5": "Frankfurt",
                                    "6": "NULL",
                                    "7": "Germany",
                                    "8": "60316",
                                    "9": "0.99"
                                },
                                {
                                    "0": "Niklas Schröder",
                                    "1": "7",
                                    "2": "38",
                                    "3": "2009-02-01 00:00:00.000",
                                    "4": "Barbarossastraße 19",
                                    "5": "Berlin",
                                    "6": "NULL",
                                    "7": "Germany",
                                    "8": "10779",
                                    "9": "1.98"
                                },
                                {
                                    "0": "Dominique Lefebvre",
                                    "1": "8",
                                    "2": "40",
                                    "3": "2009-02-01 00:00:00.000",
                                    "4": "8, Rue Hanovre",
                                    "5": "Paris",
                                    "6": "NULL",
                                    "7": "France",
                                    "8": "75002",
                                    "9": "1.98"
                                }
                            ]
                        },
                        "text/html": [
                            "<table>",
                            "<tr><th>Sales Agent</th><th>InvoiceId</th><th>CustomerId</th><th>InvoiceDate</th><th>BillingAddress</th><th>BillingCity</th><th>BillingState</th><th>BillingCountry</th><th>BillingPostalCode</th><th>Total</th></tr>",
                            "<tr><td>Leonie Köhler</td><td>1</td><td>2</td><td>2009-01-01 00:00:00.000</td><td>Theodor-Heuss-Straße 34</td><td>Stuttgart</td><td>NULL</td><td>Germany</td><td>70174</td><td>1.98</td></tr>",
                            "<tr><td>Bjørn Hansen</td><td>2</td><td>4</td><td>2009-01-02 00:00:00.000</td><td>Ullevålsveien 14</td><td>Oslo</td><td>NULL</td><td>Norway</td><td>0171</td><td>3.96</td></tr>",
                            "<tr><td>Daan Peeters</td><td>3</td><td>8</td><td>2009-01-03 00:00:00.000</td><td>Grétrystraat 63</td><td>Brussels</td><td>NULL</td><td>Belgium</td><td>1000</td><td>5.94</td></tr>",
                            "<tr><td>Mark Philips</td><td>4</td><td>14</td><td>2009-01-06 00:00:00.000</td><td>8210 111 ST NW</td><td>Edmonton</td><td>AB</td><td>Canada</td><td>T6G 2C7</td><td>8.91</td></tr>",
                            "<tr><td>John Gordon</td><td>5</td><td>23</td><td>2009-01-11 00:00:00.000</td><td>69 Salem Street</td><td>Boston</td><td>MA</td><td>USA</td><td>2113</td><td>13.86</td></tr>",
                            "<tr><td>Fynn Zimmermann</td><td>6</td><td>37</td><td>2009-01-19 00:00:00.000</td><td>Berger Straße 10</td><td>Frankfurt</td><td>NULL</td><td>Germany</td><td>60316</td><td>0.99</td></tr>",
                            "<tr><td>Niklas Schröder</td><td>7</td><td>38</td><td>2009-02-01 00:00:00.000</td><td>Barbarossastraße 19</td><td>Berlin</td><td>NULL</td><td>Germany</td><td>10779</td><td>1.98</td></tr>",
                            "<tr><td>Dominique Lefebvre</td><td>8</td><td>40</td><td>2009-02-01 00:00:00.000</td><td>8, Rue Hanovre</td><td>Paris</td><td>NULL</td><td>France</td><td>75002</td><td>1.98</td></tr>",
                            "</table>"
                        ]
                    }
                }
            ],
            "execution_count": 8
        },
        {
            "cell_type": "code",
            "source": [
                "select CONCAT(cu.FirstName,' ',cu.LastName) as 'Name',SUM(inv.Total) as Amount from customer cu join invoice inv on cu.CustomerId=inv.CustomerId\r\n",
                "group by cu.CustomerId,cu.FirstName,cu.LastName having SUM(inv.Total) between 36.62 and 37.62 order by SUM(inv.Total) asc "
            ],
            "metadata": {
                "language": "sql",
                "azdata_cell_guid": "aa2bf946-247a-44b8-a5d2-469599b3f20b"
            },
            "outputs": [
                {
                    "output_type": "display_data",
                    "data": {
                        "text/html": "(31 rows affected)"
                    },
                    "metadata": {}
                },
                {
                    "output_type": "display_data",
                    "data": {
                        "text/html": "Total execution time: 00:00:00.015"
                    },
                    "metadata": {}
                },
                {
                    "output_type": "execute_result",
                    "metadata": {},
                    "execution_count": 9,
                    "data": {
                        "application/vnd.dataresource+json": {
                            "schema": {
                                "fields": [
                                    {
                                        "name": "Name"
                                    },
                                    {
                                        "name": "Amount"
                                    }
                                ]
                            },
                            "data": [
                                {
                                    "0": "Puja Srivastava",
                                    "1": "36.64"
                                },
                                {
                                    "0": "Leonie Köhler",
                                    "1": "37.62"
                                },
                                {
                                    "0": "Daan Peeters",
                                    "1": "37.62"
                                },
                                {
                                    "0": "Kara Nielsen",
                                    "1": "37.62"
                                },
                                {
                                    "0": "Eduardo Martins",
                                    "1": "37.62"
                                },
                                {
                                    "0": "Alexandre Rocha",
                                    "1": "37.62"
                                },
                                {
                                    "0": "Roberto Almeida",
                                    "1": "37.62"
                                },
                                {
                                    "0": "Fernanda Ramos",
                                    "1": "37.62"
                                },
                                {
                                    "0": "Mark Philips",
                                    "1": "37.62"
                                },
                                {
                                    "0": "Frank Harris",
                                    "1": "37.62"
                                },
                                {
                                    "0": "Michelle Brooks",
                                    "1": "37.62"
                                },
                                {
                                    "0": "Kathy Chase",
                                    "1": "37.62"
                                },
                                {
                                    "0": "John Gordon",
                                    "1": "37.62"
                                },
                                {
                                    "0": "Patrick Gray",
                                    "1": "37.62"
                                },
                                {
                                    "0": "Robert Brown",
                                    "1": "37.62"
                                },
                                {
                                    "0": "Edward Francis",
                                    "1": "37.62"
                                },
                                {
                                    "0": "Martha Silk",
                                    "1": "37.62"
                                },
                                {
                                    "0": "Aaron Mitchell",
                                    "1": "37.62"
                                },
                                {
                                    "0": "Ellie Sullivan",
                                    "1": "37.62"
                                },
                                {
                                    "0": "Madalena Sampaio",
                                    "1": "37.62"
                                },
                                {
                                    "0": "Hannah Schneider",
                                    "1": "37.62"
                                },
                                {
                                    "0": "Niklas Schröder",
                                    "1": "37.62"
                                },
                                {
                                    "0": "Marc Dubois",
                                    "1": "37.62"
                                },
                                {
                                    "0": "Lucas Mancini",
                                    "1": "37.62"
                                },
                                {
                                    "0": "Stanisław Wójcik",
                                    "1": "37.62"
                                },
                                {
                                    "0": "Enrique Muñoz",
                                    "1": "37.62"
                                },
                                {
                                    "0": "Emma Jones",
                                    "1": "37.62"
                                },
                                {
                                    "0": "Phil Hughes",
                                    "1": "37.62"
                                },
                                {
                                    "0": "Steve Murray",
                                    "1": "37.62"
                                },
                                {
                                    "0": "Mark Taylor",
                                    "1": "37.62"
                                },
                                {
                                    "0": "Diego Gutiérrez",
                                    "1": "37.62"
                                }
                            ]
                        },
                        "text/html": [
                            "<table>",
                            "<tr><th>Name</th><th>Amount</th></tr>",
                            "<tr><td>Puja Srivastava</td><td>36.64</td></tr>",
                            "<tr><td>Leonie Köhler</td><td>37.62</td></tr>",
                            "<tr><td>Daan Peeters</td><td>37.62</td></tr>",
                            "<tr><td>Kara Nielsen</td><td>37.62</td></tr>",
                            "<tr><td>Eduardo Martins</td><td>37.62</td></tr>",
                            "<tr><td>Alexandre Rocha</td><td>37.62</td></tr>",
                            "<tr><td>Roberto Almeida</td><td>37.62</td></tr>",
                            "<tr><td>Fernanda Ramos</td><td>37.62</td></tr>",
                            "<tr><td>Mark Philips</td><td>37.62</td></tr>",
                            "<tr><td>Frank Harris</td><td>37.62</td></tr>",
                            "<tr><td>Michelle Brooks</td><td>37.62</td></tr>",
                            "<tr><td>Kathy Chase</td><td>37.62</td></tr>",
                            "<tr><td>John Gordon</td><td>37.62</td></tr>",
                            "<tr><td>Patrick Gray</td><td>37.62</td></tr>",
                            "<tr><td>Robert Brown</td><td>37.62</td></tr>",
                            "<tr><td>Edward Francis</td><td>37.62</td></tr>",
                            "<tr><td>Martha Silk</td><td>37.62</td></tr>",
                            "<tr><td>Aaron Mitchell</td><td>37.62</td></tr>",
                            "<tr><td>Ellie Sullivan</td><td>37.62</td></tr>",
                            "<tr><td>Madalena Sampaio</td><td>37.62</td></tr>",
                            "<tr><td>Hannah Schneider</td><td>37.62</td></tr>",
                            "<tr><td>Niklas Schröder</td><td>37.62</td></tr>",
                            "<tr><td>Marc Dubois</td><td>37.62</td></tr>",
                            "<tr><td>Lucas Mancini</td><td>37.62</td></tr>",
                            "<tr><td>Stanisław Wójcik</td><td>37.62</td></tr>",
                            "<tr><td>Enrique Muñoz</td><td>37.62</td></tr>",
                            "<tr><td>Emma Jones</td><td>37.62</td></tr>",
                            "<tr><td>Phil Hughes</td><td>37.62</td></tr>",
                            "<tr><td>Steve Murray</td><td>37.62</td></tr>",
                            "<tr><td>Mark Taylor</td><td>37.62</td></tr>",
                            "<tr><td>Diego Gutiérrez</td><td>37.62</td></tr>",
                            "</table>"
                        ]
                    }
                }
            ],
            "execution_count": 9
        }
    ]
}
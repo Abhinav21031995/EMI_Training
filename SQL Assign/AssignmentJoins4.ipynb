{
    "metadata": {
        "kernelspec": {
            "name": "SQL",
            "display_name": "SQL",
            "language": "sql"
        },
        "language_info": {
            "name": "sql",
            "version": ""
        }
    },
    "nbformat_minor": 2,
    "nbformat": 4,
    "cells": [
        {
            "cell_type": "code",
            "source": [
                " SELECT  ord_no,purch_amt,\r\n",
                "cust_name,city \r\n",
                "FROM orders ,customer  \r\n",
                "WHERE orders.customer_id=customer.customer_ID \r\n",
                "AND purch_amt BETWEEN 500 AND 2000"
            ],
            "metadata": {
                "azdata_cell_guid": "dd17e4d4-6150-44da-86ad-c7945097c26e",
                "language": "sql"
            },
            "outputs": [
                {
                    "output_type": "display_data",
                    "data": {
                        "text/html": "(2 rows affected)"
                    },
                    "metadata": {}
                },
                {
                    "output_type": "display_data",
                    "data": {
                        "text/html": "Total execution time: 00:00:00.048"
                    },
                    "metadata": {}
                },
                {
                    "output_type": "execute_result",
                    "metadata": {},
                    "execution_count": 1,
                    "data": {
                        "application/vnd.dataresource+json": {
                            "schema": {
                                "fields": [
                                    {
                                        "name": "ord_no"
                                    },
                                    {
                                        "name": "purch_amt"
                                    },
                                    {
                                        "name": "cust_name"
                                    },
                                    {
                                        "name": "city"
                                    }
                                ]
                            },
                            "data": [
                                {
                                    "0": "70007",
                                    "1": "948.50",
                                    "2": "Graham Zusi",
                                    "3": "California                           "
                                },
                                {
                                    "0": "70010",
                                    "1": "1983.43",
                                    "2": "Fabian Johnson",
                                    "3": "Paris                                "
                                }
                            ]
                        },
                        "text/html": [
                            "<table>",
                            "<tr><th>ord_no</th><th>purch_amt</th><th>cust_name</th><th>city</th></tr>",
                            "<tr><td>70007</td><td>948.50</td><td>Graham Zusi</td><td>California                           </td></tr>",
                            "<tr><td>70010</td><td>1983.43</td><td>Fabian Johnson</td><td>Paris                                </td></tr>",
                            "</table>"
                        ]
                    }
                }
            ],
            "execution_count": 1
        },
        {
            "cell_type": "code",
            "source": [
                "SELECT cust_name AS \"Customer_Name\", \r\n",
                "name AS \"Salesman\" \r\n",
                "FROM customer  \r\n",
                "INNER JOIN salesman  \r\n",
                "ON customer.salesman_id=salesman.salesman_id;"
            ],
            "metadata": {
                "language": "sql",
                "azdata_cell_guid": "93588195-8274-47a7-8fea-2d5263146b35"
            },
            "outputs": [
                {
                    "output_type": "display_data",
                    "data": {
                        "text/html": "(7 rows affected)"
                    },
                    "metadata": {}
                },
                {
                    "output_type": "display_data",
                    "data": {
                        "text/html": "Total execution time: 00:00:00.007"
                    },
                    "metadata": {}
                },
                {
                    "output_type": "execute_result",
                    "metadata": {},
                    "execution_count": 2,
                    "data": {
                        "application/vnd.dataresource+json": {
                            "schema": {
                                "fields": [
                                    {
                                        "name": "Customer_Name"
                                    },
                                    {
                                        "name": "Salesman"
                                    }
                                ]
                            },
                            "data": [
                                {
                                    "0": "Nick Rimando",
                                    "1": "James Hoog"
                                },
                                {
                                    "0": "Jozy Altidor",
                                    "1": "Paul Adam "
                                },
                                {
                                    "0": "Fabian Johnson",
                                    "1": "Mc Lyon "
                                },
                                {
                                    "0": "Graham Zusi",
                                    "1": "Nail Knite"
                                },
                                {
                                    "0": "Brad Davis ",
                                    "1": "James Hoog"
                                },
                                {
                                    "0": "Julian Green ",
                                    "1": "Nail Knite"
                                },
                                {
                                    "0": "Geoff Cameron ",
                                    "1": "Lauson Hen "
                                }
                            ]
                        },
                        "text/html": [
                            "<table>",
                            "<tr><th>Customer_Name</th><th>Salesman</th></tr>",
                            "<tr><td>Nick Rimando</td><td>James Hoog</td></tr>",
                            "<tr><td>Jozy Altidor</td><td>Paul Adam </td></tr>",
                            "<tr><td>Fabian Johnson</td><td>Mc Lyon </td></tr>",
                            "<tr><td>Graham Zusi</td><td>Nail Knite</td></tr>",
                            "<tr><td>Brad Davis </td><td>James Hoog</td></tr>",
                            "<tr><td>Julian Green </td><td>Nail Knite</td></tr>",
                            "<tr><td>Geoff Cameron </td><td>Lauson Hen </td></tr>",
                            "</table>"
                        ]
                    }
                }
            ],
            "execution_count": 2
        },
        {
            "cell_type": "code",
            "source": [
                "SELECT cust_name AS \"Customer Name\", \r\n",
                " name AS \"Salesman\", commission \r\n",
                "FROM customer  \r\n",
                "INNER JOIN salesman  \r\n",
                "ON customer.salesman_id=salesman.salesman_id \r\n",
                "WHERE salesman.commission>0.12"
            ],
            "metadata": {
                "language": "sql",
                "azdata_cell_guid": "99a06971-5844-4726-ab69-87810dc971a3"
            },
            "outputs": [
                {
                    "output_type": "display_data",
                    "data": {
                        "text/html": "(6 rows affected)"
                    },
                    "metadata": {}
                },
                {
                    "output_type": "display_data",
                    "data": {
                        "text/html": "Total execution time: 00:00:00.010"
                    },
                    "metadata": {}
                },
                {
                    "output_type": "execute_result",
                    "metadata": {},
                    "execution_count": 3,
                    "data": {
                        "application/vnd.dataresource+json": {
                            "schema": {
                                "fields": [
                                    {
                                        "name": "Customer Name"
                                    },
                                    {
                                        "name": "Salesman"
                                    },
                                    {
                                        "name": "commission"
                                    }
                                ]
                            },
                            "data": [
                                {
                                    "0": "Nick Rimando",
                                    "1": "James Hoog",
                                    "2": "0.15"
                                },
                                {
                                    "0": "Jozy Altidor",
                                    "1": "Paul Adam ",
                                    "2": "0.13"
                                },
                                {
                                    "0": "Fabian Johnson",
                                    "1": "Mc Lyon ",
                                    "2": "0.14"
                                },
                                {
                                    "0": "Graham Zusi",
                                    "1": "Nail Knite",
                                    "2": "0.13"
                                },
                                {
                                    "0": "Brad Davis ",
                                    "1": "James Hoog",
                                    "2": "0.15"
                                },
                                {
                                    "0": "Julian Green ",
                                    "1": "Nail Knite",
                                    "2": "0.13"
                                }
                            ]
                        },
                        "text/html": [
                            "<table>",
                            "<tr><th>Customer Name</th><th>Salesman</th><th>commission</th></tr>",
                            "<tr><td>Nick Rimando</td><td>James Hoog</td><td>0.15</td></tr>",
                            "<tr><td>Jozy Altidor</td><td>Paul Adam </td><td>0.13</td></tr>",
                            "<tr><td>Fabian Johnson</td><td>Mc Lyon </td><td>0.14</td></tr>",
                            "<tr><td>Graham Zusi</td><td>Nail Knite</td><td>0.13</td></tr>",
                            "<tr><td>Brad Davis </td><td>James Hoog</td><td>0.15</td></tr>",
                            "<tr><td>Julian Green </td><td>Nail Knite</td><td>0.13</td></tr>",
                            "</table>"
                        ]
                    }
                }
            ],
            "execution_count": 3
        },
        {
            "cell_type": "code",
            "source": [
                "SELECT a.cust_name AS \"Customer_Name\", \r\n",
                "a.city AS \"Customer_city\", b.name AS \"Salesman\", b.city,b.commission  \r\n",
                "FROM customer a  \r\n",
                "INNER JOIN salesman b  \r\n",
                "ON a.salesman_id=b.salesman_id \r\n",
                "WHERE b.commission>0.12 \r\n",
                "AND a.city<>b.city;"
            ],
            "metadata": {
                "language": "sql",
                "azdata_cell_guid": "776e96fc-a8b2-40a3-8f50-fd630a63ca89"
            },
            "outputs": [
                {
                    "output_type": "display_data",
                    "data": {
                        "text/html": "(3 rows affected)"
                    },
                    "metadata": {}
                },
                {
                    "output_type": "display_data",
                    "data": {
                        "text/html": "Total execution time: 00:00:00.011"
                    },
                    "metadata": {}
                },
                {
                    "output_type": "execute_result",
                    "metadata": {},
                    "execution_count": 4,
                    "data": {
                        "application/vnd.dataresource+json": {
                            "schema": {
                                "fields": [
                                    {
                                        "name": "Customer_Name"
                                    },
                                    {
                                        "name": "Customer_city"
                                    },
                                    {
                                        "name": "Salesman"
                                    },
                                    {
                                        "name": "city"
                                    },
                                    {
                                        "name": "commission"
                                    }
                                ]
                            },
                            "data": [
                                {
                                    "0": "Jozy Altidor",
                                    "1": "Moscow                               ",
                                    "2": "Paul Adam ",
                                    "3": "Rome                                 ",
                                    "4": "0.13"
                                },
                                {
                                    "0": "Graham Zusi",
                                    "1": "California                           ",
                                    "2": "Nail Knite",
                                    "3": "Paris                                ",
                                    "4": "0.13"
                                },
                                {
                                    "0": "Julian Green ",
                                    "1": "London                               ",
                                    "2": "Nail Knite",
                                    "3": "Paris                                ",
                                    "4": "0.13"
                                }
                            ]
                        },
                        "text/html": [
                            "<table>",
                            "<tr><th>Customer_Name</th><th>Customer_city</th><th>Salesman</th><th>city</th><th>commission</th></tr>",
                            "<tr><td>Jozy Altidor</td><td>Moscow                               </td><td>Paul Adam </td><td>Rome                                 </td><td>0.13</td></tr>",
                            "<tr><td>Graham Zusi</td><td>California                           </td><td>Nail Knite</td><td>Paris                                </td><td>0.13</td></tr>",
                            "<tr><td>Julian Green </td><td>London                               </td><td>Nail Knite</td><td>Paris                                </td><td>0.13</td></tr>",
                            "</table>"
                        ]
                    }
                }
            ],
            "execution_count": 4
        },
        {
            "cell_type": "code",
            "source": [
                "SELECT a.ord_no,a.ord_date,a.purch_amt,\r\n",
                "b.cust_name AS \"Customer_Name\", \r\n",
                "c.name AS \"Salesman\", c.commission \r\n",
                "FROM orders a \r\n",
                "INNER JOIN customer b \r\n",
                "ON a.customer_id=b.customer_id \r\n",
                "INNER JOIN salesman c \r\n",
                "ON a.salesman_id=c.salesman_id"
            ],
            "metadata": {
                "language": "sql",
                "azdata_cell_guid": "d54cdb9e-c100-4f7a-a8cb-dff266e45be8"
            },
            "outputs": [
                {
                    "output_type": "display_data",
                    "data": {
                        "text/html": "(11 rows affected)"
                    },
                    "metadata": {}
                },
                {
                    "output_type": "display_data",
                    "data": {
                        "text/html": "Total execution time: 00:00:00.014"
                    },
                    "metadata": {}
                },
                {
                    "output_type": "execute_result",
                    "metadata": {},
                    "execution_count": 5,
                    "data": {
                        "application/vnd.dataresource+json": {
                            "schema": {
                                "fields": [
                                    {
                                        "name": "ord_no"
                                    },
                                    {
                                        "name": "ord_date"
                                    },
                                    {
                                        "name": "purch_amt"
                                    },
                                    {
                                        "name": "Customer_Name"
                                    },
                                    {
                                        "name": "Salesman"
                                    },
                                    {
                                        "name": "commission"
                                    }
                                ]
                            },
                            "data": [
                                {
                                    "0": "70001",
                                    "1": "2012-10-05",
                                    "2": "150.50",
                                    "3": "Graham Zusi",
                                    "4": "Nail Knite",
                                    "5": "0.13"
                                },
                                {
                                    "0": "70002",
                                    "1": "2012-10-05",
                                    "2": "65.26",
                                    "3": "Nick Rimando",
                                    "4": "James Hoog",
                                    "5": "0.15"
                                },
                                {
                                    "0": "70003",
                                    "1": "2012-10-10",
                                    "2": "2480.40",
                                    "3": "Geoff Cameron ",
                                    "4": "Lauson Hen ",
                                    "5": "0.12"
                                },
                                {
                                    "0": "70004",
                                    "1": "2012-08-17",
                                    "2": "110.50",
                                    "3": "Geoff Cameron ",
                                    "4": "Lauson Hen ",
                                    "5": "0.12"
                                },
                                {
                                    "0": "70005",
                                    "1": "2012-07-27",
                                    "2": "2400.60",
                                    "3": "Brad Davis ",
                                    "4": "James Hoog",
                                    "5": "0.15"
                                },
                                {
                                    "0": "70007",
                                    "1": "2012-09-10",
                                    "2": "948.50",
                                    "3": "Graham Zusi",
                                    "4": "Nail Knite",
                                    "5": "0.13"
                                },
                                {
                                    "0": "70008",
                                    "1": "2012-09-10",
                                    "2": "5760.00",
                                    "3": "Nick Rimando",
                                    "4": "James Hoog",
                                    "5": "0.15"
                                },
                                {
                                    "0": "70010",
                                    "1": "2012-10-10",
                                    "2": "1983.43",
                                    "3": "Fabian Johnson",
                                    "4": "Mc Lyon ",
                                    "5": "0.14"
                                },
                                {
                                    "0": "70011",
                                    "1": "2012-08-17",
                                    "2": "75.29",
                                    "3": "Jozy Altidor",
                                    "4": "Paul Adam ",
                                    "5": "0.13"
                                },
                                {
                                    "0": "70012",
                                    "1": "2012-06-27",
                                    "2": "250.45",
                                    "3": "Julian Green ",
                                    "4": "Nail Knite",
                                    "5": "0.13"
                                },
                                {
                                    "0": "70013",
                                    "1": "2012-04-25",
                                    "2": "3045.60",
                                    "3": "Nick Rimando",
                                    "4": "James Hoog",
                                    "5": "0.15"
                                }
                            ]
                        },
                        "text/html": [
                            "<table>",
                            "<tr><th>ord_no</th><th>ord_date</th><th>purch_amt</th><th>Customer_Name</th><th>Salesman</th><th>commission</th></tr>",
                            "<tr><td>70001</td><td>2012-10-05</td><td>150.50</td><td>Graham Zusi</td><td>Nail Knite</td><td>0.13</td></tr>",
                            "<tr><td>70002</td><td>2012-10-05</td><td>65.26</td><td>Nick Rimando</td><td>James Hoog</td><td>0.15</td></tr>",
                            "<tr><td>70003</td><td>2012-10-10</td><td>2480.40</td><td>Geoff Cameron </td><td>Lauson Hen </td><td>0.12</td></tr>",
                            "<tr><td>70004</td><td>2012-08-17</td><td>110.50</td><td>Geoff Cameron </td><td>Lauson Hen </td><td>0.12</td></tr>",
                            "<tr><td>70005</td><td>2012-07-27</td><td>2400.60</td><td>Brad Davis </td><td>James Hoog</td><td>0.15</td></tr>",
                            "<tr><td>70007</td><td>2012-09-10</td><td>948.50</td><td>Graham Zusi</td><td>Nail Knite</td><td>0.13</td></tr>",
                            "<tr><td>70008</td><td>2012-09-10</td><td>5760.00</td><td>Nick Rimando</td><td>James Hoog</td><td>0.15</td></tr>",
                            "<tr><td>70010</td><td>2012-10-10</td><td>1983.43</td><td>Fabian Johnson</td><td>Mc Lyon </td><td>0.14</td></tr>",
                            "<tr><td>70011</td><td>2012-08-17</td><td>75.29</td><td>Jozy Altidor</td><td>Paul Adam </td><td>0.13</td></tr>",
                            "<tr><td>70012</td><td>2012-06-27</td><td>250.45</td><td>Julian Green </td><td>Nail Knite</td><td>0.13</td></tr>",
                            "<tr><td>70013</td><td>2012-04-25</td><td>3045.60</td><td>Nick Rimando</td><td>James Hoog</td><td>0.15</td></tr>",
                            "</table>"
                        ]
                    }
                }
            ],
            "execution_count": 5
        },
        {
            "cell_type": "code",
            "source": [
                "SELECT item_mast.pro_name As \"Item_Name\", pro_price, company.com_name\r\n",
                "   FROM item_mast \r\n",
                "     INNER JOIN company\r\n",
                "        ON item_mast.pro_com = company.com_id; "
            ],
            "metadata": {
                "language": "sql",
                "azdata_cell_guid": "e75bcae3-f449-4c68-8e2a-2325d34d6001"
            },
            "outputs": [
                {
                    "output_type": "display_data",
                    "data": {
                        "text/html": "(10 rows affected)"
                    },
                    "metadata": {}
                },
                {
                    "output_type": "display_data",
                    "data": {
                        "text/html": "Total execution time: 00:00:00.010"
                    },
                    "metadata": {}
                },
                {
                    "output_type": "execute_result",
                    "metadata": {},
                    "execution_count": 6,
                    "data": {
                        "application/vnd.dataresource+json": {
                            "schema": {
                                "fields": [
                                    {
                                        "name": "Item_Name"
                                    },
                                    {
                                        "name": "pro_price"
                                    },
                                    {
                                        "name": "com_name"
                                    }
                                ]
                            },
                            "data": [
                                {
                                    "0": "mother board",
                                    "1": "3200",
                                    "2": "asus"
                                },
                                {
                                    "0": "key board",
                                    "1": "450",
                                    "2": "frontech"
                                },
                                {
                                    "0": "ZIP drive",
                                    "1": "250",
                                    "2": "zebronics"
                                },
                                {
                                    "0": "speaker",
                                    "1": "550",
                                    "2": "frontech"
                                },
                                {
                                    "0": "Monitor",
                                    "1": "5000",
                                    "2": "samsung"
                                },
                                {
                                    "0": "DVD drive",
                                    "1": "900",
                                    "2": "iball"
                                },
                                {
                                    "0": "CD drive",
                                    "1": "800",
                                    "2": "iball"
                                },
                                {
                                    "0": "Printer",
                                    "1": "2600",
                                    "2": "epsion"
                                },
                                {
                                    "0": "Refill cartridge",
                                    "1": "350",
                                    "2": "epsion"
                                },
                                {
                                    "0": "Mouse",
                                    "1": "250",
                                    "2": "iball"
                                }
                            ]
                        },
                        "text/html": [
                            "<table>",
                            "<tr><th>Item_Name</th><th>pro_price</th><th>com_name</th></tr>",
                            "<tr><td>mother board</td><td>3200</td><td>asus</td></tr>",
                            "<tr><td>key board</td><td>450</td><td>frontech</td></tr>",
                            "<tr><td>ZIP drive</td><td>250</td><td>zebronics</td></tr>",
                            "<tr><td>speaker</td><td>550</td><td>frontech</td></tr>",
                            "<tr><td>Monitor</td><td>5000</td><td>samsung</td></tr>",
                            "<tr><td>DVD drive</td><td>900</td><td>iball</td></tr>",
                            "<tr><td>CD drive</td><td>800</td><td>iball</td></tr>",
                            "<tr><td>Printer</td><td>2600</td><td>epsion</td></tr>",
                            "<tr><td>Refill cartridge</td><td>350</td><td>epsion</td></tr>",
                            "<tr><td>Mouse</td><td>250</td><td>iball</td></tr>",
                            "</table>"
                        ]
                    }
                }
            ],
            "execution_count": 6
        },
        {
            "cell_type": "code",
            "source": [
                "SELECT AVG(pro_price) AS \"Average_Price\", company.com_name\r\n",
                "   FROM item_mast \r\n",
                "    INNER JOIN company\r\n",
                "     ON item_mast.pro_com= company.com_id\r\n",
                "      GROUP BY company.com_name\r\n",
                "        HAVING AVG(pro_price) >= 350;"
            ],
            "metadata": {
                "language": "sql",
                "azdata_cell_guid": "0e096821-3b96-4fbd-8d39-be37ce298747"
            },
            "outputs": [
                {
                    "output_type": "display_data",
                    "data": {
                        "text/html": "(5 rows affected)"
                    },
                    "metadata": {}
                },
                {
                    "output_type": "display_data",
                    "data": {
                        "text/html": "Total execution time: 00:00:00.013"
                    },
                    "metadata": {}
                },
                {
                    "output_type": "execute_result",
                    "metadata": {},
                    "execution_count": 7,
                    "data": {
                        "application/vnd.dataresource+json": {
                            "schema": {
                                "fields": [
                                    {
                                        "name": "Average_Price"
                                    },
                                    {
                                        "name": "com_name"
                                    }
                                ]
                            },
                            "data": [
                                {
                                    "0": "3200",
                                    "1": "asus"
                                },
                                {
                                    "0": "1475",
                                    "1": "epsion"
                                },
                                {
                                    "0": "500",
                                    "1": "frontech"
                                },
                                {
                                    "0": "650",
                                    "1": "iball"
                                },
                                {
                                    "0": "5000",
                                    "1": "samsung"
                                }
                            ]
                        },
                        "text/html": [
                            "<table>",
                            "<tr><th>Average_Price</th><th>com_name</th></tr>",
                            "<tr><td>3200</td><td>asus</td></tr>",
                            "<tr><td>1475</td><td>epsion</td></tr>",
                            "<tr><td>500</td><td>frontech</td></tr>",
                            "<tr><td>650</td><td>iball</td></tr>",
                            "<tr><td>5000</td><td>samsung</td></tr>",
                            "</table>"
                        ]
                    }
                }
            ],
            "execution_count": 7
        },
        {
            "cell_type": "code",
            "source": [
                "SELECT emp_details.emp_fname AS \"First_Name\", emp_lname AS \"Last_Name\",  \r\n",
                "     dpt_allotment AS \"Sanction_amount  \",\r\n",
                "\t   emp_department.dpt_name AS \"Department\"\r\n",
                "       FROM emp_details \r\n",
                "         INNER JOIN emp_department\r\n",
                "           ON emp_details.emp_DPT = emp_department.dpt_code;"
            ],
            "metadata": {
                "language": "sql",
                "azdata_cell_guid": "d6888d46-dfe5-41ec-89ce-ee985b01b501"
            },
            "outputs": [
                {
                    "output_type": "display_data",
                    "data": {
                        "text/html": "(13 rows affected)"
                    },
                    "metadata": {}
                },
                {
                    "output_type": "display_data",
                    "data": {
                        "text/html": "Total execution time: 00:00:00.023"
                    },
                    "metadata": {}
                },
                {
                    "output_type": "execute_result",
                    "metadata": {},
                    "execution_count": 8,
                    "data": {
                        "application/vnd.dataresource+json": {
                            "schema": {
                                "fields": [
                                    {
                                        "name": "First_Name"
                                    },
                                    {
                                        "name": "Last_Name"
                                    },
                                    {
                                        "name": "Sanction_amount  "
                                    },
                                    {
                                        "name": "Department"
                                    }
                                ]
                            },
                            "data": [
                                {
                                    "0": "Michale",
                                    "1": "Robbin",
                                    "2": "65000",
                                    "3": "IT"
                                },
                                {
                                    "0": "Jhon",
                                    "1": "Snares",
                                    "2": "15000",
                                    "3": "Finance"
                                },
                                {
                                    "0": "Joseph",
                                    "1": "Dosni",
                                    "2": "240000",
                                    "3": "HR"
                                },
                                {
                                    "0": "carlos",
                                    "1": "snares",
                                    "2": "15000",
                                    "3": "Finance"
                                },
                                {
                                    "0": "George",
                                    "1": "Mardy",
                                    "2": "55000",
                                    "3": "RD"
                                },
                                {
                                    "0": "Alex",
                                    "1": "Manuel",
                                    "2": "65000",
                                    "3": "IT"
                                },
                                {
                                    "0": "Alan",
                                    "1": "Snappy",
                                    "2": "55000",
                                    "3": "RD"
                                },
                                {
                                    "0": "Zanifer",
                                    "1": "Emily",
                                    "2": "240000",
                                    "3": "HR"
                                },
                                {
                                    "0": "Mario",
                                    "1": "Saule",
                                    "2": "15000",
                                    "3": "Finance"
                                },
                                {
                                    "0": "Henrey",
                                    "1": " Gabreil",
                                    "2": "240000",
                                    "3": "HR"
                                },
                                {
                                    "0": "Maria",
                                    "1": "Foster",
                                    "2": "65000",
                                    "3": "IT"
                                },
                                {
                                    "0": "Enric",
                                    "1": "Dosio",
                                    "2": "65000",
                                    "3": "IT"
                                },
                                {
                                    "0": "Kuleswar",
                                    "1": "Sitaraman",
                                    "2": "65000",
                                    "3": "IT"
                                }
                            ]
                        },
                        "text/html": [
                            "<table>",
                            "<tr><th>First_Name</th><th>Last_Name</th><th>Sanction_amount  </th><th>Department</th></tr>",
                            "<tr><td>Michale</td><td>Robbin</td><td>65000</td><td>IT</td></tr>",
                            "<tr><td>Jhon</td><td>Snares</td><td>15000</td><td>Finance</td></tr>",
                            "<tr><td>Joseph</td><td>Dosni</td><td>240000</td><td>HR</td></tr>",
                            "<tr><td>carlos</td><td>snares</td><td>15000</td><td>Finance</td></tr>",
                            "<tr><td>George</td><td>Mardy</td><td>55000</td><td>RD</td></tr>",
                            "<tr><td>Alex</td><td>Manuel</td><td>65000</td><td>IT</td></tr>",
                            "<tr><td>Alan</td><td>Snappy</td><td>55000</td><td>RD</td></tr>",
                            "<tr><td>Zanifer</td><td>Emily</td><td>240000</td><td>HR</td></tr>",
                            "<tr><td>Mario</td><td>Saule</td><td>15000</td><td>Finance</td></tr>",
                            "<tr><td>Henrey</td><td> Gabreil</td><td>240000</td><td>HR</td></tr>",
                            "<tr><td>Maria</td><td>Foster</td><td>65000</td><td>IT</td></tr>",
                            "<tr><td>Enric</td><td>Dosio</td><td>65000</td><td>IT</td></tr>",
                            "<tr><td>Kuleswar</td><td>Sitaraman</td><td>65000</td><td>IT</td></tr>",
                            "</table>"
                        ]
                    }
                }
            ],
            "execution_count": 8
        }
    ]
}